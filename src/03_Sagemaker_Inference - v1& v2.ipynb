{
 "cells": [
  {
   "cell_type": "markdown",
   "id": "ecc07950-1a77-4945-b3d8-603daa72811d",
   "metadata": {
    "tags": []
   },
   "source": [
    "# Batch Time and Real-time Prediction"
   ]
  },
  {
   "cell_type": "code",
   "execution_count": 61,
   "id": "2f1123b0-e1a4-4d15-b0eb-0ff261b8f05e",
   "metadata": {
    "tags": []
   },
   "outputs": [],
   "source": [
    "# Importing the necessary library\n",
    "import boto3\n",
    "import sagemaker\n",
    "import pandas as pd\n",
    "from joblib import dump, load\n",
    "import s3fs"
   ]
  },
  {
   "cell_type": "code",
   "execution_count": 62,
   "id": "38c09734-5219-4962-b074-c5f70128cf05",
   "metadata": {
    "tags": []
   },
   "outputs": [],
   "source": [
    "# Initialising new sagemaker session as \"sess\".\n",
    "sess = sagemaker.Session()\n",
    "# Bucket variable is used for storing the location of the bucket\n",
    "bucket = 'sagemaker-studio-009676737623-l4vs7j0o0ib'\n",
    "# Assigning the prefix variable\n",
    "prefix = 'mlops-level1-data'\n",
    "# Check for necessary permission needed for training and deploying models. \n",
    "role = sagemaker.get_execution_role()\n",
    "# To understand where this session is configured to operate.\n",
    "region = boto3.Session().region_name"
   ]
  },
  {
   "cell_type": "markdown",
   "id": "934b349c-2baf-4e8b-ae38-1c67209ee911",
   "metadata": {},
   "source": [
    "## Test Data"
   ]
  },
  {
   "cell_type": "code",
   "execution_count": 84,
   "id": "ead65cc4-bcef-4295-823c-ee42e14aa627",
   "metadata": {
    "tags": []
   },
   "outputs": [],
   "source": [
    "# Creating a string for the test path \n",
    "v1_test_data_path = f's3://{bucket}/{prefix}/data_drift_check_data/v1.gzip'\n",
    "v2_test_data_path = f's3://{bucket}/{prefix}/data_drift_check_data/v2.gzip'"
   ]
  },
  {
   "cell_type": "code",
   "execution_count": 85,
   "id": "1d1540be-cc54-4777-a9d2-80e50f6e4d19",
   "metadata": {
    "tags": []
   },
   "outputs": [
    {
     "name": "stderr",
     "output_type": "stream",
     "text": [
      "/home/ec2-user/anaconda3/envs/python3/lib/python3.10/site-packages/sklearn/base.py:347: InconsistentVersionWarning: Trying to unpickle estimator LabelEncoder from version 0.23.2 when using version 1.3.0. This might lead to breaking code or invalid results. Use at your own risk. For more info please refer to:\n",
      "https://scikit-learn.org/stable/model_persistence.html#security-maintainability-limitations\n",
      "  warnings.warn(\n"
     ]
    }
   ],
   "source": [
    "## Get Features\n",
    "fs = s3fs.S3FileSystem() # Updated method name\n",
    "filename = f's3://{bucket}/{prefix}/feature/feature.joblib'\n",
    "with fs.open(filename, encoding='utf8') as fh:\n",
    "    cols = load(fh)\n",
    "\n",
    "## Get Encoder object\n",
    "filename = f's3://{bucket}/{prefix}/feature/encoder.joblib'\n",
    "with fs.open(filename, encoding='utf8') as fh:\n",
    "    encoder = load(fh)"
   ]
  },
  {
   "cell_type": "code",
   "execution_count": 86,
   "id": "9102127c-a99e-4fab-bdc7-458f39b1e346",
   "metadata": {
    "tags": []
   },
   "outputs": [],
   "source": [
    "def preprocess_data(path,cols):\n",
    "    #df =pd.read_csv(path)\n",
    "    df = pd.read_parquet(path)\n",
    "    df.isna().sum()\n",
    "    df.dropna(inplace = True)\n",
    "    processed_test_data = df[cols]\n",
    "    test_x = processed_test_data.drop('Activity', axis = 1)\n",
    "    test_y=  processed_test_data[['Activity']]\n",
    "    print(test_x.shape, test_y.shape)\n",
    "    return test_x , test_y"
   ]
  },
  {
   "cell_type": "code",
   "execution_count": null,
   "id": "9a898a48-2df6-4689-82a2-87ad4e40617f",
   "metadata": {},
   "outputs": [],
   "source": []
  },
  {
   "cell_type": "markdown",
   "id": "f2329ca6-9a41-4a96-947f-206134b1f210",
   "metadata": {},
   "source": [
    "## Real time Model Prediction using DataFrame"
   ]
  },
  {
   "cell_type": "code",
   "execution_count": 87,
   "id": "6dd8c2ee-952c-4405-bc49-893e498f8d37",
   "metadata": {
    "tags": []
   },
   "outputs": [],
   "source": [
    "endpoint_name= 'HumanActivity-InferenceEndpoint-final-2023-09-24-0840'\n",
    "#'HumanActivity-InferenceEndpoint-final-2023-09-23-0822'"
   ]
  },
  {
   "cell_type": "code",
   "execution_count": 88,
   "id": "a98a4815-6a32-4e6d-8c5f-2be52702ac4a",
   "metadata": {
    "tags": []
   },
   "outputs": [],
   "source": [
    "import boto3\n",
    "import io\n",
    "from io import StringIO\n",
    "import json\n",
    "def real_time_prediction(test_data,endpoint_name):\n",
    "    test_file = io.StringIO()\n",
    "    test_data.to_csv(test_file,header = None, index = None) \n",
    "    client = boto3.client('sagemaker-runtime')\n",
    "    response = client.invoke_endpoint(\n",
    "                    EndpointName= endpoint_name,\n",
    "                    Body= test_file.getvalue(),\n",
    "                    ContentType = 'text/csv')\n",
    "    result = json.loads(response['Body'].read().decode())\n",
    "    return result"
   ]
  },
  {
   "cell_type": "code",
   "execution_count": null,
   "id": "40307067-84c2-4c60-b2e1-7bf5aec39fbd",
   "metadata": {},
   "outputs": [],
   "source": []
  },
  {
   "cell_type": "markdown",
   "id": "d9b7a5df-8c76-4c89-9717-82cdb73a4409",
   "metadata": {
    "tags": []
   },
   "source": [
    "## V1 Data Prediction"
   ]
  },
  {
   "cell_type": "code",
   "execution_count": null,
   "id": "7667f1a0-1951-48be-a84b-f17483adc87f",
   "metadata": {
    "tags": []
   },
   "outputs": [],
   "source": [
    "v1_test_x, v1_test_y = preprocess_data(v1_test_data_path,cols)\n",
    "v1_result = real_time_prediction(v1_test_x, endpoint_name)\n",
    "v1_prediction_df = pd.DataFrame()\n",
    "v1_prediction_df['label']= encoder.inverse_transform(v1_result)"
   ]
  },
  {
   "cell_type": "code",
   "execution_count": 69,
   "id": "79819597-7dc9-4679-bfec-c1144a122c8b",
   "metadata": {
    "tags": []
   },
   "outputs": [
    {
     "data": {
      "text/plain": [
       "Text(0, 0.5, 'Activity Count')"
      ]
     },
     "execution_count": 69,
     "metadata": {},
     "output_type": "execute_result"
    },
    {
     "data": {
      "image/png": "[encoded data removed]",
      "text/plain": [
       "<Figure size 640x480 with 1 Axes>"
      ]
     },
     "metadata": {},
     "output_type": "display_data"
    }
   ],
   "source": [
    "# Visualising the data distribution of the predicted activity column\n",
    "import matplotlib.pyplot as plt\n",
    "v1_prediction_df['label'].value_counts().plot(kind=\"bar\", title=\"Batch prediction\")\n",
    "plt.xlabel(\"Activity\")\n",
    "plt.ylabel(\"Activity Count\")"
   ]
  },
  {
   "cell_type": "markdown",
   "id": "a549bbd7-d298-4fa8-92e7-8c2fad87ee83",
   "metadata": {},
   "source": [
    "#### Prediction Evaluation"
   ]
  },
  {
   "cell_type": "code",
   "execution_count": 70,
   "id": "5a0f2793-6547-4d54-8e14-879ee33b42c3",
   "metadata": {},
   "outputs": [
    {
     "name": "stdout",
     "output_type": "stream",
     "text": [
      "                    precision    recall  f1-score   support\n",
      "\n",
      "            LAYING       1.00      1.00      1.00       111\n",
      "           SITTING       0.91      0.89      0.90        99\n",
      "          STANDING       0.88      0.92      0.90       114\n",
      "           WALKING       0.77      0.90      0.83       126\n",
      "WALKING_DOWNSTAIRS       0.89      0.94      0.92        72\n",
      "  WALKING_UPSTAIRS       0.88      0.57      0.69        87\n",
      "\n",
      "          accuracy                           0.88       609\n",
      "         macro avg       0.89      0.87      0.87       609\n",
      "      weighted avg       0.88      0.88      0.88       609\n",
      "\n"
     ]
    }
   ],
   "source": [
    "from sklearn.metrics import classification_report\n",
    "print(classification_report(v1_test_y['Activity'].values,  v1_prediction_df['label']))\n"
   ]
  },
  {
   "cell_type": "code",
   "execution_count": 71,
   "id": "a28e8189-0dd4-4758-adab-aad2b76b7285",
   "metadata": {
    "tags": []
   },
   "outputs": [
    {
     "data": {
      "text/html": [
       "<div>\n",
       "<style scoped>\n",
       "    .dataframe tbody tr th:only-of-type {\n",
       "        vertical-align: middle;\n",
       "    }\n",
       "\n",
       "    .dataframe tbody tr th {\n",
       "        vertical-align: top;\n",
       "    }\n",
       "\n",
       "    .dataframe thead th {\n",
       "        text-align: right;\n",
       "    }\n",
       "</style>\n",
       "<table border=\"1\" class=\"dataframe\">\n",
       "  <thead>\n",
       "    <tr style=\"text-align: right;\">\n",
       "      <th></th>\n",
       "      <th>angle(X,gravityMean)</th>\n",
       "      <th>tGravityAcc-mean()-X</th>\n",
       "      <th>tGravityAcc-energy()-X</th>\n",
       "      <th>tGravityAcc-max()-X</th>\n",
       "      <th>tGravityAcc-min()-X</th>\n",
       "      <th>tGravityAcc-max()-Y</th>\n",
       "      <th>tBodyAcc-max()-X</th>\n",
       "      <th>tGravityAcc-mean()-Y</th>\n",
       "      <th>tGravityAcc-min()-Y</th>\n",
       "      <th>angle(Y,gravityMean)</th>\n",
       "      <th>fBodyBodyAccJerkMag-entropy()</th>\n",
       "      <th>tGravityAcc-energy()-Y</th>\n",
       "      <th>label</th>\n",
       "      <th>prediction</th>\n",
       "    </tr>\n",
       "  </thead>\n",
       "  <tbody>\n",
       "    <tr>\n",
       "      <th>0</th>\n",
       "      <td>-0.841247</td>\n",
       "      <td>0.963396</td>\n",
       "      <td>0.899469</td>\n",
       "      <td>0.892055</td>\n",
       "      <td>0.977436</td>\n",
       "      <td>-0.161265</td>\n",
       "      <td>-0.934724</td>\n",
       "      <td>-0.140840</td>\n",
       "      <td>-0.123213</td>\n",
       "      <td>0.179941</td>\n",
       "      <td>-1.0</td>\n",
       "      <td>-0.970905</td>\n",
       "      <td>STANDING</td>\n",
       "      <td>STANDING</td>\n",
       "    </tr>\n",
       "    <tr>\n",
       "      <th>1</th>\n",
       "      <td>-0.844788</td>\n",
       "      <td>0.966561</td>\n",
       "      <td>0.907829</td>\n",
       "      <td>0.892060</td>\n",
       "      <td>0.984520</td>\n",
       "      <td>-0.161343</td>\n",
       "      <td>-0.943068</td>\n",
       "      <td>-0.141551</td>\n",
       "      <td>-0.114893</td>\n",
       "      <td>0.180289</td>\n",
       "      <td>-1.0</td>\n",
       "      <td>-0.970583</td>\n",
       "      <td>STANDING</td>\n",
       "      <td>SITTING</td>\n",
       "    </tr>\n",
       "    <tr>\n",
       "      <th>2</th>\n",
       "      <td>-0.848933</td>\n",
       "      <td>0.966878</td>\n",
       "      <td>0.908668</td>\n",
       "      <td>0.892401</td>\n",
       "      <td>0.986770</td>\n",
       "      <td>-0.163711</td>\n",
       "      <td>-0.938692</td>\n",
       "      <td>-0.142010</td>\n",
       "      <td>-0.114893</td>\n",
       "      <td>0.180637</td>\n",
       "      <td>-1.0</td>\n",
       "      <td>-0.970368</td>\n",
       "      <td>STANDING</td>\n",
       "      <td>STANDING</td>\n",
       "    </tr>\n",
       "    <tr>\n",
       "      <th>3</th>\n",
       "      <td>-0.848649</td>\n",
       "      <td>0.967615</td>\n",
       "      <td>0.910621</td>\n",
       "      <td>0.893817</td>\n",
       "      <td>0.986821</td>\n",
       "      <td>-0.163711</td>\n",
       "      <td>-0.938692</td>\n",
       "      <td>-0.143976</td>\n",
       "      <td>-0.121336</td>\n",
       "      <td>0.181935</td>\n",
       "      <td>-1.0</td>\n",
       "      <td>-0.969400</td>\n",
       "      <td>STANDING</td>\n",
       "      <td>SITTING</td>\n",
       "    </tr>\n",
       "    <tr>\n",
       "      <th>4</th>\n",
       "      <td>-0.847865</td>\n",
       "      <td>0.968224</td>\n",
       "      <td>0.912235</td>\n",
       "      <td>0.893817</td>\n",
       "      <td>0.987434</td>\n",
       "      <td>-0.166786</td>\n",
       "      <td>-0.942469</td>\n",
       "      <td>-0.148750</td>\n",
       "      <td>-0.121834</td>\n",
       "      <td>0.185151</td>\n",
       "      <td>-1.0</td>\n",
       "      <td>-0.967051</td>\n",
       "      <td>STANDING</td>\n",
       "      <td>SITTING</td>\n",
       "    </tr>\n",
       "  </tbody>\n",
       "</table>\n",
       "</div>"
      ],
      "text/plain": [
       "   angle(X,gravityMean)  tGravityAcc-mean()-X  tGravityAcc-energy()-X  \\\n",
       "0             -0.841247              0.963396                0.899469   \n",
       "1             -0.844788              0.966561                0.907829   \n",
       "2             -0.848933              0.966878                0.908668   \n",
       "3             -0.848649              0.967615                0.910621   \n",
       "4             -0.847865              0.968224                0.912235   \n",
       "\n",
       "   tGravityAcc-max()-X  tGravityAcc-min()-X  tGravityAcc-max()-Y  \\\n",
       "0             0.892055             0.977436            -0.161265   \n",
       "1             0.892060             0.984520            -0.161343   \n",
       "2             0.892401             0.986770            -0.163711   \n",
       "3             0.893817             0.986821            -0.163711   \n",
       "4             0.893817             0.987434            -0.166786   \n",
       "\n",
       "   tBodyAcc-max()-X  tGravityAcc-mean()-Y  tGravityAcc-min()-Y  \\\n",
       "0         -0.934724             -0.140840            -0.123213   \n",
       "1         -0.943068             -0.141551            -0.114893   \n",
       "2         -0.938692             -0.142010            -0.114893   \n",
       "3         -0.938692             -0.143976            -0.121336   \n",
       "4         -0.942469             -0.148750            -0.121834   \n",
       "\n",
       "   angle(Y,gravityMean)  fBodyBodyAccJerkMag-entropy()  \\\n",
       "0              0.179941                           -1.0   \n",
       "1              0.180289                           -1.0   \n",
       "2              0.180637                           -1.0   \n",
       "3              0.181935                           -1.0   \n",
       "4              0.185151                           -1.0   \n",
       "\n",
       "   tGravityAcc-energy()-Y     label prediction  \n",
       "0               -0.970905  STANDING   STANDING  \n",
       "1               -0.970583  STANDING    SITTING  \n",
       "2               -0.970368  STANDING   STANDING  \n",
       "3               -0.969400  STANDING    SITTING  \n",
       "4               -0.967051  STANDING    SITTING  "
      ]
     },
     "execution_count": 71,
     "metadata": {},
     "output_type": "execute_result"
    }
   ],
   "source": [
    "v1_test_data = v1_test_x\n",
    "v1_test_data['label'] = v1_test_y['Activity']\n",
    "v1_test_data['prediction'] =v1_prediction_df\n",
    "v1_test_data.head()"
   ]
  },
  {
   "cell_type": "code",
   "execution_count": null,
   "id": "bd6e6e7f-95be-4739-9def-d608b98db1fa",
   "metadata": {},
   "outputs": [],
   "source": []
  },
  {
   "cell_type": "markdown",
   "id": "c30a34f2-4d60-4fd5-bc91-ef1619f93b89",
   "metadata": {},
   "source": [
    "## V2"
   ]
  },
  {
   "cell_type": "code",
   "execution_count": 77,
   "id": "874e2639-fba7-4749-84d4-62300ea77c26",
   "metadata": {
    "tags": []
   },
   "outputs": [
    {
     "name": "stdout",
     "output_type": "stream",
     "text": [
      "(609, 12) (609, 1)\n"
     ]
    }
   ],
   "source": [
    "v2_test_x, v2_test_y = preprocess_data(v2_test_data_path,cols)\n",
    "v2_result = real_time_prediction(v2_test_x, endpoint_name)\n",
    "v2_prediction_df = pd.DataFrame()\n",
    "v2_prediction_df['label']= encoder.inverse_transform(v2_result)"
   ]
  },
  {
   "cell_type": "code",
   "execution_count": 73,
   "id": "d677dd4c-4177-4809-adaa-8e49901eda82",
   "metadata": {
    "tags": []
   },
   "outputs": [
    {
     "data": {
      "text/plain": [
       "Text(0, 0.5, 'Activity Count')"
      ]
     },
     "execution_count": 73,
     "metadata": {},
     "output_type": "execute_result"
    },
    {
     "data": {
      "image/png": "[encoded data removed]",
      "text/plain": [
       "<Figure size 640x480 with 1 Axes>"
      ]
     },
     "metadata": {},
     "output_type": "display_data"
    }
   ],
   "source": [
    "v2_prediction_df['label'].value_counts().plot(kind=\"bar\", title=\"Batch prediction\")\n",
    "plt.xlabel(\"Activity\")\n",
    "plt.ylabel(\"Activity Count\")"
   ]
  },
  {
   "cell_type": "code",
   "execution_count": 55,
   "id": "668fbaa4-d684-442e-8c26-8a47ea09f761",
   "metadata": {
    "tags": []
   },
   "outputs": [
    {
     "name": "stdout",
     "output_type": "stream",
     "text": [
      "                    precision    recall  f1-score   support\n",
      "\n",
      "            LAYING       1.00      1.00      1.00       111\n",
      "           SITTING       0.91      0.89      0.90        99\n",
      "          STANDING       0.88      0.92      0.90       114\n",
      "           WALKING       0.77      0.90      0.83       126\n",
      "WALKING_DOWNSTAIRS       0.89      0.94      0.92        72\n",
      "  WALKING_UPSTAIRS       0.88      0.57      0.69        87\n",
      "\n",
      "          accuracy                           0.88       609\n",
      "         macro avg       0.89      0.87      0.87       609\n",
      "      weighted avg       0.88      0.88      0.88       609\n",
      "\n"
     ]
    }
   ],
   "source": [
    "print(classification_report(v2_test_y['Activity'].values,  v2_prediction_df['label']))"
   ]
  },
  {
   "cell_type": "code",
   "execution_count": 56,
   "id": "c789bb58-13f1-4902-ba01-f022258f63dd",
   "metadata": {},
   "outputs": [
    {
     "data": {
      "text/html": [
       "<div>\n",
       "<style scoped>\n",
       "    .dataframe tbody tr th:only-of-type {\n",
       "        vertical-align: middle;\n",
       "    }\n",
       "\n",
       "    .dataframe tbody tr th {\n",
       "        vertical-align: top;\n",
       "    }\n",
       "\n",
       "    .dataframe thead th {\n",
       "        text-align: right;\n",
       "    }\n",
       "</style>\n",
       "<table border=\"1\" class=\"dataframe\">\n",
       "  <thead>\n",
       "    <tr style=\"text-align: right;\">\n",
       "      <th></th>\n",
       "      <th>angle(X,gravityMean)</th>\n",
       "      <th>tGravityAcc-mean()-X</th>\n",
       "      <th>tGravityAcc-energy()-X</th>\n",
       "      <th>tGravityAcc-max()-X</th>\n",
       "      <th>tGravityAcc-min()-X</th>\n",
       "      <th>tGravityAcc-max()-Y</th>\n",
       "      <th>tBodyAcc-max()-X</th>\n",
       "      <th>tGravityAcc-mean()-Y</th>\n",
       "      <th>tGravityAcc-min()-Y</th>\n",
       "      <th>angle(Y,gravityMean)</th>\n",
       "      <th>fBodyBodyAccJerkMag-entropy()</th>\n",
       "      <th>tGravityAcc-energy()-Y</th>\n",
       "      <th>label</th>\n",
       "      <th>prediction</th>\n",
       "    </tr>\n",
       "  </thead>\n",
       "  <tbody>\n",
       "    <tr>\n",
       "      <th>0</th>\n",
       "      <td>-0.841247</td>\n",
       "      <td>0.963396</td>\n",
       "      <td>0.899469</td>\n",
       "      <td>0.892055</td>\n",
       "      <td>0.977436</td>\n",
       "      <td>-0.161265</td>\n",
       "      <td>-0.934724</td>\n",
       "      <td>-0.140840</td>\n",
       "      <td>-0.123213</td>\n",
       "      <td>0.179941</td>\n",
       "      <td>-1.0</td>\n",
       "      <td>-0.970905</td>\n",
       "      <td>STANDING</td>\n",
       "      <td>STANDING</td>\n",
       "    </tr>\n",
       "    <tr>\n",
       "      <th>1</th>\n",
       "      <td>-0.844788</td>\n",
       "      <td>0.966561</td>\n",
       "      <td>0.907829</td>\n",
       "      <td>0.892060</td>\n",
       "      <td>0.984520</td>\n",
       "      <td>-0.161343</td>\n",
       "      <td>-0.943068</td>\n",
       "      <td>-0.141551</td>\n",
       "      <td>-0.114893</td>\n",
       "      <td>0.180289</td>\n",
       "      <td>-1.0</td>\n",
       "      <td>-0.970583</td>\n",
       "      <td>STANDING</td>\n",
       "      <td>SITTING</td>\n",
       "    </tr>\n",
       "    <tr>\n",
       "      <th>2</th>\n",
       "      <td>-0.848933</td>\n",
       "      <td>0.966878</td>\n",
       "      <td>0.908668</td>\n",
       "      <td>0.892401</td>\n",
       "      <td>0.986770</td>\n",
       "      <td>-0.163711</td>\n",
       "      <td>-0.938692</td>\n",
       "      <td>-0.142010</td>\n",
       "      <td>-0.114893</td>\n",
       "      <td>0.180637</td>\n",
       "      <td>-1.0</td>\n",
       "      <td>-0.970368</td>\n",
       "      <td>STANDING</td>\n",
       "      <td>STANDING</td>\n",
       "    </tr>\n",
       "    <tr>\n",
       "      <th>3</th>\n",
       "      <td>-0.848649</td>\n",
       "      <td>0.967615</td>\n",
       "      <td>0.910621</td>\n",
       "      <td>0.893817</td>\n",
       "      <td>0.986821</td>\n",
       "      <td>-0.163711</td>\n",
       "      <td>-0.938692</td>\n",
       "      <td>-0.143976</td>\n",
       "      <td>-0.121336</td>\n",
       "      <td>0.181935</td>\n",
       "      <td>-1.0</td>\n",
       "      <td>-0.969400</td>\n",
       "      <td>STANDING</td>\n",
       "      <td>SITTING</td>\n",
       "    </tr>\n",
       "    <tr>\n",
       "      <th>4</th>\n",
       "      <td>-0.847865</td>\n",
       "      <td>0.968224</td>\n",
       "      <td>0.912235</td>\n",
       "      <td>0.893817</td>\n",
       "      <td>0.987434</td>\n",
       "      <td>-0.166786</td>\n",
       "      <td>-0.942469</td>\n",
       "      <td>-0.148750</td>\n",
       "      <td>-0.121834</td>\n",
       "      <td>0.185151</td>\n",
       "      <td>-1.0</td>\n",
       "      <td>-0.967051</td>\n",
       "      <td>STANDING</td>\n",
       "      <td>SITTING</td>\n",
       "    </tr>\n",
       "  </tbody>\n",
       "</table>\n",
       "</div>"
      ],
      "text/plain": [
       "   angle(X,gravityMean)  tGravityAcc-mean()-X  tGravityAcc-energy()-X  \\\n",
       "0             -0.841247              0.963396                0.899469   \n",
       "1             -0.844788              0.966561                0.907829   \n",
       "2             -0.848933              0.966878                0.908668   \n",
       "3             -0.848649              0.967615                0.910621   \n",
       "4             -0.847865              0.968224                0.912235   \n",
       "\n",
       "   tGravityAcc-max()-X  tGravityAcc-min()-X  tGravityAcc-max()-Y  \\\n",
       "0             0.892055             0.977436            -0.161265   \n",
       "1             0.892060             0.984520            -0.161343   \n",
       "2             0.892401             0.986770            -0.163711   \n",
       "3             0.893817             0.986821            -0.163711   \n",
       "4             0.893817             0.987434            -0.166786   \n",
       "\n",
       "   tBodyAcc-max()-X  tGravityAcc-mean()-Y  tGravityAcc-min()-Y  \\\n",
       "0         -0.934724             -0.140840            -0.123213   \n",
       "1         -0.943068             -0.141551            -0.114893   \n",
       "2         -0.938692             -0.142010            -0.114893   \n",
       "3         -0.938692             -0.143976            -0.121336   \n",
       "4         -0.942469             -0.148750            -0.121834   \n",
       "\n",
       "   angle(Y,gravityMean)  fBodyBodyAccJerkMag-entropy()  \\\n",
       "0              0.179941                           -1.0   \n",
       "1              0.180289                           -1.0   \n",
       "2              0.180637                           -1.0   \n",
       "3              0.181935                           -1.0   \n",
       "4              0.185151                           -1.0   \n",
       "\n",
       "   tGravityAcc-energy()-Y     label prediction  \n",
       "0               -0.970905  STANDING   STANDING  \n",
       "1               -0.970583  STANDING    SITTING  \n",
       "2               -0.970368  STANDING   STANDING  \n",
       "3               -0.969400  STANDING    SITTING  \n",
       "4               -0.967051  STANDING    SITTING  "
      ]
     },
     "execution_count": 56,
     "metadata": {},
     "output_type": "execute_result"
    }
   ],
   "source": [
    "v2_test_data = v2_test_x\n",
    "v2_test_data['label'] = v2_test_y['Activity']\n",
    "v2_test_data['prediction'] =v2_prediction_df\n",
    "v2_test_data.head()"
   ]
  },
  {
   "cell_type": "code",
   "execution_count": null,
   "id": "3dcd5a65-f9a3-466f-ab1f-c96b6303f233",
   "metadata": {},
   "outputs": [],
   "source": []
  },
  {
   "cell_type": "code",
   "execution_count": 57,
   "id": "150bc622-9787-4fef-917f-c656fb709463",
   "metadata": {
    "tags": []
   },
   "outputs": [],
   "source": [
    "v1_prediction_path = f's3://{bucket}/{prefix}/data_drift_check_data/output/v1/v1_data.csv'\n",
    "v1_test_data.to_csv(v1_prediction_path, index =False)"
   ]
  },
  {
   "cell_type": "code",
   "execution_count": 58,
   "id": "9dcdfe40-e929-4dc5-822d-00264fdd18b8",
   "metadata": {
    "tags": []
   },
   "outputs": [],
   "source": [
    "v2_prediction_path = f's3://{bucket}/{prefix}/data_drift_check_data/output/v2/v2_data.csv'\n",
    "v2_test_data.to_csv(v2_prediction_path, index =False)"
   ]
  },
  {
   "cell_type": "code",
   "execution_count": null,
   "id": "8351f453-6efd-454b-a957-0cd8c435901a",
   "metadata": {},
   "outputs": [],
   "source": []
  }
 ],
 "metadata": {
  "kernelspec": {
   "display_name": "conda_python3",
   "language": "python",
   "name": "conda_python3"
  },
  "language_info": {
   "codemirror_mode": {
    "name": "ipython",
    "version": 3
   },
   "file_extension": ".py",
   "mimetype": "text/x-python",
   "name": "python",
   "nbconvert_exporter": "python",
   "pygments_lexer": "ipython3",
   "version": "3.10.12"
  }
 },
 "nbformat": 4,
 "nbformat_minor": 5
}
