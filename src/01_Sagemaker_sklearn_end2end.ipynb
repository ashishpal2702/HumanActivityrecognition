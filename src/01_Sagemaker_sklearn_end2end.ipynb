{
 "cells": [
  {
   "cell_type": "code",
   "execution_count": 7,
   "id": "78106a68-c7c1-429a-ad08-d47d53073906",
   "metadata": {
    "tags": []
   },
   "outputs": [],
   "source": [
    "##"
   ]
  },
  {
   "cell_type": "code",
   "execution_count": 1,
   "id": "2f1123b0-e1a4-4d15-b0eb-0ff261b8f05e",
   "metadata": {
    "tags": []
   },
   "outputs": [],
   "source": [
    "import boto3\n",
    "import sagemaker\n",
    "import pandas as pd\n",
    "\n",
    "sess = sagemaker.Session()\n",
    "bucket = sess.default_bucket()\n",
    "role = sagemaker.get_execution_role()\n",
    "region = boto3.Session().region_name\n",
    "prefix = 'mlops/data'\n",
    "input_source = 's3://{data_path}"
   ]
  },
  {
   "cell_type": "code",
   "execution_count": 2,
   "id": "2fe076e3-81d5-4e62-8e93-f7c48e2eb401",
   "metadata": {
    "tags": []
   },
   "outputs": [],
   "source": [
    "df = pd.read_parquet(input_source)"
   ]
  },
  {
   "cell_type": "code",
   "execution_count": 3,
   "id": "04883f19-fb82-46c0-934f-882de975f597",
   "metadata": {
    "tags": []
   },
   "outputs": [
    {
     "data": {
      "text/plain": [
       "(100000, 563)"
      ]
     },
     "execution_count": 3,
     "metadata": {},
     "output_type": "execute_result"
    }
   ],
   "source": [
    "df.shape"
   ]
  },
  {
   "cell_type": "code",
   "execution_count": 4,
   "id": "1a20a303-bb9e-4251-b808-aadb550a03ff",
   "metadata": {
    "tags": []
   },
   "outputs": [
    {
     "data": {
      "text/html": [
       "<div>\n",
       "<style scoped>\n",
       "    .dataframe tbody tr th:only-of-type {\n",
       "        vertical-align: middle;\n",
       "    }\n",
       "\n",
       "    .dataframe tbody tr th {\n",
       "        vertical-align: top;\n",
       "    }\n",
       "\n",
       "    .dataframe thead th {\n",
       "        text-align: right;\n",
       "    }\n",
       "</style>\n",
       "<table border=\"1\" class=\"dataframe\">\n",
       "  <thead>\n",
       "    <tr style=\"text-align: right;\">\n",
       "      <th></th>\n",
       "      <th>tBodyAcc-mean()-X</th>\n",
       "      <th>tBodyAcc-mean()-Y</th>\n",
       "      <th>tBodyAcc-mean()-Z</th>\n",
       "      <th>tBodyAcc-std()-X</th>\n",
       "      <th>tBodyAcc-std()-Y</th>\n",
       "      <th>tBodyAcc-std()-Z</th>\n",
       "      <th>tBodyAcc-mad()-X</th>\n",
       "      <th>tBodyAcc-mad()-Y</th>\n",
       "      <th>tBodyAcc-mad()-Z</th>\n",
       "      <th>tBodyAcc-max()-X</th>\n",
       "      <th>...</th>\n",
       "      <th>fBodyBodyGyroJerkMag-kurtosis()</th>\n",
       "      <th>angle(tBodyAccMean,gravity)</th>\n",
       "      <th>angle(tBodyAccJerkMean),gravityMean)</th>\n",
       "      <th>angle(tBodyGyroMean,gravityMean)</th>\n",
       "      <th>angle(tBodyGyroJerkMean,gravityMean)</th>\n",
       "      <th>angle(X,gravityMean)</th>\n",
       "      <th>angle(Y,gravityMean)</th>\n",
       "      <th>angle(Z,gravityMean)</th>\n",
       "      <th>Activity</th>\n",
       "      <th>date_time</th>\n",
       "    </tr>\n",
       "  </thead>\n",
       "  <tbody>\n",
       "    <tr>\n",
       "      <th>156800</th>\n",
       "      <td>0.262871</td>\n",
       "      <td>0.013216</td>\n",
       "      <td>-0.086324</td>\n",
       "      <td>0.200015</td>\n",
       "      <td>-0.156414</td>\n",
       "      <td>-0.278659</td>\n",
       "      <td>0.111663</td>\n",
       "      <td>-0.230944</td>\n",
       "      <td>-0.271890</td>\n",
       "      <td>0.580217</td>\n",
       "      <td>...</td>\n",
       "      <td>-0.741163</td>\n",
       "      <td>0.121548</td>\n",
       "      <td>-0.833951</td>\n",
       "      <td>-0.904012</td>\n",
       "      <td>0.643397</td>\n",
       "      <td>-0.994826</td>\n",
       "      <td>0.094677</td>\n",
       "      <td>0.023043</td>\n",
       "      <td>WALKING_DOWNSTAIRS</td>\n",
       "      <td>2020-01-01 01:00:00</td>\n",
       "    </tr>\n",
       "    <tr>\n",
       "      <th>105861</th>\n",
       "      <td>0.279888</td>\n",
       "      <td>-0.016259</td>\n",
       "      <td>-0.108582</td>\n",
       "      <td>-0.956027</td>\n",
       "      <td>-0.967547</td>\n",
       "      <td>-0.972543</td>\n",
       "      <td>-0.955547</td>\n",
       "      <td>-0.963617</td>\n",
       "      <td>-0.969774</td>\n",
       "      <td>-0.907162</td>\n",
       "      <td>...</td>\n",
       "      <td>-0.733630</td>\n",
       "      <td>-0.110451</td>\n",
       "      <td>0.055678</td>\n",
       "      <td>0.006752</td>\n",
       "      <td>-0.149780</td>\n",
       "      <td>0.562788</td>\n",
       "      <td>-0.284655</td>\n",
       "      <td>-0.730306</td>\n",
       "      <td>LAYING</td>\n",
       "      <td>2020-01-01 01:01:00</td>\n",
       "    </tr>\n",
       "    <tr>\n",
       "      <th>14961</th>\n",
       "      <td>0.057557</td>\n",
       "      <td>-0.065914</td>\n",
       "      <td>-0.318505</td>\n",
       "      <td>-0.204595</td>\n",
       "      <td>-0.313841</td>\n",
       "      <td>0.121934</td>\n",
       "      <td>-0.244170</td>\n",
       "      <td>-0.336566</td>\n",
       "      <td>0.132129</td>\n",
       "      <td>-0.042670</td>\n",
       "      <td>...</td>\n",
       "      <td>-0.400585</td>\n",
       "      <td>0.077258</td>\n",
       "      <td>0.625433</td>\n",
       "      <td>0.948960</td>\n",
       "      <td>-0.535123</td>\n",
       "      <td>-0.556217</td>\n",
       "      <td>0.199724</td>\n",
       "      <td>0.317411</td>\n",
       "      <td>WALKING_UPSTAIRS</td>\n",
       "      <td>2020-01-01 01:02:00</td>\n",
       "    </tr>\n",
       "    <tr>\n",
       "      <th>182560</th>\n",
       "      <td>0.166638</td>\n",
       "      <td>0.009589</td>\n",
       "      <td>-0.093877</td>\n",
       "      <td>0.075222</td>\n",
       "      <td>0.129887</td>\n",
       "      <td>-0.170282</td>\n",
       "      <td>-0.037054</td>\n",
       "      <td>0.049850</td>\n",
       "      <td>-0.245201</td>\n",
       "      <td>0.404261</td>\n",
       "      <td>...</td>\n",
       "      <td>-0.477741</td>\n",
       "      <td>0.685372</td>\n",
       "      <td>0.344247</td>\n",
       "      <td>0.781544</td>\n",
       "      <td>0.139801</td>\n",
       "      <td>-0.855667</td>\n",
       "      <td>0.187082</td>\n",
       "      <td>0.038144</td>\n",
       "      <td>WALKING_DOWNSTAIRS</td>\n",
       "      <td>2020-01-01 01:03:00</td>\n",
       "    </tr>\n",
       "    <tr>\n",
       "      <th>156371</th>\n",
       "      <td>0.277392</td>\n",
       "      <td>-0.013888</td>\n",
       "      <td>-0.114378</td>\n",
       "      <td>-0.996323</td>\n",
       "      <td>-0.993373</td>\n",
       "      <td>-0.989750</td>\n",
       "      <td>-0.997365</td>\n",
       "      <td>-0.993227</td>\n",
       "      <td>-0.989991</td>\n",
       "      <td>-0.939918</td>\n",
       "      <td>...</td>\n",
       "      <td>-0.986440</td>\n",
       "      <td>0.043316</td>\n",
       "      <td>-0.202663</td>\n",
       "      <td>-0.192810</td>\n",
       "      <td>-0.372000</td>\n",
       "      <td>-0.673985</td>\n",
       "      <td>-0.055019</td>\n",
       "      <td>-0.155311</td>\n",
       "      <td>SITTING</td>\n",
       "      <td>2020-01-01 01:04:00</td>\n",
       "    </tr>\n",
       "  </tbody>\n",
       "</table>\n",
       "<p>5 rows × 563 columns</p>\n",
       "</div>"
      ],
      "text/plain": [
       "        tBodyAcc-mean()-X  tBodyAcc-mean()-Y  tBodyAcc-mean()-Z   \n",
       "156800           0.262871           0.013216          -0.086324  \\\n",
       "105861           0.279888          -0.016259          -0.108582   \n",
       "14961            0.057557          -0.065914          -0.318505   \n",
       "182560           0.166638           0.009589          -0.093877   \n",
       "156371           0.277392          -0.013888          -0.114378   \n",
       "\n",
       "        tBodyAcc-std()-X  tBodyAcc-std()-Y  tBodyAcc-std()-Z   \n",
       "156800          0.200015         -0.156414         -0.278659  \\\n",
       "105861         -0.956027         -0.967547         -0.972543   \n",
       "14961          -0.204595         -0.313841          0.121934   \n",
       "182560          0.075222          0.129887         -0.170282   \n",
       "156371         -0.996323         -0.993373         -0.989750   \n",
       "\n",
       "        tBodyAcc-mad()-X  tBodyAcc-mad()-Y  tBodyAcc-mad()-Z   \n",
       "156800          0.111663         -0.230944         -0.271890  \\\n",
       "105861         -0.955547         -0.963617         -0.969774   \n",
       "14961          -0.244170         -0.336566          0.132129   \n",
       "182560         -0.037054          0.049850         -0.245201   \n",
       "156371         -0.997365         -0.993227         -0.989991   \n",
       "\n",
       "        tBodyAcc-max()-X  ...  fBodyBodyGyroJerkMag-kurtosis()   \n",
       "156800          0.580217  ...                        -0.741163  \\\n",
       "105861         -0.907162  ...                        -0.733630   \n",
       "14961          -0.042670  ...                        -0.400585   \n",
       "182560          0.404261  ...                        -0.477741   \n",
       "156371         -0.939918  ...                        -0.986440   \n",
       "\n",
       "        angle(tBodyAccMean,gravity)  angle(tBodyAccJerkMean),gravityMean)   \n",
       "156800                     0.121548                             -0.833951  \\\n",
       "105861                    -0.110451                              0.055678   \n",
       "14961                      0.077258                              0.625433   \n",
       "182560                     0.685372                              0.344247   \n",
       "156371                     0.043316                             -0.202663   \n",
       "\n",
       "        angle(tBodyGyroMean,gravityMean)   \n",
       "156800                         -0.904012  \\\n",
       "105861                          0.006752   \n",
       "14961                           0.948960   \n",
       "182560                          0.781544   \n",
       "156371                         -0.192810   \n",
       "\n",
       "        angle(tBodyGyroJerkMean,gravityMean)  angle(X,gravityMean)   \n",
       "156800                              0.643397             -0.994826  \\\n",
       "105861                             -0.149780              0.562788   \n",
       "14961                              -0.535123             -0.556217   \n",
       "182560                              0.139801             -0.855667   \n",
       "156371                             -0.372000             -0.673985   \n",
       "\n",
       "        angle(Y,gravityMean)  angle(Z,gravityMean)            Activity   \n",
       "156800              0.094677              0.023043  WALKING_DOWNSTAIRS  \\\n",
       "105861             -0.284655             -0.730306              LAYING   \n",
       "14961               0.199724              0.317411    WALKING_UPSTAIRS   \n",
       "182560              0.187082              0.038144  WALKING_DOWNSTAIRS   \n",
       "156371             -0.055019             -0.155311             SITTING   \n",
       "\n",
       "                 date_time  \n",
       "156800 2020-01-01 01:00:00  \n",
       "105861 2020-01-01 01:01:00  \n",
       "14961  2020-01-01 01:02:00  \n",
       "182560 2020-01-01 01:03:00  \n",
       "156371 2020-01-01 01:04:00  \n",
       "\n",
       "[5 rows x 563 columns]"
      ]
     },
     "execution_count": 4,
     "metadata": {},
     "output_type": "execute_result"
    }
   ],
   "source": [
    "df.head()\n"
   ]
  },
  {
   "cell_type": "code",
   "execution_count": 18,
   "id": "875bf014-b955-404d-8998-23fb9c71d8ca",
   "metadata": {
    "tags": []
   },
   "outputs": [
    {
     "data": {
      "text/plain": [
       "Text(0, 0.5, 'Activity Count')"
      ]
     },
     "execution_count": 18,
     "metadata": {},
     "output_type": "execute_result"
    },
    {
     "data": {
      "image/png": "[encoded data removed]",
      "text/plain": [
       "<Figure size 640x480 with 1 Axes>"
      ]
     },
     "metadata": {
      "image/png": {
       "height": 449,
       "width": 589
      }
     },
     "output_type": "display_data"
    }
   ],
   "source": [
    "import matplotlib.pyplot as plt\n",
    "\n",
    "%matplotlib inline\n",
    "%config InlineBackend.figure_format='retina'\n",
    "\n",
    "df.groupby(\"Activity\")[['Activity']].count().plot(kind=\"bar\", title=\"Breakdown by Star Rating\")\n",
    "plt.xlabel(\"Activity\")\n",
    "plt.ylabel(\"Activity Count\")"
   ]
  },
  {
   "cell_type": "markdown",
   "id": "27eab099-4c31-462b-aeaf-46d5bcc9c1d6",
   "metadata": {},
   "source": [
    "## Feature Engineering with Amazon SageMaker Processing"
   ]
  },
  {
   "cell_type": "code",
   "execution_count": 19,
   "id": "c741aa1c-4236-4157-a207-d1b02e80ba17",
   "metadata": {
    "tags": []
   },
   "outputs": [
    {
     "name": "stdout",
     "output_type": "stream",
     "text": [
      "Overwriting preprocessing.py\n"
     ]
    }
   ],
   "source": [
    "%%writefile preprocessing.py\n",
    "\n",
    "import pandas as pd\n",
    "import numpy as np\n",
    "import argparse\n",
    "import os\n",
    "from sklearn.preprocessing import LabelEncoder\n",
    "from sklearn.ensemble import ExtraTreesClassifier\n",
    "def _parse_args():\n",
    "\n",
    "    parser = argparse.ArgumentParser()\n",
    "    \n",
    "    # Data, model, and output directories\n",
    "    # model_dir is always passed in from SageMaker. By default this is a S3 path under the default bucket.\n",
    "    parser.add_argument('--filepath', type=str, default='/opt/ml/processing/input/')\n",
    "    parser.add_argument('--filename', type=str, default='Human_Activity_Recognition_Using_Smartphones_Data_augmented_timedata_sample.gzip')\n",
    "    parser.add_argument('--outputpath', type=str, default='/opt/ml/processing/output/')\n",
    "\n",
    "    return parser.parse_known_args()\n",
    "\n",
    "\n",
    "def get_top_k_features(X, Y, k):\n",
    "        clf = ExtraTreesClassifier(n_estimators=50)\n",
    "        clf = clf.fit(X, Y)\n",
    "        feature_df = pd.DataFrame(\n",
    "            data=(X.columns, clf.feature_importances_)\n",
    "        ).T.sort_values(by=1, ascending=False)\n",
    "        cols = feature_df.head(k)[0].values\n",
    "        return cols\n",
    "\n",
    "if __name__==\"__main__\":\n",
    "    # Process arguments\n",
    "    args, _ = _parse_args()\n",
    "    # Load data\n",
    "    print(args.filepath,args.filename)\n",
    "    df = pd.read_parquet(os.path.join(args.filepath, args.filename))\n",
    "    le = LabelEncoder()\n",
    "    df['Activity'] = le.fit_transform(df['Activity'])\n",
    "    df.drop(['date_time'],axis =1 ,inplace = True)\n",
    "    ##\n",
    "    X = df.drop(['Activity'], axis =1)\n",
    "    Y = df['Activity']\n",
    "    k =10\n",
    "    final_cols = get_top_k_features(X, Y, k)\n",
    "    final_cols = np.append(final_cols,np.array(['Activity']))\n",
    "    df = df[final_cols]\n",
    "    # Train, test, validation split\n",
    "    train_data, validation_data, test_data = np.split(df.sample(frac=1, random_state=42), [int(0.7 * len(df)), int(0.9 * len(df))])   # Randomly sort the data then split out first 70%, second 20%, and last 10%\n",
    "    # Local store\n",
    "    pd.concat([train_data['Activity'], train_data.drop(['Activity'], axis=1)], axis=1).to_csv(os.path.join(args.outputpath, 'train/train.csv'), index=False, header=False)\n",
    "    pd.concat([validation_data['Activity'], validation_data.drop(['Activity'], axis=1)], axis=1).to_csv(os.path.join(args.outputpath, 'validation/validation.csv'), index=False, header=False)\n",
    "    test_data[['Activity']].to_csv(os.path.join(args.outputpath, 'test/test_y.csv'), index=False, header=False)\n",
    "    test_data.drop(['Activity'], axis=1).to_csv(os.path.join(args.outputpath, 'test/test_x.csv'), index=False, header=False)\n",
    "    print(\"## Processing complete. Exiting.\")"
   ]
  },
  {
   "cell_type": "code",
   "execution_count": 20,
   "id": "5522538f-57f2-457a-8936-b11ca432384c",
   "metadata": {
    "tags": []
   },
   "outputs": [],
   "source": [
    "train_path = f\"s3://{bucket}/{prefix}/train\"\n",
    "validation_path = f\"s3://{bucket}/{prefix}/validation\"\n",
    "test_path = f\"s3://{bucket}/{prefix}/test\""
   ]
  },
  {
   "cell_type": "code",
   "execution_count": null,
   "id": "8a81247e-7128-42fb-93eb-e68351d7431e",
   "metadata": {
    "tags": []
   },
   "outputs": [],
   "source": []
  },
  {
   "cell_type": "code",
   "execution_count": 21,
   "id": "aa725f3b-c253-4c84-afd5-7a24e3a7fa81",
   "metadata": {
    "tags": []
   },
   "outputs": [
    {
     "name": "stderr",
     "output_type": "stream",
     "text": [
      "INFO:sagemaker:Creating processing-job with name sklearn-ml-train-2023-07-14-08-39-27-676\n"
     ]
    },
    {
     "name": "stdout",
     "output_type": "stream",
     "text": [
      "..........................\u001B[34m/opt/ml/processing/input/ Human_Activity_Recognition_Using_Smartphones_Data_augmented_timedata_sample.gzip\u001B[0m\n",
      "\u001B[34m## Processing complete. Exiting.\u001B[0m\n",
      "\n"
     ]
    }
   ],
   "source": [
    "# cell 09\n",
    "from sagemaker.sklearn.processing import SKLearnProcessor\n",
    "from sagemaker.processing import ProcessingInput, ProcessingOutput\n",
    "from sagemaker import get_execution_role\n",
    "\n",
    "\n",
    "sklearn_processor = SKLearnProcessor(\n",
    "    framework_version=\"0.23-1\",\n",
    "    role=get_execution_role(),\n",
    "    instance_type=\"ml.m5.large\",\n",
    "    instance_count=1, \n",
    "    base_job_name='sklearn-ml-train'\n",
    ") \n",
    "\n",
    "\n",
    "sklearn_processor.run(\n",
    "    code='preprocessing.py',\n",
    "    inputs=[\n",
    "        ProcessingInput(\n",
    "            source=input_source, \n",
    "            destination=\"/opt/ml/processing/input\",\n",
    "            s3_input_mode=\"File\",\n",
    "            s3_data_distribution_type=\"ShardedByS3Key\"\n",
    "        )\n",
    "    ],\n",
    "    outputs=[\n",
    "        ProcessingOutput(\n",
    "            output_name=\"train_data\", \n",
    "            source=\"/opt/ml/processing/output/train\",\n",
    "            destination=train_path,\n",
    "        ),\n",
    "        ProcessingOutput(output_name=\"validation_data\", source=\"/opt/ml/processing/output/validation\", destination=validation_path),\n",
    "        ProcessingOutput(output_name=\"test_data\", source=\"/opt/ml/processing/output/test\", destination=test_path),\n",
    "    ]\n",
    ")"
   ]
  },
  {
   "cell_type": "code",
   "execution_count": null,
   "id": "3d7aa892-ceb8-4d53-8027-4458e17152c1",
   "metadata": {
    "tags": []
   },
   "outputs": [],
   "source": []
  },
  {
   "cell_type": "markdown",
   "id": "3f03df72-150c-403f-a8ec-045800786489",
   "metadata": {},
   "source": [
    "## Training"
   ]
  },
  {
   "cell_type": "code",
   "execution_count": 23,
   "id": "5c264cd4-10d5-4847-b508-296ea7ee98d3",
   "metadata": {
    "tags": []
   },
   "outputs": [],
   "source": [
    "s3_input_train = sagemaker.inputs.TrainingInput(s3_data=train_path.format(bucket, prefix), \n",
    "                                                    content_type='csv')\n",
    "s3_input_validation = sagemaker.inputs.TrainingInput(s3_data=validation_path.format(bucket, prefix),\n",
    "                                                     content_type='csv')"
   ]
  },
  {
   "cell_type": "code",
   "execution_count": 24,
   "id": "1449514a-1c38-489c-a363-e205d4adc54d",
   "metadata": {
    "tags": []
   },
   "outputs": [
    {
     "name": "stdout",
     "output_type": "stream",
     "text": [
      "Overwriting sklearn-train.py\n"
     ]
    }
   ],
   "source": [
    "%%writefile sklearn-train.py\n",
    "\n",
    "from sklearn.ensemble import RandomForestClassifier\n",
    "from sklearn.metrics import accuracy_score\n",
    "from joblib import dump, load\n",
    "import pandas as pd, numpy as np, os, argparse\n",
    "\n",
    "# inference function - tells SageMaker how to load the model\n",
    "def model_fn(model_dir):\n",
    "    clf = load(os.path.join(model_dir, \"model.joblib\"))\n",
    "    return clf\n",
    "\n",
    "# Argument parser\n",
    "def _parse_args():\n",
    "    parser = argparse.ArgumentParser()\n",
    "    # Hyperparameters\n",
    "    parser.add_argument(\"--n-estimators\", type=int, default=10)\n",
    "    parser.add_argument(\"--min-samples-leaf\", type=int, default=3)\n",
    "    # Data, model, and output directories\n",
    "    parser.add_argument(\"--model-dir\", type=str, default=os.environ.get(\"SM_MODEL_DIR\"))\n",
    "    parser.add_argument(\"--train\", type=str, default=os.environ.get(\"SM_CHANNEL_TRAIN\"))\n",
    "    parser.add_argument(\"--test\", type=str, default=os.environ.get(\"SM_CHANNEL_TEST\"))\n",
    "    parser.add_argument(\"--train-file\", type=str, default=\"train.csv\")\n",
    "    parser.add_argument(\"--test-file\", type=str, default=\"test.csv\")\n",
    "    # Parse the arguments\n",
    "    return parser.parse_known_args()\n",
    "\n",
    "# Main Training Loop\n",
    "if __name__==\"__main__\":\n",
    "    # Process arguments\n",
    "    args, _ = _parse_args()\n",
    "    # Load the dataset\n",
    "    train_df = pd.read_csv(os.path.join(args.train, args.train_file))\n",
    "    test_df = pd.read_csv(os.path.join(args.test, args.test_file))\n",
    "    # Separate X and y\n",
    "    X_train, y_train = train_df.drop(train_df.columns[0], axis=1), train_df[train_df.columns[0]]\n",
    "    X_test, y_test = test_df.drop(test_df.columns[0], axis=1), test_df[test_df.columns[0]]\n",
    "    # Define the model and train it\n",
    "    model = RandomForestClassifier(\n",
    "        n_estimators=args.n_estimators, min_samples_leaf=args.min_samples_leaf, n_jobs=-1\n",
    "    )\n",
    "    model.fit(X_train, y_train)\n",
    "    # Evaluate the model performances\n",
    "    print(f'Model Accuracy: {accuracy_score(y_test, model.predict(X_test))}')\n",
    "    dump(model, os.path.join(args.model_dir, 'model.joblib'))"
   ]
  },
  {
   "cell_type": "code",
   "execution_count": 25,
   "id": "5b4fd364-fe2d-4a93-9305-3035093bcfee",
   "metadata": {
    "tags": []
   },
   "outputs": [
    {
     "name": "stderr",
     "output_type": "stream",
     "text": [
      "INFO:botocore.credentials:Found credentials from IAM Role: BaseNotebookInstanceEc2InstanceRole\n",
      "INFO:botocore.credentials:Found credentials from IAM Role: BaseNotebookInstanceEc2InstanceRole\n",
      "INFO:sagemaker:Creating training-job with name: rf-scikit-2023-07-14-08-51-41-262\n"
     ]
    },
    {
     "name": "stdout",
     "output_type": "stream",
     "text": [
      "Using provided s3_resource\n",
      "2023-07-14 08:51:41 Starting - Starting the training job...\n",
      "2023-07-14 08:51:56 Starting - Preparing the instances for training......\n",
      "2023-07-14 08:52:53 Downloading - Downloading input data...\n",
      "2023-07-14 08:53:39 Training - Training image download completed. Training in progress..\u001B[34m2023-07-14 08:53:40,423 sagemaker-containers INFO     Imported framework sagemaker_sklearn_container.training\u001B[0m\n",
      "\u001B[34m2023-07-14 08:53:40,426 sagemaker-training-toolkit INFO     No GPUs detected (normal if no gpus installed)\u001B[0m\n",
      "\u001B[34m2023-07-14 08:53:40,464 sagemaker_sklearn_container.training INFO     Invoking user training script.\u001B[0m\n",
      "\u001B[34m2023-07-14 08:53:40,613 sagemaker-training-toolkit INFO     No GPUs detected (normal if no gpus installed)\u001B[0m\n",
      "\u001B[34m2023-07-14 08:53:40,625 sagemaker-training-toolkit INFO     No GPUs detected (normal if no gpus installed)\u001B[0m\n",
      "\u001B[34m2023-07-14 08:53:40,635 sagemaker-training-toolkit INFO     No GPUs detected (normal if no gpus installed)\u001B[0m\n",
      "\u001B[34m2023-07-14 08:53:40,643 sagemaker-training-toolkit INFO     Invoking user script\u001B[0m\n",
      "\u001B[34mTraining Env:\u001B[0m\n",
      "\u001B[34m{\n",
      "    \"additional_framework_parameters\": {},\n",
      "    \"channel_input_dirs\": {\n",
      "        \"test\": \"/opt/ml/input/data/test\",\n",
      "        \"train\": \"/opt/ml/input/data/train\"\n",
      "    },\n",
      "    \"current_host\": \"algo-1\",\n",
      "    \"framework_module\": \"sagemaker_sklearn_container.training:main\",\n",
      "    \"hosts\": [\n",
      "        \"algo-1\"\n",
      "    ],\n",
      "    \"hyperparameters\": {\n",
      "        \"min-samples-leaf\": 3,\n",
      "        \"n-estimators\": 100,\n",
      "        \"test-file\": \"validation.csv\"\n",
      "    },\n",
      "    \"input_config_dir\": \"/opt/ml/input/config\",\n",
      "    \"input_data_config\": {\n",
      "        \"test\": {\n",
      "            \"ContentType\": \"csv\",\n",
      "            \"TrainingInputMode\": \"File\",\n",
      "            \"S3DistributionType\": \"FullyReplicated\",\n",
      "            \"RecordWrapperType\": \"None\"\n",
      "        },\n",
      "        \"train\": {\n",
      "            \"ContentType\": \"csv\",\n",
      "            \"TrainingInputMode\": \"File\",\n",
      "            \"S3DistributionType\": \"FullyReplicated\",\n",
      "            \"RecordWrapperType\": \"None\"\n",
      "        }\n",
      "    },\n",
      "    \"input_dir\": \"/opt/ml/input\",\n",
      "    \"is_master\": true,\n",
      "    \"job_name\": \"rf-scikit-2023-07-14-08-51-41-262\",\n",
      "    \"log_level\": 20,\n",
      "    \"master_hostname\": \"algo-1\",\n",
      "    \"model_dir\": \"/opt/ml/model\",\n",
      "    \"module_dir\": \"s3://sagemaker-us-east-1-752847213914/rf-scikit-2023-07-14-08-51-41-262/source/sourcedir.tar.gz\",\n",
      "    \"module_name\": \"sklearn-train\",\n",
      "    \"network_interface_name\": \"eth0\",\n",
      "    \"num_cpus\": 4,\n",
      "    \"num_gpus\": 0,\n",
      "    \"output_data_dir\": \"/opt/ml/output/data\",\n",
      "    \"output_dir\": \"/opt/ml/output\",\n",
      "    \"output_intermediate_dir\": \"/opt/ml/output/intermediate\",\n",
      "    \"resource_config\": {\n",
      "        \"current_host\": \"algo-1\",\n",
      "        \"current_instance_type\": \"ml.c5.xlarge\",\n",
      "        \"current_group_name\": \"homogeneousCluster\",\n",
      "        \"hosts\": [\n",
      "            \"algo-1\"\n",
      "        ],\n",
      "        \"instance_groups\": [\n",
      "            {\n",
      "                \"instance_group_name\": \"homogeneousCluster\",\n",
      "                \"instance_type\": \"ml.c5.xlarge\",\n",
      "                \"hosts\": [\n",
      "                    \"algo-1\"\n",
      "                ]\n",
      "            }\n",
      "        ],\n",
      "        \"network_interface_name\": \"eth0\"\n",
      "    },\n",
      "    \"user_entry_point\": \"sklearn-train.py\"\u001B[0m\n",
      "\u001B[34m}\u001B[0m\n",
      "\u001B[34mEnvironment variables:\u001B[0m\n",
      "\u001B[34mSM_HOSTS=[\"algo-1\"]\u001B[0m\n",
      "\u001B[34mSM_NETWORK_INTERFACE_NAME=eth0\u001B[0m\n",
      "\u001B[34mSM_HPS={\"min-samples-leaf\":3,\"n-estimators\":100,\"test-file\":\"validation.csv\"}\u001B[0m\n",
      "\u001B[34mSM_USER_ENTRY_POINT=sklearn-train.py\u001B[0m\n",
      "\u001B[34mSM_FRAMEWORK_PARAMS={}\u001B[0m\n",
      "\u001B[34mSM_RESOURCE_CONFIG={\"current_group_name\":\"homogeneousCluster\",\"current_host\":\"algo-1\",\"current_instance_type\":\"ml.c5.xlarge\",\"hosts\":[\"algo-1\"],\"instance_groups\":[{\"hosts\":[\"algo-1\"],\"instance_group_name\":\"homogeneousCluster\",\"instance_type\":\"ml.c5.xlarge\"}],\"network_interface_name\":\"eth0\"}\u001B[0m\n",
      "\u001B[34mSM_INPUT_DATA_CONFIG={\"test\":{\"ContentType\":\"csv\",\"RecordWrapperType\":\"None\",\"S3DistributionType\":\"FullyReplicated\",\"TrainingInputMode\":\"File\"},\"train\":{\"ContentType\":\"csv\",\"RecordWrapperType\":\"None\",\"S3DistributionType\":\"FullyReplicated\",\"TrainingInputMode\":\"File\"}}\u001B[0m\n",
      "\u001B[34mSM_OUTPUT_DATA_DIR=/opt/ml/output/data\u001B[0m\n",
      "\u001B[34mSM_CHANNELS=[\"test\",\"train\"]\u001B[0m\n",
      "\u001B[34mSM_CURRENT_HOST=algo-1\u001B[0m\n",
      "\u001B[34mSM_MODULE_NAME=sklearn-train\u001B[0m\n",
      "\u001B[34mSM_LOG_LEVEL=20\u001B[0m\n",
      "\u001B[34mSM_FRAMEWORK_MODULE=sagemaker_sklearn_container.training:main\u001B[0m\n",
      "\u001B[34mSM_INPUT_DIR=/opt/ml/input\u001B[0m\n",
      "\u001B[34mSM_INPUT_CONFIG_DIR=/opt/ml/input/config\u001B[0m\n",
      "\u001B[34mSM_OUTPUT_DIR=/opt/ml/output\u001B[0m\n",
      "\u001B[34mSM_NUM_CPUS=4\u001B[0m\n",
      "\u001B[34mSM_NUM_GPUS=0\u001B[0m\n",
      "\u001B[34mSM_MODEL_DIR=/opt/ml/model\u001B[0m\n",
      "\u001B[34mSM_MODULE_DIR=s3://sagemaker-us-east-1-752847213914/rf-scikit-2023-07-14-08-51-41-262/source/sourcedir.tar.gz\u001B[0m\n",
      "\u001B[34mSM_TRAINING_ENV={\"additional_framework_parameters\":{},\"channel_input_dirs\":{\"test\":\"/opt/ml/input/data/test\",\"train\":\"/opt/ml/input/data/train\"},\"current_host\":\"algo-1\",\"framework_module\":\"sagemaker_sklearn_container.training:main\",\"hosts\":[\"algo-1\"],\"hyperparameters\":{\"min-samples-leaf\":3,\"n-estimators\":100,\"test-file\":\"validation.csv\"},\"input_config_dir\":\"/opt/ml/input/config\",\"input_data_config\":{\"test\":{\"ContentType\":\"csv\",\"RecordWrapperType\":\"None\",\"S3DistributionType\":\"FullyReplicated\",\"TrainingInputMode\":\"File\"},\"train\":{\"ContentType\":\"csv\",\"RecordWrapperType\":\"None\",\"S3DistributionType\":\"FullyReplicated\",\"TrainingInputMode\":\"File\"}},\"input_dir\":\"/opt/ml/input\",\"is_master\":true,\"job_name\":\"rf-scikit-2023-07-14-08-51-41-262\",\"log_level\":20,\"master_hostname\":\"algo-1\",\"model_dir\":\"/opt/ml/model\",\"module_dir\":\"s3://sagemaker-us-east-1-752847213914/rf-scikit-2023-07-14-08-51-41-262/source/sourcedir.tar.gz\",\"module_name\":\"sklearn-train\",\"network_interface_name\":\"eth0\",\"num_cpus\":4,\"num_gpus\":0,\"output_data_dir\":\"/opt/ml/output/data\",\"output_dir\":\"/opt/ml/output\",\"output_intermediate_dir\":\"/opt/ml/output/intermediate\",\"resource_config\":{\"current_group_name\":\"homogeneousCluster\",\"current_host\":\"algo-1\",\"current_instance_type\":\"ml.c5.xlarge\",\"hosts\":[\"algo-1\"],\"instance_groups\":[{\"hosts\":[\"algo-1\"],\"instance_group_name\":\"homogeneousCluster\",\"instance_type\":\"ml.c5.xlarge\"}],\"network_interface_name\":\"eth0\"},\"user_entry_point\":\"sklearn-train.py\"}\u001B[0m\n",
      "\u001B[34mSM_USER_ARGS=[\"--min-samples-leaf\",\"3\",\"--n-estimators\",\"100\",\"--test-file\",\"validation.csv\"]\u001B[0m\n",
      "\u001B[34mSM_OUTPUT_INTERMEDIATE_DIR=/opt/ml/output/intermediate\u001B[0m\n",
      "\u001B[34mSM_CHANNEL_TEST=/opt/ml/input/data/test\u001B[0m\n",
      "\u001B[34mSM_CHANNEL_TRAIN=/opt/ml/input/data/train\u001B[0m\n",
      "\u001B[34mSM_HP_MIN-SAMPLES-LEAF=3\u001B[0m\n",
      "\u001B[34mSM_HP_N-ESTIMATORS=100\u001B[0m\n",
      "\u001B[34mSM_HP_TEST-FILE=validation.csv\u001B[0m\n",
      "\u001B[34mPYTHONPATH=/opt/ml/code:/miniconda3/bin:/miniconda3/lib/python37.zip:/miniconda3/lib/python3.7:/miniconda3/lib/python3.7/lib-dynload:/miniconda3/lib/python3.7/site-packages\u001B[0m\n",
      "\u001B[34mInvoking script with the following command:\u001B[0m\n",
      "\u001B[34m/miniconda3/bin/python sklearn-train.py --min-samples-leaf 3 --n-estimators 100 --test-file validation.csv\u001B[0m\n",
      "\u001B[34mModel Accuracy: 0.9778488924446223\u001B[0m\n",
      "\u001B[34m2023-07-14 08:53:48,273 sagemaker-containers INFO     Reporting training SUCCESS\u001B[0m\n",
      "\n",
      "2023-07-14 08:54:05 Uploading - Uploading generated training model\n",
      "2023-07-14 08:54:05 Completed - Training job completed\n",
      "Training seconds: 72\n",
      "Billable seconds: 72\n"
     ]
    }
   ],
   "source": [
    "# cell 12\n",
    "# We use the Estimator from the SageMaker Python SDK\n",
    "from sagemaker import get_execution_role\n",
    "from sagemaker.sklearn.estimator import SKLearn\n",
    "\n",
    "FRAMEWORK_VERSION = \"0.23-1\"\n",
    "\n",
    "# Define the Estimator from SageMaker (Script Mode)\n",
    "sklearn_estimator = SKLearn(\n",
    "    entry_point=\"sklearn-train.py\",\n",
    "    role=get_execution_role(),\n",
    "    instance_count=1,\n",
    "    instance_type=\"ml.c5.xlarge\",\n",
    "    framework_version=FRAMEWORK_VERSION,\n",
    "    base_job_name=\"rf-scikit\",\n",
    "    metric_definitions=[{\"Name\": \"model_accuracy\", \"Regex\": \"Model Accuracy: ([0-9.]+).*$\"}],\n",
    "    hyperparameters={\n",
    "        \"n-estimators\": 100,\n",
    "        \"min-samples-leaf\": 3,\n",
    "        \"test-file\": \"validation.csv\"\n",
    "    },\n",
    ")\n",
    "\n",
    "# Train the model (~5 minutes)\n",
    "sklearn_estimator.fit({\"train\": s3_input_train, \"test\": s3_input_validation})"
   ]
  },
  {
   "cell_type": "markdown",
   "id": "67abcfa8-6342-45bd-b81e-d664df4f5fd3",
   "metadata": {},
   "source": [
    "## Hosting"
   ]
  },
  {
   "cell_type": "code",
   "execution_count": 31,
   "id": "0f748c15-156b-43d7-a970-36a33b7ebc61",
   "metadata": {
    "tags": []
   },
   "outputs": [
    {
     "name": "stderr",
     "output_type": "stream",
     "text": [
      "INFO:sagemaker:Creating model with name: rf-scikit-2023-07-14-09-27-43-800\n",
      "INFO:sagemaker:Creating endpoint-config with name rf-scikit-2023-07-14-09-27-43-800\n",
      "INFO:sagemaker:Creating endpoint with name rf-scikit-2023-07-14-09-27-43-800\n"
     ]
    },
    {
     "name": "stdout",
     "output_type": "stream",
     "text": [
      "------!"
     ]
    }
   ],
   "source": [
    "# cell 13\n",
    "sklearn_predictor = sklearn_estimator.deploy(initial_instance_count=1,instance_type='ml.m4.xlarge')"
   ]
  },
  {
   "cell_type": "markdown",
   "id": "724b3266-405c-4072-a82b-d8d34fd0d793",
   "metadata": {},
   "source": [
    "## Prediction & Evaluation"
   ]
  },
  {
   "cell_type": "code",
   "execution_count": 33,
   "id": "221a2680-a4ad-4da2-843d-38a178584554",
   "metadata": {
    "tags": []
   },
   "outputs": [],
   "source": [
    "sklearn_predictor.serializer = sagemaker.serializers.CSVSerializer()"
   ]
  },
  {
   "cell_type": "code",
   "execution_count": null,
   "id": "d6ff9d25-00a2-4663-bbd4-65f5803a25de",
   "metadata": {
    "tags": []
   },
   "outputs": [],
   "source": [
    "!aws s3 cp $test_path/test_x.csv /tmp/test_x.csv\n",
    "!aws s3 cp $test_path/test_y.csv /tmp/test_y.csv"
   ]
  },
  {
   "cell_type": "code",
   "execution_count": 44,
   "id": "b2c09cfb-b355-4f07-a1e5-e15c9b11a2bf",
   "metadata": {
    "tags": []
   },
   "outputs": [],
   "source": [
    "test_x = pd.read_csv('/tmp/test_x.csv', names=[f'{i}' for i in range(10)])\n",
    "test_y = pd.read_csv('/tmp/test_y.csv', names=['y'])\n",
    "#predictions = sklearn_predictor.predict(test_x.values)"
   ]
  },
  {
   "cell_type": "code",
   "execution_count": 46,
   "id": "f8557a2c-999b-491e-a174-92234b491121",
   "metadata": {
    "tags": []
   },
   "outputs": [],
   "source": [
    "predictions = sklearn_predictor.predict(test_x)"
   ]
  },
  {
   "cell_type": "code",
   "execution_count": 49,
   "id": "c44ba27e-29ab-40be-8750-625e4196c981",
   "metadata": {
    "tags": []
   },
   "outputs": [
    {
     "data": {
      "text/html": [
       "<div>\n",
       "<style scoped>\n",
       "    .dataframe tbody tr th:only-of-type {\n",
       "        vertical-align: middle;\n",
       "    }\n",
       "\n",
       "    .dataframe tbody tr th {\n",
       "        vertical-align: top;\n",
       "    }\n",
       "\n",
       "    .dataframe thead th {\n",
       "        text-align: right;\n",
       "    }\n",
       "</style>\n",
       "<table border=\"1\" class=\"dataframe\">\n",
       "  <thead>\n",
       "    <tr style=\"text-align: right;\">\n",
       "      <th>predictions</th>\n",
       "      <th>0</th>\n",
       "      <th>1</th>\n",
       "      <th>2</th>\n",
       "      <th>3</th>\n",
       "      <th>4</th>\n",
       "      <th>5</th>\n",
       "    </tr>\n",
       "    <tr>\n",
       "      <th>actuals</th>\n",
       "      <th></th>\n",
       "      <th></th>\n",
       "      <th></th>\n",
       "      <th></th>\n",
       "      <th></th>\n",
       "      <th></th>\n",
       "    </tr>\n",
       "  </thead>\n",
       "  <tbody>\n",
       "    <tr>\n",
       "      <th>0</th>\n",
       "      <td>1705</td>\n",
       "      <td>0</td>\n",
       "      <td>0</td>\n",
       "      <td>0</td>\n",
       "      <td>0</td>\n",
       "      <td>0</td>\n",
       "    </tr>\n",
       "    <tr>\n",
       "      <th>1</th>\n",
       "      <td>0</td>\n",
       "      <td>1579</td>\n",
       "      <td>81</td>\n",
       "      <td>0</td>\n",
       "      <td>0</td>\n",
       "      <td>0</td>\n",
       "    </tr>\n",
       "    <tr>\n",
       "      <th>2</th>\n",
       "      <td>0</td>\n",
       "      <td>72</td>\n",
       "      <td>1599</td>\n",
       "      <td>0</td>\n",
       "      <td>0</td>\n",
       "      <td>0</td>\n",
       "    </tr>\n",
       "    <tr>\n",
       "      <th>3</th>\n",
       "      <td>0</td>\n",
       "      <td>0</td>\n",
       "      <td>0</td>\n",
       "      <td>1591</td>\n",
       "      <td>11</td>\n",
       "      <td>20</td>\n",
       "    </tr>\n",
       "    <tr>\n",
       "      <th>4</th>\n",
       "      <td>0</td>\n",
       "      <td>0</td>\n",
       "      <td>0</td>\n",
       "      <td>5</td>\n",
       "      <td>1660</td>\n",
       "      <td>15</td>\n",
       "    </tr>\n",
       "    <tr>\n",
       "      <th>5</th>\n",
       "      <td>0</td>\n",
       "      <td>0</td>\n",
       "      <td>0</td>\n",
       "      <td>11</td>\n",
       "      <td>19</td>\n",
       "      <td>1632</td>\n",
       "    </tr>\n",
       "  </tbody>\n",
       "</table>\n",
       "</div>"
      ],
      "text/plain": [
       "predictions     0     1     2     3     4     5\n",
       "actuals                                        \n",
       "0            1705     0     0     0     0     0\n",
       "1               0  1579    81     0     0     0\n",
       "2               0    72  1599     0     0     0\n",
       "3               0     0     0  1591    11    20\n",
       "4               0     0     0     5  1660    15\n",
       "5               0     0     0    11    19  1632"
      ]
     },
     "execution_count": 49,
     "metadata": {},
     "output_type": "execute_result"
    }
   ],
   "source": [
    "pd.crosstab(index=test_y['y'].values, columns=np.round(predictions), rownames=['actuals'], colnames=['predictions'])"
   ]
  },
  {
   "cell_type": "code",
   "execution_count": 52,
   "id": "ec98ce6b-ec1a-49c4-a892-a049b6ae626a",
   "metadata": {
    "tags": []
   },
   "outputs": [
    {
     "name": "stdout",
     "output_type": "stream",
     "text": [
      "              precision    recall  f1-score   support\n",
      "\n",
      "           0       1.00      1.00      1.00      1705\n",
      "           1       0.96      0.95      0.95      1660\n",
      "           2       0.95      0.96      0.95      1671\n",
      "           3       0.99      0.98      0.99      1622\n",
      "           4       0.98      0.99      0.99      1680\n",
      "           5       0.98      0.98      0.98      1662\n",
      "\n",
      "    accuracy                           0.98     10000\n",
      "   macro avg       0.98      0.98      0.98     10000\n",
      "weighted avg       0.98      0.98      0.98     10000\n",
      "\n"
     ]
    }
   ],
   "source": [
    "from sklearn.metrics import classification_report\n",
    "print(classification_report(test_y['y'].values,  predictions))"
   ]
  },
  {
   "cell_type": "code",
   "execution_count": null,
   "id": "48c1a865-7a9a-4df5-ab98-56e3ef97f492",
   "metadata": {},
   "outputs": [],
   "source": []
  },
  {
   "cell_type": "code",
   "execution_count": null,
   "id": "081f808c-4f98-423b-8ad8-c3bd5879dcc5",
   "metadata": {},
   "outputs": [],
   "source": []
  },
  {
   "cell_type": "code",
   "execution_count": null,
   "id": "3ef473a9-c577-4b81-ae6f-c73ffd5623ee",
   "metadata": {},
   "outputs": [],
   "source": []
  }
 ],
 "metadata": {
  "kernelspec": {
   "display_name": "conda_python3",
   "language": "python",
   "name": "conda_python3"
  },
  "language_info": {
   "codemirror_mode": {
    "name": "ipython",
    "version": 3
   },
   "file_extension": ".py",
   "mimetype": "text/x-python",
   "name": "python",
   "nbconvert_exporter": "python",
   "pygments_lexer": "ipython3",
   "version": "3.10.10"
  }
 },
 "nbformat": 4,
 "nbformat_minor": 5
}