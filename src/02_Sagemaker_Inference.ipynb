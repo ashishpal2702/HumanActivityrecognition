{
 "cells": [
  {
   "cell_type": "code",
   "execution_count": 7,
   "id": "78106a68-c7c1-429a-ad08-d47d53073906",
   "metadata": {
    "tags": []
   },
   "outputs": [],
   "source": [
    "##"
   ]
  },
  {
   "cell_type": "code",
   "execution_count": 8,
   "id": "2f1123b0-e1a4-4d15-b0eb-0ff261b8f05e",
   "metadata": {
    "tags": []
   },
   "outputs": [],
   "source": [
    "import boto3\n",
    "import sagemaker\n",
    "import pandas as pd\n",
    "\n",
    "sess = sagemaker.Session()\n",
    "bucket = sess.default_bucket()\n",
    "role = sagemaker.get_execution_role()\n",
    "region = boto3.Session().region_name\n",
    "prefix = 'mlops/data'"
   ]
  },
  {
   "cell_type": "markdown",
   "id": "934b349c-2baf-4e8b-ae38-1c67209ee911",
   "metadata": {},
   "source": [
    "## Test Data"
   ]
  },
  {
   "cell_type": "code",
   "execution_count": 7,
   "id": "aa0e3684-5c58-438c-a16b-f19b85d4f0b0",
   "metadata": {
    "tags": []
   },
   "outputs": [],
   "source": [
    "test_x_path = 's3://sagemaker-us-east-1-752847213914/mlops/data/test/test_x.csv'\n",
    "test_y_path = 's3://sagemaker-us-east-1-752847213914/mlops/data/test/test_y.csv'"
   ]
  },
  {
   "cell_type": "code",
   "execution_count": 136,
   "id": "49a45ba1-05f2-4cf7-abad-83c88fae491e",
   "metadata": {
    "tags": []
   },
   "outputs": [],
   "source": [
    "test_y = pd.read_csv(test_y_path, header = None)\n",
    "test_y.columns = ['y']"
   ]
  },
  {
   "cell_type": "code",
   "execution_count": 137,
   "id": "bb404f08-2bca-451e-85c0-dd04d2a47561",
   "metadata": {
    "tags": []
   },
   "outputs": [
    {
     "data": {
      "text/plain": [
       "(10000, 1)"
      ]
     },
     "execution_count": 137,
     "metadata": {},
     "output_type": "execute_result"
    }
   ],
   "source": [
    "test_y.shape"
   ]
  },
  {
   "cell_type": "code",
   "execution_count": null,
   "id": "258b05c7-ef7f-4646-b89c-410ac2a06c16",
   "metadata": {
    "tags": []
   },
   "outputs": [],
   "source": []
  },
  {
   "cell_type": "markdown",
   "id": "f2329ca6-9a41-4a96-947f-206134b1f210",
   "metadata": {},
   "source": [
    "## Model Prediction"
   ]
  },
  {
   "cell_type": "code",
   "execution_count": 21,
   "id": "5815c0ab-3fd1-40f9-960e-4360d0423cb5",
   "metadata": {
    "tags": []
   },
   "outputs": [
    {
     "name": "stderr",
     "output_type": "stream",
     "text": [
      "INFO:botocore.credentials:Found credentials from IAM Role: BaseNotebookInstanceEc2InstanceRole\n"
     ]
    }
   ],
   "source": [
    "from sagemaker.transformer import Transformer\n",
    "\n",
    "transformer = Transformer(model_name='rf-scikit-2023-07-14-09-27-43-800',instance_count=1,instance_type='ml.m5.2xlarge')"
   ]
  },
  {
   "cell_type": "code",
   "execution_count": 23,
   "id": "8d2b009f-76f1-4722-9838-4fc19f25c51d",
   "metadata": {
    "tags": []
   },
   "outputs": [],
   "source": [
    "#prediction = transformer.transform(test_x_path)"
   ]
  },
  {
   "cell_type": "code",
   "execution_count": null,
   "id": "ec98ce6b-ec1a-49c4-a892-a049b6ae626a",
   "metadata": {},
   "outputs": [],
   "source": [
    "sklearn_transformer = sklearn_estimator.transformer(\n",
    "    model_name='rf-scikit-2023-07-14-09-27-43-800',\n",
    "    instance_count=1,\n",
    "    instance_type='ml.m5.large',\n",
    "    output_path=transformer_output_path\n",
    ")"
   ]
  },
  {
   "cell_type": "code",
   "execution_count": 27,
   "id": "48c1a865-7a9a-4df5-ab98-56e3ef97f492",
   "metadata": {
    "tags": []
   },
   "outputs": [
    {
     "name": "stderr",
     "output_type": "stream",
     "text": [
      "INFO:botocore.credentials:Found credentials from IAM Role: BaseNotebookInstanceEc2InstanceRole\n",
      "INFO:sagemaker:Creating transform job with name: sagemaker-scikit-learn-2023-07-14-12-02-45-181\n"
     ]
    },
    {
     "name": "stdout",
     "output_type": "stream",
     "text": [
      "...........................\u001b[34m2023-07-14 12:07:19,903 INFO - sagemaker-containers - No GPUs detected (normal if no gpus installed)\u001b[0m\n",
      "\u001b[34m2023-07-14 12:07:19,907 INFO - sagemaker-containers - No GPUs detected (normal if no gpus installed)\u001b[0m\n",
      "\u001b[34m2023-07-14 12:07:19,908 INFO - sagemaker-containers - nginx config: \u001b[0m\n",
      "\u001b[34mworker_processes auto;\u001b[0m\n",
      "\u001b[34mdaemon off;\u001b[0m\n",
      "\u001b[34mpid /tmp/nginx.pid;\u001b[0m\n",
      "\u001b[34merror_log  /dev/stderr;\u001b[0m\n",
      "\u001b[34mworker_rlimit_nofile 4096;\u001b[0m\n",
      "\u001b[34mevents {\n",
      "  worker_connections 2048;\u001b[0m\n",
      "\u001b[34m}\u001b[0m\n",
      "\u001b[34mhttp {\n",
      "  include /etc/nginx/mime.types;\n",
      "  default_type application/octet-stream;\n",
      "  access_log /dev/stdout combined;\n",
      "  upstream gunicorn {\n",
      "    server unix:/tmp/gunicorn.sock;\n",
      "  }\n",
      "  server {\n",
      "    listen 8080 deferred;\n",
      "    client_max_body_size 0;\n",
      "    keepalive_timeout 3;\n",
      "    location ~ ^/(ping|invocations|execution-parameters) {\n",
      "      proxy_set_header X-Forwarded-For $proxy_add_x_forwarded_for;\n",
      "      proxy_set_header Host $http_host;\n",
      "      proxy_redirect off;\n",
      "      proxy_read_timeout 60s;\n",
      "      proxy_pass http://gunicorn;\n",
      "    }\n",
      "    location / {\n",
      "      return 404 \"{}\";\n",
      "    }\n",
      "  }\u001b[0m\n",
      "\u001b[34m}\u001b[0m\n",
      "\u001b[34m2023-07-14 12:07:20,198 INFO - sagemaker-containers - Module sklearn-train does not provide a setup.py. \u001b[0m\n",
      "\u001b[34mGenerating setup.py\u001b[0m\n",
      "\u001b[34m2023-07-14 12:07:20,198 INFO - sagemaker-containers - Generating setup.cfg\u001b[0m\n",
      "\u001b[34m2023-07-14 12:07:20,198 INFO - sagemaker-containers - Generating MANIFEST.in\u001b[0m\n",
      "\u001b[34m2023-07-14 12:07:20,198 INFO - sagemaker-containers - Installing module with the following command:\u001b[0m\n",
      "\u001b[34m/miniconda3/bin/python3 -m pip install . \u001b[0m\n",
      "\u001b[34mProcessing /opt/ml/code\n",
      "  Preparing metadata (setup.py): started\u001b[0m\n",
      "\u001b[34m  Preparing metadata (setup.py): finished with status 'done'\u001b[0m\n",
      "\u001b[34mBuilding wheels for collected packages: sklearn-train\n",
      "  Building wheel for sklearn-train (setup.py): started\n",
      "  Building wheel for sklearn-train (setup.py): finished with status 'done'\n",
      "  Created wheel for sklearn-train: filename=sklearn_train-1.0.0-py2.py3-none-any.whl size=4323 sha256=3504a9c08ed89bf4f4773d05611c0e902a1259e6f1066f6b673edb3893286ce7\n",
      "  Stored in directory: /home/model-server/tmp/pip-ephem-wheel-cache-tjq36k4u/wheels/3e/0f/51/2f1df833dd0412c1bc2f5ee56baac195b5be563353d111dca6\u001b[0m\n",
      "\u001b[34mSuccessfully built sklearn-train\u001b[0m\n",
      "\u001b[34mInstalling collected packages: sklearn-train\u001b[0m\n",
      "\u001b[34mSuccessfully installed sklearn-train-1.0.0\u001b[0m\n",
      "\u001b[34mWARNING: Running pip as the 'root' user can result in broken permissions and conflicting behaviour with the system package manager. It is recommended to use a virtual environment instead: https://pip.pypa.io/warnings/venv\u001b[0m\n",
      "\u001b[34m[notice] A new release of pip is available: 23.0 -> 23.1.2\u001b[0m\n",
      "\u001b[34m[notice] To update, run: pip install --upgrade pip\u001b[0m\n",
      "\u001b[34m[2023-07-14 12:07:23 +0000] [30] [INFO] Starting gunicorn 20.0.4\u001b[0m\n",
      "\u001b[34m[2023-07-14 12:07:23 +0000] [30] [INFO] Listening at: unix:/tmp/gunicorn.sock (30)\u001b[0m\n",
      "\u001b[34m[2023-07-14 12:07:23 +0000] [30] [INFO] Using worker: gevent\u001b[0m\n",
      "\u001b[34m[2023-07-14 12:07:23 +0000] [33] [INFO] Booting worker with pid: 33\u001b[0m\n",
      "\u001b[34m[2023-07-14 12:07:23 +0000] [34] [INFO] Booting worker with pid: 34\u001b[0m\n",
      "\u001b[34m2023-07-14 12:07:28,650 INFO - sagemaker-containers - No GPUs detected (normal if no gpus installed)\u001b[0m\n",
      "\u001b[35m2023-07-14 12:07:28,650 INFO - sagemaker-containers - No GPUs detected (normal if no gpus installed)\u001b[0m\n",
      "\u001b[34m169.254.255.130 - - [14/Jul/2023:12:07:29 +0000] \"GET /ping HTTP/1.1\" 200 0 \"-\" \"Go-http-client/1.1\"\u001b[0m\n",
      "\u001b[35m169.254.255.130 - - [14/Jul/2023:12:07:29 +0000] \"GET /ping HTTP/1.1\" 200 0 \"-\" \"Go-http-client/1.1\"\u001b[0m\n",
      "\u001b[34m2023-07-14 12:07:29,697 INFO - sagemaker-containers - No GPUs detected (normal if no gpus installed)\u001b[0m\n",
      "\u001b[34m169.254.255.130 - - [14/Jul/2023:12:07:30 +0000] \"GET /execution-parameters HTTP/1.1\" 404 232 \"-\" \"Go-http-client/1.1\"\u001b[0m\n",
      "\u001b[35m2023-07-14 12:07:29,697 INFO - sagemaker-containers - No GPUs detected (normal if no gpus installed)\u001b[0m\n",
      "\u001b[35m169.254.255.130 - - [14/Jul/2023:12:07:30 +0000] \"GET /execution-parameters HTTP/1.1\" 404 232 \"-\" \"Go-http-client/1.1\"\u001b[0m\n",
      "\u001b[32m2023-07-14T12:07:30.628:[sagemaker logs]: MaxConcurrentTransforms=1, MaxPayloadInMB=6, BatchStrategy=MULTI_RECORD\u001b[0m\n",
      "\u001b[34m169.254.255.130 - - [14/Jul/2023:12:07:31 +0000] \"POST /invocations HTTP/1.1\" 200 30000 \"-\" \"Go-http-client/1.1\"\u001b[0m\n",
      "\u001b[35m169.254.255.130 - - [14/Jul/2023:12:07:31 +0000] \"POST /invocations HTTP/1.1\" 200 30000 \"-\" \"Go-http-client/1.1\"\u001b[0m\n",
      "\n"
     ]
    }
   ],
   "source": [
    "# cell 18\n",
    "transformer_output_path = f\"s3://{bucket}/{prefix}/transformer-output\"\n",
    "\n",
    "sklearn_transformer = Transformer(\n",
    "    model_name='rf-scikit-2023-07-14-09-27-43-800',\n",
    "    instance_count=1,\n",
    "    instance_type='ml.m5.large',\n",
    "    output_path=transformer_output_path\n",
    ")\n",
    "\n",
    "sklearn_transformer.transform(\n",
    "    data=test_x_path,\n",
    "    data_type='S3Prefix',\n",
    "    content_type='text/csv'\n",
    ")"
   ]
  },
  {
   "cell_type": "code",
   "execution_count": 86,
   "id": "081f808c-4f98-423b-8ad8-c3bd5879dcc5",
   "metadata": {
    "tags": []
   },
   "outputs": [
    {
     "name": "stdout",
     "output_type": "stream",
     "text": [
      "download: s3://sagemaker-us-east-1-752847213914/mlops/data/transformer-output/test_x.csv.out to ../../../../tmp/predictions.csv\n"
     ]
    }
   ],
   "source": [
    "# cell 19\n",
    "!aws s3 cp $transformer_output_path/test_x.csv.out /tmp/predictions.csv"
   ]
  },
  {
   "cell_type": "code",
   "execution_count": 98,
   "id": "3ef473a9-c577-4b81-ae6f-c73ffd5623ee",
   "metadata": {
    "tags": []
   },
   "outputs": [],
   "source": [
    "with open('/tmp/predictions.txt', 'r') as r:\n",
    "    a = r.read()\n",
    "prediction = [int(x) for x in a[1:-1].split(',')]\n",
    "prediction_df = pd.DataFrame({'prediction':prediction})"
   ]
  },
  {
   "cell_type": "code",
   "execution_count": 126,
   "id": "bb45b8a5-e0c9-4fa5-8f62-3bb02ab44038",
   "metadata": {
    "tags": []
   },
   "outputs": [
    {
     "data": {
      "text/plain": [
       "((10000, 1), (10000, 1))"
      ]
     },
     "execution_count": 126,
     "metadata": {},
     "output_type": "execute_result"
    }
   ],
   "source": [
    "prediction_df.shape, test_y.shape"
   ]
  },
  {
   "cell_type": "code",
   "execution_count": 139,
   "id": "56a4154e-f8f9-4798-aeeb-87ea6ef5b490",
   "metadata": {
    "tags": []
   },
   "outputs": [
    {
     "data": {
      "text/html": [
       "<div>\n",
       "<style scoped>\n",
       "    .dataframe tbody tr th:only-of-type {\n",
       "        vertical-align: middle;\n",
       "    }\n",
       "\n",
       "    .dataframe tbody tr th {\n",
       "        vertical-align: top;\n",
       "    }\n",
       "\n",
       "    .dataframe thead th {\n",
       "        text-align: right;\n",
       "    }\n",
       "</style>\n",
       "<table border=\"1\" class=\"dataframe\">\n",
       "  <thead>\n",
       "    <tr style=\"text-align: right;\">\n",
       "      <th>predictions</th>\n",
       "      <th>0</th>\n",
       "      <th>1</th>\n",
       "      <th>2</th>\n",
       "      <th>3</th>\n",
       "      <th>4</th>\n",
       "      <th>5</th>\n",
       "    </tr>\n",
       "    <tr>\n",
       "      <th>actuals</th>\n",
       "      <th></th>\n",
       "      <th></th>\n",
       "      <th></th>\n",
       "      <th></th>\n",
       "      <th></th>\n",
       "      <th></th>\n",
       "    </tr>\n",
       "  </thead>\n",
       "  <tbody>\n",
       "    <tr>\n",
       "      <th>0</th>\n",
       "      <td>1705</td>\n",
       "      <td>0</td>\n",
       "      <td>0</td>\n",
       "      <td>0</td>\n",
       "      <td>0</td>\n",
       "      <td>0</td>\n",
       "    </tr>\n",
       "    <tr>\n",
       "      <th>1</th>\n",
       "      <td>0</td>\n",
       "      <td>1579</td>\n",
       "      <td>81</td>\n",
       "      <td>0</td>\n",
       "      <td>0</td>\n",
       "      <td>0</td>\n",
       "    </tr>\n",
       "    <tr>\n",
       "      <th>2</th>\n",
       "      <td>0</td>\n",
       "      <td>72</td>\n",
       "      <td>1599</td>\n",
       "      <td>0</td>\n",
       "      <td>0</td>\n",
       "      <td>0</td>\n",
       "    </tr>\n",
       "    <tr>\n",
       "      <th>3</th>\n",
       "      <td>0</td>\n",
       "      <td>0</td>\n",
       "      <td>0</td>\n",
       "      <td>1591</td>\n",
       "      <td>11</td>\n",
       "      <td>20</td>\n",
       "    </tr>\n",
       "    <tr>\n",
       "      <th>4</th>\n",
       "      <td>0</td>\n",
       "      <td>0</td>\n",
       "      <td>0</td>\n",
       "      <td>5</td>\n",
       "      <td>1660</td>\n",
       "      <td>15</td>\n",
       "    </tr>\n",
       "    <tr>\n",
       "      <th>5</th>\n",
       "      <td>0</td>\n",
       "      <td>0</td>\n",
       "      <td>0</td>\n",
       "      <td>11</td>\n",
       "      <td>19</td>\n",
       "      <td>1632</td>\n",
       "    </tr>\n",
       "  </tbody>\n",
       "</table>\n",
       "</div>"
      ],
      "text/plain": [
       "predictions     0     1     2     3     4     5\n",
       "actuals                                        \n",
       "0            1705     0     0     0     0     0\n",
       "1               0  1579    81     0     0     0\n",
       "2               0    72  1599     0     0     0\n",
       "3               0     0     0  1591    11    20\n",
       "4               0     0     0     5  1660    15\n",
       "5               0     0     0    11    19  1632"
      ]
     },
     "execution_count": 139,
     "metadata": {},
     "output_type": "execute_result"
    }
   ],
   "source": [
    "# cell 21\n",
    "pd.crosstab(index=test_y['y'].values, columns=prediction_df['prediction'].values, rownames=['actuals'], colnames=['predictions'])"
   ]
  },
  {
   "cell_type": "code",
   "execution_count": null,
   "id": "4af8ff3c-89ed-417b-8eb8-6509af0f63c4",
   "metadata": {},
   "outputs": [],
   "source": []
  },
  {
   "cell_type": "markdown",
   "id": "a549bbd7-d298-4fa8-92e7-8c2fad87ee83",
   "metadata": {},
   "source": [
    "### Data Analytics"
   ]
  },
  {
   "cell_type": "code",
   "execution_count": null,
   "id": "5a0f2793-6547-4d54-8e14-879ee33b42c3",
   "metadata": {},
   "outputs": [],
   "source": []
  },
  {
   "cell_type": "code",
   "execution_count": null,
   "id": "669f78c9-0e3b-4f0e-9a11-12327fa5c80b",
   "metadata": {},
   "outputs": [],
   "source": []
  }
 ],
 "metadata": {
  "kernelspec": {
   "display_name": "conda_python3",
   "language": "python",
   "name": "conda_python3"
  },
  "language_info": {
   "codemirror_mode": {
    "name": "ipython",
    "version": 3
   },
   "file_extension": ".py",
   "mimetype": "text/x-python",
   "name": "python",
   "nbconvert_exporter": "python",
   "pygments_lexer": "ipython3",
   "version": "3.10.10"
  }
 },
 "nbformat": 4,
 "nbformat_minor": 5
}
