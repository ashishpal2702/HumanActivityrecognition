{
 "cells": [
  {
   "cell_type": "markdown",
   "id": "ecc07950-1a77-4945-b3d8-603daa72811d",
   "metadata": {
    "tags": []
   },
   "source": [
    "# Batch Time and Real-time Prediction"
   ]
  },
  {
   "cell_type": "code",
   "execution_count": 14,
   "id": "2f1123b0-e1a4-4d15-b0eb-0ff261b8f05e",
   "metadata": {
    "tags": []
   },
   "outputs": [],
   "source": [
    "# Importing the necessary library\n",
    "import boto3\n",
    "import sagemaker\n",
    "import pandas as pd\n",
    "from joblib import dump, load\n",
    "import s3fs"
   ]
  },
  {
   "cell_type": "code",
   "execution_count": 15,
   "id": "38c09734-5219-4962-b074-c5f70128cf05",
   "metadata": {
    "tags": []
   },
   "outputs": [],
   "source": [
    "# Initialising new sagemaker session as \"sess\".\n",
    "sess = sagemaker.Session()\n",
    "# Bucket variable is used for storing the location of the bucket\n",
    "bucket = 'sagemaker-studio-009676737623-l4vs7j0o0ib'\n",
    "# Assigning the prefix variable\n",
    "prefix = 'mlops-level1-data'\n",
    "# Check for necessary permission needed for training and deploying models. \n",
    "role = sagemaker.get_execution_role()\n",
    "# To understand where this session is configured to operate.\n",
    "region = boto3.Session().region_name"
   ]
  },
  {
   "cell_type": "markdown",
   "id": "934b349c-2baf-4e8b-ae38-1c67209ee911",
   "metadata": {},
   "source": [
    "## Test Data"
   ]
  },
  {
   "cell_type": "code",
   "execution_count": 3,
   "id": "ead65cc4-bcef-4295-823c-ee42e14aa627",
   "metadata": {
    "tags": []
   },
   "outputs": [],
   "source": [
    "# Creating a string for the test path \n",
    "test_data_path = f's3://{bucket}/{prefix}/test_data.csv'"
   ]
  },
  {
   "cell_type": "code",
   "execution_count": 4,
   "id": "49a45ba1-05f2-4cf7-abad-83c88fae491e",
   "metadata": {
    "tags": []
   },
   "outputs": [
    {
     "data": {
      "text/plain": [
       "(610, 562)"
      ]
     },
     "execution_count": 4,
     "metadata": {},
     "output_type": "execute_result"
    }
   ],
   "source": [
    "# Importing the dataset\n",
    "test_data = pd.read_csv(test_data_path)\n",
    "test_data.shape"
   ]
  },
  {
   "cell_type": "code",
   "execution_count": 5,
   "id": "85ce8b51-8965-423b-a62a-2038d78752a1",
   "metadata": {
    "tags": []
   },
   "outputs": [
    {
     "data": {
      "text/plain": [
       "(609, 562)"
      ]
     },
     "execution_count": 5,
     "metadata": {},
     "output_type": "execute_result"
    }
   ],
   "source": [
    "# Treating missing values\n",
    "test_data.isna().sum()\n",
    "test_data.dropna(inplace = True)\n",
    "test_data.shape"
   ]
  },
  {
   "cell_type": "code",
   "execution_count": 6,
   "id": "8db18303-f6a0-4287-9d86-cb071706cdd9",
   "metadata": {
    "tags": []
   },
   "outputs": [
    {
     "name": "stderr",
     "output_type": "stream",
     "text": [
      "/home/ec2-user/anaconda3/envs/python3/lib/python3.10/site-packages/sklearn/base.py:347: InconsistentVersionWarning: Trying to unpickle estimator LabelEncoder from version 0.23.2 when using version 1.3.0. This might lead to breaking code or invalid results. Use at your own risk. For more info please refer to:\n",
      "https://scikit-learn.org/stable/model_persistence.html#security-maintainability-limitations\n",
      "  warnings.warn(\n"
     ]
    }
   ],
   "source": [
    "## Get Features\n",
    "fs = s3fs.S3FileSystem() # Updated method name\n",
    "filename = f's3://{bucket}/{prefix}/feature/feature.joblib'\n",
    "with fs.open(filename, encoding='utf8') as fh:\n",
    "    cols = load(fh)\n",
    "\n",
    "## Get Encoder object\n",
    "filename = f's3://{bucket}/{prefix}/feature/encoder.joblib'\n",
    "with fs.open(filename, encoding='utf8') as fh:\n",
    "    encoder = load(fh)"
   ]
  },
  {
   "cell_type": "code",
   "execution_count": 7,
   "id": "c6a49179-d900-48fc-9fb6-0ca13e199d03",
   "metadata": {
    "tags": []
   },
   "outputs": [
    {
     "data": {
      "text/plain": [
       "array(['tGravityAcc-energy()-X', 'tGravityAcc-mean()-X',\n",
       "       'tGravityAcc-min()-Y', 'tGravityAcc-max()-Y',\n",
       "       'tGravityAcc-mean()-Y', 'tGravityAcc-min()-X',\n",
       "       'angle(X,gravityMean)', 'tGravityAcc-max()-X',\n",
       "       'angle(Y,gravityMean)', 'tGravityAccMag-std()',\n",
       "       'tBodyAccJerk-entropy()-X', 'tBodyAcc-max()-X', 'Activity'],\n",
       "      dtype=object)"
      ]
     },
     "execution_count": 7,
     "metadata": {},
     "output_type": "execute_result"
    }
   ],
   "source": [
    "cols"
   ]
  },
  {
   "cell_type": "code",
   "execution_count": 8,
   "id": "0d2626cc-cd55-4b65-975c-52be6c150789",
   "metadata": {
    "tags": []
   },
   "outputs": [
    {
     "data": {
      "text/plain": [
       "((609, 12), (609, 1))"
      ]
     },
     "execution_count": 8,
     "metadata": {},
     "output_type": "execute_result"
    }
   ],
   "source": [
    "processed_test_data = test_data[cols]\n",
    "test_x = processed_test_data.drop('Activity', axis = 1)\n",
    "test_y= processed_test_data[['Activity']]\n",
    "test_x.shape, test_y.shape\n"
   ]
  },
  {
   "cell_type": "code",
   "execution_count": null,
   "id": "45ce7852-18f2-498b-8e0b-7f59c1769415",
   "metadata": {
    "tags": []
   },
   "outputs": [],
   "source": []
  },
  {
   "cell_type": "markdown",
   "id": "8ee7f7d2-c86d-4257-8e35-b7cad6c3dae3",
   "metadata": {},
   "source": [
    "## Save Processed Test to S3"
   ]
  },
  {
   "cell_type": "code",
   "execution_count": 9,
   "id": "876270be-b64c-4356-8f8e-baf05e6b6180",
   "metadata": {
    "tags": []
   },
   "outputs": [],
   "source": [
    "test_x_path = f\"s3://{bucket}/{prefix}/prediction/test/test_x.csv\"\n",
    "test_y_path =f\"s3://{bucket}/{prefix}/prediction/test/test_y.csv\"\n",
    "test_x.to_csv(test_x_path, index=False, header=False)\n",
    "test_y.to_csv(test_y_path, index=False, header=False)\n"
   ]
  },
  {
   "cell_type": "markdown",
   "id": "f2329ca6-9a41-4a96-947f-206134b1f210",
   "metadata": {},
   "source": [
    "## Batch Model Prediction"
   ]
  },
  {
   "cell_type": "code",
   "execution_count": 16,
   "id": "15b5d099-86e8-4b7e-b5ad-93bad8c493b7",
   "metadata": {
    "tags": []
   },
   "outputs": [],
   "source": [
    "final_model = 'HumanActivity-InferenceEndpoint-final-2023-09-24-1232' ## Update Inference Endpoint\n"
   ]
  },
  {
   "cell_type": "code",
   "execution_count": 17,
   "id": "48c1a865-7a9a-4df5-ab98-56e3ef97f492",
   "metadata": {
    "tags": []
   },
   "outputs": [
    {
     "ename": "ValueError",
     "evalue": "Failed to fetch model information for HumanActivity-InferenceEndpoint-final-2023-09-24-1232. Please ensure that the model exists. Local instance types require locally created models.",
     "output_type": "error",
     "traceback": [
      "\u001b[0;31m---------------------------------------------------------------------------\u001b[0m",
      "\u001b[0;31mClientError\u001b[0m                               Traceback (most recent call last)",
      "File \u001b[0;32m~/anaconda3/envs/python3/lib/python3.10/site-packages/sagemaker/transformer.py:500\u001b[0m, in \u001b[0;36mTransformer._retrieve_image_uri\u001b[0;34m(self)\u001b[0m\n\u001b[1;32m    499\u001b[0m \u001b[38;5;28;01mtry\u001b[39;00m:\n\u001b[0;32m--> 500\u001b[0m     model_desc \u001b[38;5;241m=\u001b[39m \u001b[38;5;28;43mself\u001b[39;49m\u001b[38;5;241;43m.\u001b[39;49m\u001b[43msagemaker_session\u001b[49m\u001b[38;5;241;43m.\u001b[39;49m\u001b[43msagemaker_client\u001b[49m\u001b[38;5;241;43m.\u001b[39;49m\u001b[43mdescribe_model\u001b[49m\u001b[43m(\u001b[49m\n\u001b[1;32m    501\u001b[0m \u001b[43m        \u001b[49m\u001b[43mModelName\u001b[49m\u001b[38;5;241;43m=\u001b[39;49m\u001b[38;5;28;43mself\u001b[39;49m\u001b[38;5;241;43m.\u001b[39;49m\u001b[43mmodel_name\u001b[49m\n\u001b[1;32m    502\u001b[0m \u001b[43m    \u001b[49m\u001b[43m)\u001b[49m\n\u001b[1;32m    504\u001b[0m     primary_container \u001b[38;5;241m=\u001b[39m model_desc\u001b[38;5;241m.\u001b[39mget(\u001b[38;5;124m\"\u001b[39m\u001b[38;5;124mPrimaryContainer\u001b[39m\u001b[38;5;124m\"\u001b[39m)\n",
      "File \u001b[0;32m~/anaconda3/envs/python3/lib/python3.10/site-packages/botocore/client.py:535\u001b[0m, in \u001b[0;36mClientCreator._create_api_method.<locals>._api_call\u001b[0;34m(self, *args, **kwargs)\u001b[0m\n\u001b[1;32m    534\u001b[0m \u001b[38;5;66;03m# The \"self\" in this scope is referring to the BaseClient.\u001b[39;00m\n\u001b[0;32m--> 535\u001b[0m \u001b[38;5;28;01mreturn\u001b[39;00m \u001b[38;5;28;43mself\u001b[39;49m\u001b[38;5;241;43m.\u001b[39;49m\u001b[43m_make_api_call\u001b[49m\u001b[43m(\u001b[49m\u001b[43moperation_name\u001b[49m\u001b[43m,\u001b[49m\u001b[43m \u001b[49m\u001b[43mkwargs\u001b[49m\u001b[43m)\u001b[49m\n",
      "File \u001b[0;32m~/anaconda3/envs/python3/lib/python3.10/site-packages/botocore/client.py:980\u001b[0m, in \u001b[0;36mBaseClient._make_api_call\u001b[0;34m(self, operation_name, api_params)\u001b[0m\n\u001b[1;32m    979\u001b[0m     error_class \u001b[38;5;241m=\u001b[39m \u001b[38;5;28mself\u001b[39m\u001b[38;5;241m.\u001b[39mexceptions\u001b[38;5;241m.\u001b[39mfrom_code(error_code)\n\u001b[0;32m--> 980\u001b[0m     \u001b[38;5;28;01mraise\u001b[39;00m error_class(parsed_response, operation_name)\n\u001b[1;32m    981\u001b[0m \u001b[38;5;28;01melse\u001b[39;00m:\n",
      "\u001b[0;31mClientError\u001b[0m: An error occurred (ValidationException) when calling the DescribeModel operation: Could not find model \"arn:aws:sagemaker:ap-south-1:009676737623:model/humanactivity-inferenceendpoint-final-2023-09-24-1232\".",
      "\nDuring handling of the above exception, another exception occurred:\n",
      "\u001b[0;31mValueError\u001b[0m                                Traceback (most recent call last)",
      "Cell \u001b[0;32mIn[17], line 11\u001b[0m\n\u001b[1;32m      2\u001b[0m transformer_output_path \u001b[38;5;241m=\u001b[39m \u001b[38;5;124mf\u001b[39m\u001b[38;5;124m\"\u001b[39m\u001b[38;5;124ms3://\u001b[39m\u001b[38;5;132;01m{\u001b[39;00mbucket\u001b[38;5;132;01m}\u001b[39;00m\u001b[38;5;124m/\u001b[39m\u001b[38;5;132;01m{\u001b[39;00mprefix\u001b[38;5;132;01m}\u001b[39;00m\u001b[38;5;124m/transformer-output\u001b[39m\u001b[38;5;124m\"\u001b[39m\n\u001b[1;32m      4\u001b[0m sklearn_transformer \u001b[38;5;241m=\u001b[39m Transformer(\n\u001b[1;32m      5\u001b[0m     model_name\u001b[38;5;241m=\u001b[39mfinal_model,\n\u001b[1;32m      6\u001b[0m     instance_count\u001b[38;5;241m=\u001b[39m\u001b[38;5;241m1\u001b[39m,\n\u001b[1;32m      7\u001b[0m     instance_type\u001b[38;5;241m=\u001b[39m\u001b[38;5;124m'\u001b[39m\u001b[38;5;124mml.m5.large\u001b[39m\u001b[38;5;124m'\u001b[39m, \n\u001b[1;32m      8\u001b[0m     output_path\u001b[38;5;241m=\u001b[39mtransformer_output_path\n\u001b[1;32m      9\u001b[0m )\n\u001b[0;32m---> 11\u001b[0m \u001b[43msklearn_transformer\u001b[49m\u001b[38;5;241;43m.\u001b[39;49m\u001b[43mtransform\u001b[49m\u001b[43m(\u001b[49m\n\u001b[1;32m     12\u001b[0m \u001b[43m    \u001b[49m\u001b[43mdata\u001b[49m\u001b[38;5;241;43m=\u001b[39;49m\u001b[43mtest_x_path\u001b[49m\u001b[43m,\u001b[49m\n\u001b[1;32m     13\u001b[0m \u001b[43m    \u001b[49m\u001b[43mdata_type\u001b[49m\u001b[38;5;241;43m=\u001b[39;49m\u001b[38;5;124;43m'\u001b[39;49m\u001b[38;5;124;43mS3Prefix\u001b[39;49m\u001b[38;5;124;43m'\u001b[39;49m\u001b[43m,\u001b[49m\n\u001b[1;32m     14\u001b[0m \u001b[43m    \u001b[49m\u001b[43mcontent_type\u001b[49m\u001b[38;5;241;43m=\u001b[39;49m\u001b[38;5;124;43m'\u001b[39;49m\u001b[38;5;124;43mtext/csv\u001b[39;49m\u001b[38;5;124;43m'\u001b[39;49m\n\u001b[1;32m     15\u001b[0m \u001b[43m)\u001b[49m\n",
      "File \u001b[0;32m~/anaconda3/envs/python3/lib/python3.10/site-packages/sagemaker/workflow/pipeline_context.py:311\u001b[0m, in \u001b[0;36mrunnable_by_pipeline.<locals>.wrapper\u001b[0;34m(*args, **kwargs)\u001b[0m\n\u001b[1;32m    307\u001b[0m         \u001b[38;5;28;01mreturn\u001b[39;00m context\n\u001b[1;32m    309\u001b[0m     \u001b[38;5;28;01mreturn\u001b[39;00m _StepArguments(retrieve_caller_name(self_instance), run_func, \u001b[38;5;241m*\u001b[39margs, \u001b[38;5;241m*\u001b[39m\u001b[38;5;241m*\u001b[39mkwargs)\n\u001b[0;32m--> 311\u001b[0m \u001b[38;5;28;01mreturn\u001b[39;00m \u001b[43mrun_func\u001b[49m\u001b[43m(\u001b[49m\u001b[38;5;241;43m*\u001b[39;49m\u001b[43margs\u001b[49m\u001b[43m,\u001b[49m\u001b[43m \u001b[49m\u001b[38;5;241;43m*\u001b[39;49m\u001b[38;5;241;43m*\u001b[39;49m\u001b[43mkwargs\u001b[49m\u001b[43m)\u001b[49m\n",
      "File \u001b[0;32m~/anaconda3/envs/python3/lib/python3.10/site-packages/sagemaker/transformer.py:258\u001b[0m, in \u001b[0;36mTransformer.transform\u001b[0;34m(self, data, data_type, content_type, compression_type, split_type, job_name, input_filter, output_filter, join_source, experiment_config, model_client_config, batch_data_capture_config, wait, logs)\u001b[0m\n\u001b[1;32m    252\u001b[0m     base_name \u001b[38;5;241m=\u001b[39m \u001b[38;5;28mself\u001b[39m\u001b[38;5;241m.\u001b[39mbase_transform_job_name\n\u001b[1;32m    254\u001b[0m     \u001b[38;5;28;01mif\u001b[39;00m base_name \u001b[38;5;129;01mis\u001b[39;00m \u001b[38;5;28;01mNone\u001b[39;00m:\n\u001b[1;32m    255\u001b[0m         base_name \u001b[38;5;241m=\u001b[39m (\n\u001b[1;32m    256\u001b[0m             \u001b[38;5;124m\"\u001b[39m\u001b[38;5;124mtransform-job\u001b[39m\u001b[38;5;124m\"\u001b[39m\n\u001b[1;32m    257\u001b[0m             \u001b[38;5;28;01mif\u001b[39;00m is_pipeline_variable(\u001b[38;5;28mself\u001b[39m\u001b[38;5;241m.\u001b[39mmodel_name)\n\u001b[0;32m--> 258\u001b[0m             \u001b[38;5;28;01melse\u001b[39;00m \u001b[38;5;28;43mself\u001b[39;49m\u001b[38;5;241;43m.\u001b[39;49m\u001b[43m_retrieve_base_name\u001b[49m\u001b[43m(\u001b[49m\u001b[43m)\u001b[49m\n\u001b[1;32m    259\u001b[0m         )\n\u001b[1;32m    261\u001b[0m     \u001b[38;5;28mself\u001b[39m\u001b[38;5;241m.\u001b[39m_current_job_name \u001b[38;5;241m=\u001b[39m name_from_base(base_name)\n\u001b[1;32m    263\u001b[0m \u001b[38;5;28;01mif\u001b[39;00m \u001b[38;5;28mself\u001b[39m\u001b[38;5;241m.\u001b[39moutput_path \u001b[38;5;129;01mis\u001b[39;00m \u001b[38;5;28;01mNone\u001b[39;00m \u001b[38;5;129;01mor\u001b[39;00m \u001b[38;5;28mself\u001b[39m\u001b[38;5;241m.\u001b[39m_reset_output_path \u001b[38;5;129;01mis\u001b[39;00m \u001b[38;5;28;01mTrue\u001b[39;00m:\n",
      "File \u001b[0;32m~/anaconda3/envs/python3/lib/python3.10/site-packages/sagemaker/transformer.py:490\u001b[0m, in \u001b[0;36mTransformer._retrieve_base_name\u001b[0;34m(self)\u001b[0m\n\u001b[1;32m    488\u001b[0m \u001b[38;5;28;01mdef\u001b[39;00m \u001b[38;5;21m_retrieve_base_name\u001b[39m(\u001b[38;5;28mself\u001b[39m):\n\u001b[1;32m    489\u001b[0m \u001b[38;5;250m    \u001b[39m\u001b[38;5;124;03m\"\"\"Placeholder docstring\"\"\"\u001b[39;00m\n\u001b[0;32m--> 490\u001b[0m     image_uri \u001b[38;5;241m=\u001b[39m \u001b[38;5;28;43mself\u001b[39;49m\u001b[38;5;241;43m.\u001b[39;49m\u001b[43m_retrieve_image_uri\u001b[49m\u001b[43m(\u001b[49m\u001b[43m)\u001b[49m\n\u001b[1;32m    492\u001b[0m     \u001b[38;5;28;01mif\u001b[39;00m image_uri:\n\u001b[1;32m    493\u001b[0m         \u001b[38;5;28;01mreturn\u001b[39;00m base_name_from_image(image_uri, default_base_name\u001b[38;5;241m=\u001b[39mTransformer\u001b[38;5;241m.\u001b[39mJOB_CLASS_NAME)\n",
      "File \u001b[0;32m~/anaconda3/envs/python3/lib/python3.10/site-packages/sagemaker/transformer.py:515\u001b[0m, in \u001b[0;36mTransformer._retrieve_image_uri\u001b[0;34m(self)\u001b[0m\n\u001b[1;32m    512\u001b[0m     \u001b[38;5;28;01mreturn\u001b[39;00m \u001b[38;5;28;01mNone\u001b[39;00m\n\u001b[1;32m    514\u001b[0m \u001b[38;5;28;01mexcept\u001b[39;00m exceptions\u001b[38;5;241m.\u001b[39mClientError:\n\u001b[0;32m--> 515\u001b[0m     \u001b[38;5;28;01mraise\u001b[39;00m \u001b[38;5;167;01mValueError\u001b[39;00m(\n\u001b[1;32m    516\u001b[0m         \u001b[38;5;124m\"\u001b[39m\u001b[38;5;124mFailed to fetch model information for \u001b[39m\u001b[38;5;132;01m%s\u001b[39;00m\u001b[38;5;124m. \u001b[39m\u001b[38;5;124m\"\u001b[39m\n\u001b[1;32m    517\u001b[0m         \u001b[38;5;124m\"\u001b[39m\u001b[38;5;124mPlease ensure that the model exists. \u001b[39m\u001b[38;5;124m\"\u001b[39m\n\u001b[1;32m    518\u001b[0m         \u001b[38;5;124m\"\u001b[39m\u001b[38;5;124mLocal instance types require locally created models.\u001b[39m\u001b[38;5;124m\"\u001b[39m \u001b[38;5;241m%\u001b[39m \u001b[38;5;28mself\u001b[39m\u001b[38;5;241m.\u001b[39mmodel_name\n\u001b[1;32m    519\u001b[0m     )\n",
      "\u001b[0;31mValueError\u001b[0m: Failed to fetch model information for HumanActivity-InferenceEndpoint-final-2023-09-24-1232. Please ensure that the model exists. Local instance types require locally created models."
     ]
    }
   ],
   "source": [
    "from sagemaker.transformer import Transformer\n",
    "transformer_output_path = f\"s3://{bucket}/{prefix}/transformer-output\"\n",
    "\n",
    "sklearn_transformer = Transformer(\n",
    "    model_name=final_model,\n",
    "    instance_count=1,\n",
    "    instance_type='ml.m5.large', \n",
    "    output_path=transformer_output_path\n",
    ")\n",
    "\n",
    "sklearn_transformer.transform(\n",
    "    data=test_x_path,\n",
    "    data_type='S3Prefix',\n",
    "    content_type='text/csv'\n",
    ")"
   ]
  },
  {
   "cell_type": "code",
   "execution_count": 75,
   "id": "081f808c-4f98-423b-8ad8-c3bd5879dcc5",
   "metadata": {
    "tags": []
   },
   "outputs": [
    {
     "name": "stdout",
     "output_type": "stream",
     "text": [
      "download: s3://sagemaker-studio-009676737623-l4vs7j0o0ib/mlops-level1-data/transformer-output/test_x.csv.out to ./predictions.csv\n"
     ]
    }
   ],
   "source": [
    "# cell 19\n",
    "!aws s3 cp $transformer_output_path/test_x.csv.out ./predictions.csv\n"
   ]
  },
  {
   "cell_type": "code",
   "execution_count": 76,
   "id": "3ef473a9-c577-4b81-ae6f-c73ffd5623ee",
   "metadata": {
    "tags": []
   },
   "outputs": [],
   "source": [
    "with open('./predictions.csv', 'r') as r:\n",
    "    a = r.read()\n",
    "prediction = [int(x) for x in a[1:-1].split(',')]\n",
    "prediction_df = pd.DataFrame({'prediction':prediction})\n"
   ]
  },
  {
   "cell_type": "code",
   "execution_count": 77,
   "id": "b7911143-6857-410c-a57a-3a3e4162c7e8",
   "metadata": {
    "tags": []
   },
   "outputs": [
    {
     "name": "stderr",
     "output_type": "stream",
     "text": [
      "/home/ec2-user/anaconda3/envs/python3/lib/python3.10/site-packages/sklearn/preprocessing/_label.py:153: DataConversionWarning: A column-vector y was passed when a 1d array was expected. Please change the shape of y to (n_samples, ), for example using ravel().\n",
      "  y = column_or_1d(y, warn=True)\n"
     ]
    }
   ],
   "source": [
    "prediction_df['label']= encoder.inverse_transform(prediction_df)\n"
   ]
  },
  {
   "cell_type": "code",
   "execution_count": 78,
   "id": "93cc5917-1876-4612-b0a9-b0ae8b24341b",
   "metadata": {
    "tags": []
   },
   "outputs": [
    {
     "data": {
      "text/plain": [
       "label\n",
       "STANDING              169\n",
       "WALKING               144\n",
       "LAYING                111\n",
       "SITTING                90\n",
       "WALKING_UPSTAIRS       78\n",
       "WALKING_DOWNSTAIRS     17\n",
       "Name: count, dtype: int64"
      ]
     },
     "execution_count": 78,
     "metadata": {},
     "output_type": "execute_result"
    }
   ],
   "source": [
    "prediction_df['label'].value_counts()\n"
   ]
  },
  {
   "cell_type": "code",
   "execution_count": 82,
   "id": "79819597-7dc9-4679-bfec-c1144a122c8b",
   "metadata": {
    "tags": []
   },
   "outputs": [
    {
     "data": {
      "text/plain": [
       "Text(0, 0.5, 'Activity Count')"
      ]
     },
     "execution_count": 82,
     "metadata": {},
     "output_type": "execute_result"
    },
    {
     "data": {
      "image/png": "[encoded data removed]",
      "text/plain": [
       "<Figure size 640x480 with 1 Axes>"
      ]
     },
     "metadata": {
      "image/png": {
       "height": 605,
       "width": 571
      }
     },
     "output_type": "display_data"
    }
   ],
   "source": [
    "# Visualising the data distribution of the predicted activity column\n",
    "import matplotlib.pyplot as plt\n",
    "prediction_df['label'].value_counts().plot(kind=\"bar\", title=\"Batch prediction\")\n",
    "plt.xlabel(\"Activity\")\n",
    "plt.ylabel(\"Activity Count\")"
   ]
  },
  {
   "cell_type": "markdown",
   "id": "a549bbd7-d298-4fa8-92e7-8c2fad87ee83",
   "metadata": {},
   "source": [
    "### Prediction Evaluation"
   ]
  },
  {
   "cell_type": "code",
   "execution_count": 81,
   "id": "5a0f2793-6547-4d54-8e14-879ee33b42c3",
   "metadata": {},
   "outputs": [
    {
     "name": "stdout",
     "output_type": "stream",
     "text": [
      "                    precision    recall  f1-score   support\n",
      "\n",
      "            LAYING       1.00      1.00      1.00       111\n",
      "           SITTING       1.00      0.91      0.95        99\n",
      "          STANDING       0.67      1.00      0.81       114\n",
      "           WALKING       0.65      0.74      0.69       126\n",
      "WALKING_DOWNSTAIRS       1.00      0.24      0.38        72\n",
      "  WALKING_UPSTAIRS       0.62      0.55      0.58        87\n",
      "\n",
      "          accuracy                           0.78       609\n",
      "         macro avg       0.82      0.74      0.74       609\n",
      "      weighted avg       0.81      0.78      0.76       609\n",
      "\n"
     ]
    }
   ],
   "source": [
    "from sklearn.metrics import classification_report\n",
    "print(classification_report(test_y['Activity'].values,  prediction_df['label']))\n"
   ]
  },
  {
   "cell_type": "code",
   "execution_count": null,
   "id": "669f78c9-0e3b-4f0e-9a11-12327fa5c80b",
   "metadata": {},
   "outputs": [],
   "source": []
  },
  {
   "cell_type": "markdown",
   "id": "9fa8bd57-6cfc-415a-862d-66afcdb8a592",
   "metadata": {},
   "source": [
    "# Real time Prediction"
   ]
  },
  {
   "cell_type": "code",
   "execution_count": 81,
   "id": "0e1d7fee-fa8b-478e-9d81-2fded2fa5058",
   "metadata": {
    "tags": []
   },
   "outputs": [],
   "source": [
    "def real_time_prediction(data,ENDPOINT_NAME):\n",
    "    runtime= boto3.client('runtime.sagemaker')\n",
    "    df = data.copy()\n",
    "    n = df.shape[0]\n",
    "    if n == 1:\n",
    "        df = pd.concat([df,df])\n",
    "    payload_data = df.to_csv(header=False, index=False).encode(\"utf-8\")\n",
    "    print(df.shape)\n",
    "    response = runtime.invoke_endpoint(EndpointName=ENDPOINT_NAME,\n",
    "                                      ContentType='text/csv',\n",
    "                                      Body=payload_data)\n",
    "    result = json.loads(response['Body'].read().decode())\n",
    "    preds = {\"Prediction\": result}\n",
    "    if n == 1:\n",
    "        preds = {'Prediction': preds['Prediction'][0]}\n",
    "    response_dict = {\n",
    "          \"statusCode\": 200,\n",
    "          \"body\": json.dumps(preds)\n",
    "                }\n",
    "    return response_dict"
   ]
  },
  {
   "cell_type": "code",
   "execution_count": 84,
   "id": "893634e0-21bf-43de-8c2f-597ebdf04f50",
   "metadata": {
    "tags": []
   },
   "outputs": [
    {
     "name": "stdout",
     "output_type": "stream",
     "text": [
      "(10, 12)\n"
     ]
    },
    {
     "data": {
      "text/plain": [
       "{'statusCode': 200, 'body': '{\"Prediction\": [2, 2, 2, 1, 2, 2, 2, 2, 2, 2]}'}"
      ]
     },
     "execution_count": 84,
     "metadata": {},
     "output_type": "execute_result"
    }
   ],
   "source": [
    "real_time_prediction(test_x.iloc[0:10], 'rf-scikit-2023-09-19-06-34-16-121')"
   ]
  },
  {
   "cell_type": "code",
   "execution_count": 58,
   "id": "668fbaa4-d684-442e-8c26-8a47ea09f761",
   "metadata": {
    "tags": []
   },
   "outputs": [],
   "source": [
    "client = boto3.client('sagemaker-runtime')"
   ]
  },
  {
   "cell_type": "code",
   "execution_count": 55,
   "id": "c789bb58-13f1-4902-ba01-f022258f63dd",
   "metadata": {},
   "outputs": [],
   "source": [
    "endpoint_name = 'HumanActivity-InferenceEndpoint-final-2023-09-24-1232'"
   ]
  },
  {
   "cell_type": "code",
   "execution_count": 93,
   "id": "3dcd5a65-f9a3-466f-ab1f-c96b6303f233",
   "metadata": {},
   "outputs": [],
   "source": [
    "from sagemaker.predictor import Predictor\n",
    "from sagemaker.serializers import CSVSerializer, JSONSerializer\n",
    "from sagemaker.deserializers import CSVDeserializer , JSONDeserializer\n",
    "\n",
    "predictor_csv = Predictor(endpoint_name=endpoint_name,\n",
    "                      serializer=CSVSerializer(),\n",
    "                     deserializer=CSVDeserializer())"
   ]
  },
  {
   "cell_type": "code",
   "execution_count": null,
   "id": "41848b52-b5e5-4779-bb51-eaa2cb5cb3e7",
   "metadata": {
    "tags": []
   },
   "outputs": [],
   "source": []
  },
  {
   "cell_type": "code",
   "execution_count": 94,
   "id": "e1f1b2e3-eb4b-4582-bbec-e475da1e19d4",
   "metadata": {
    "tags": []
   },
   "outputs": [],
   "source": [
    "prediction = predictor_csv.predict(test_x.sample(100))"
   ]
  },
  {
   "cell_type": "code",
   "execution_count": 105,
   "id": "ed292957-4b9d-4629-a5f0-a9a14ae6d1e1",
   "metadata": {},
   "outputs": [],
   "source": [
    "data_capture = 's3://sagemaker-studio-009676737623-l4vs7j0o0ib/mlops-level1-data/datacapture/HumanActivity-InferenceEndpoint-final-2023-09-24-1232/AllTraffic/2023/09/24/17/19-51-197-85b5945f-2161-44ba-b0a9-5888de4fb654.jsonl'"
   ]
  },
  {
   "cell_type": "code",
   "execution_count": 106,
   "id": "d17cb1a8-39d7-434b-9e24-20669e9258aa",
   "metadata": {
    "tags": []
   },
   "outputs": [],
   "source": [
    "json_df = pd.read_json(data_capture,lines=True)"
   ]
  },
  {
   "cell_type": "code",
   "execution_count": 107,
   "id": "75a52440-e81e-4adc-bd9e-6e7fde45165b",
   "metadata": {
    "tags": []
   },
   "outputs": [
    {
     "data": {
      "text/html": [
       "<div>\n",
       "<style scoped>\n",
       "    .dataframe tbody tr th:only-of-type {\n",
       "        vertical-align: middle;\n",
       "    }\n",
       "\n",
       "    .dataframe tbody tr th {\n",
       "        vertical-align: top;\n",
       "    }\n",
       "\n",
       "    .dataframe thead th {\n",
       "        text-align: right;\n",
       "    }\n",
       "</style>\n",
       "<table border=\"1\" class=\"dataframe\">\n",
       "  <thead>\n",
       "    <tr style=\"text-align: right;\">\n",
       "      <th></th>\n",
       "      <th>captureData</th>\n",
       "      <th>eventMetadata</th>\n",
       "      <th>eventVersion</th>\n",
       "    </tr>\n",
       "  </thead>\n",
       "  <tbody>\n",
       "    <tr>\n",
       "      <th>0</th>\n",
       "      <td>{'endpointInput': {'observedContentType': 'tex...</td>\n",
       "      <td>{'eventId': '051fdb3c-a274-4b3f-b3f6-efa3228b2...</td>\n",
       "      <td>0</td>\n",
       "    </tr>\n",
       "  </tbody>\n",
       "</table>\n",
       "</div>"
      ],
      "text/plain": [
       "                                         captureData  \\\n",
       "0  {'endpointInput': {'observedContentType': 'tex...   \n",
       "\n",
       "                                       eventMetadata  eventVersion  \n",
       "0  {'eventId': '051fdb3c-a274-4b3f-b3f6-efa3228b2...             0  "
      ]
     },
     "execution_count": 107,
     "metadata": {},
     "output_type": "execute_result"
    }
   ],
   "source": [
    "json_df"
   ]
  },
  {
   "cell_type": "code",
   "execution_count": 126,
   "id": "ca7528bb-e669-469e-9d7b-640353ea10e2",
   "metadata": {
    "tags": []
   },
   "outputs": [],
   "source": [
    "input_data = json_df['captureData'][0]['endpointInput']['data']"
   ]
  },
  {
   "cell_type": "code",
   "execution_count": 136,
   "id": "cec5e96c-8d7e-4820-af39-8431d39c6701",
   "metadata": {
    "tags": []
   },
   "outputs": [],
   "source": [
    "output_data = input_data.replace(\"\\n\",'\",\"')"
   ]
  },
  {
   "cell_type": "code",
   "execution_count": 137,
   "id": "f65bb9f4-8a09-478b-b1f6-1fae6765a64a",
   "metadata": {
    "tags": []
   },
   "outputs": [
    {
     "data": {
      "text/plain": [
       "'0.71769343,0.89284081,-0.37339565,-0.38395603,-0.38445152,0.89714403,-0.61481141,0.82788708,0.34778005,-0.26406953,0.55353237,-0.20506262\",\"-0.90294148,-0.16876892,0.89378867,0.88001315,0.91490323,-0.25035687,0.36427666,-0.079814823,-0.8048647,0.022248669,-0.035489337,-0.91333655\",\"0.9078289,0.96656113,-0.11489334,-0.16134256,-0.14155127,0.98452014,-0.8447876,0.89206031,0.18028889,-0.97605707,-0.8750964,-0.94306751\",\"-0.83176745,-0.0467126879999999,0.81005646,0.74729201,0.7954083000000001,-0.0063605256,0.27705205,-0.11604333,-0.5781225,-0.99684745,-0.77431943,-0.93606548\",\"0.89946864,0.96339614,-0.12321341,-0.16126549,-0.14083968,0.97743631,-0.84124676,0.89205451,0.17994061,-0.9505515,-0.81994925,-0.93472378\",\"0.66848961,0.8731213,-0.37146773,-0.40507089,-0.39366157,0.87952385,-0.61186062,0.80423112,0.35803868,-0.32439212,0.64509465,-0.28933765\",\"0.77250946,0.91447109,-0.29856637,-0.32447691,-0.31989706,0.91986778,-0.69838906,0.8587444,0.30487801,-0.40943463,0.65285338,-0.23294709\",\"0.77447497,0.91483438,-0.38446113,-0.27596009,-0.35690044,0.88532134,-0.63167705,0.88821432,0.32585368,-0.37826897,0.58986008,-0.24205853\",\"0.78075212,0.91772734,-0.27873559,-0.32027507,-0.30504418,0.93102244,-0.6958270000000001,0.84902831,0.29368831,-0.25003269,0.71515324,-0.16706044\",\"0.91223466,0.9682244,-0.12183357,-0.1667862,-0.14875022,0.98743352,-0.84786525,0.89381715,0.18515116,-0.99127536,-0.8507439,-0.94246912\",\"0.66320554,0.87096991,-0.38360077,-0.40409126,-0.40623017,0.88422223,-0.58022841,0.81257433,0.36396722,-0.43875401,0.38412668,-0.21872645\",\"0.87128393,0.95268931,-0.22241649,-0.25878406,-0.24891956,0.96936324,-0.77410047,0.8815021000000001,0.25368941,-0.29851218,0.77556431,-0.19308909\",\"0.80963708,0.92898153,-0.29145508,-0.3335086,-0.32122621,0.94857737,-0.69100363,0.85738055,0.3031072999999999,-0.96403669,-0.68430751,-0.93209243\",\"0.87626443,0.95458893,-0.23064937,-0.28034554,-0.26049928,0.97436858,-0.76370208,0.8799811,0.26110336,-0.99776154,-0.8750964,-0.94288961\",\"-0.97971987,-0.32615383,0.77249724,0.7196531999999999,0.76275314,-0.28104324,0.48486444,-0.38513866,-0.53666594,-0.96343746,-0.64972874,-0.93584074\",\"0.90678898,0.96615372,0.0334069529999999,0.026888818,0.027252822,0.9737096,-0.90215262,0.89732171,0.065279822,-0.80474785,-0.44320363,-0.92578835\",\"-0.93448046,-0.20760682,0.78503566,0.72298922,0.76992271,-0.16324532,0.39801973,-0.27547292,-0.54555047,-0.99389022,-0.81760141,-0.93844914\",\"0.90866783,0.9668781,-0.11489334,-0.16371122,-0.14200984,0.9867701,-0.84893347,0.89240056,0.18063731,-0.98801962,-0.75362867,-0.93869155\",\"0.67258341,0.87478155,0.16504084,0.11586273,0.14485798,0.8963139000000001,-0.64625395,0.80180866,-0.016451134,-0.99825604,-0.74826155,-0.9432431\",\"0.78344797,0.91878808,0.13221826,0.079301006,0.10814091,0.93895274,-0.73720647,0.84453652,0.0094325248,-0.99298246,-0.74384037,-0.94241476\",\"0.84247579,0.94166056,-0.26045107,-0.29639147,-0.28041065,0.95942041,-0.73011132,0.86762854,0.27503272,-0.94121969,-0.43094751,-0.91231496\",\"0.82866744,0.9363432,-0.27971888,-0.32663611,-0.30874001,0.9548592,-0.70963125,0.86258698,0.29443087,-0.95397583,-0.61963371,-0.92592838\",\"0.66983258,0.87363124,-0.37146773,-0.40507089,-0.39570514,0.87601619,-0.60972248,0.81586597,0.3591928,-0.25852865,0.66141937,-0.086209483\",\"-0.97257359,-0.30192641,0.77738017,0.71650349,0.76297445,-0.26177552,0.46719177,-0.36697557,-0.53718838,-0.97844958,-0.47077963,-0.93421122\",\"0.81836879,0.9323586,-0.27865855,-0.31681267,-0.30419659,0.94670359,-0.70012483,0.86438865,0.29125043,-0.18246415,0.79084503,-0.072467819\",\"0.79762768,0.92431613,-0.31623694,-0.35930299,-0.34471813,0.94375174,-0.67929492,0.85164939,0.3195845,-0.99127751,-0.82823515,-0.93388726\",\"-0.96519669,-0.57349604,0.15331707,0.72043391,0.52510468,-0.70993531,0.66828427,-0.36339946,-0.3366412,-0.040902739,0.35508381,-0.86629617\",\"0.79802726,0.92446366,-0.2763623,-0.30422888,-0.29921642,0.93858199,-0.70570209,0.85784936,0.28920797,-0.23621482,0.58736339,-0.22939244\",\"0.8087965,0.92865584,-0.29166749,-0.34067063,-0.32283349,0.94857737,-0.69060593,0.85565364,0.30426017,-0.98893243,-0.73721977,-0.93806096\",\"0.11567687,0.62745102,0.43370891,0.37855379,0.41503721,0.65132063,-0.3167322,0.55810315,-0.21772934,-0.99550157,-0.91577638,-0.9416171\",\"0.72037343,0.89390779,-0.31707983,-0.35453055,-0.34204157,0.90283853,-0.67132627,0.82917445,0.32217212,-0.26536176,0.66157946,-0.081914436\",\"0.78059997,0.91767493,0.14105564,0.088276627,0.11742018,0.937953,-0.73394659,0.8436243,0.0030167146,-0.99526772,-0.79746479,-0.9411516\",\"0.87016777,0.95226274,-0.23696276,-0.25765371,-0.25175686,0.96570391,-0.77000474,0.88192907,0.25555509,-0.25965723,0.77819576,-0.21304722\",\"0.69089738,0.88212534,-0.38322353,-0.39834279,-0.3918715,0.88791488,-0.59730194,0.81847655,0.35331708,-0.50807055,0.30270773,-0.068281487\",\"-0.96505101,-0.27962596,0.87401702,0.81140117,0.86052731,-0.23379328,0.45128744,-0.34801602,-0.66001692,-0.99648768,-0.67987689,-0.93389358\",\"-0.967909,-0.28781038,0.93872016,0.88618789,0.9304777,-0.24931088,0.45779998,-0.35127683,-0.77716051,-0.78262396,-0.52794504,-0.90721557\",\"0.8739058000000001,0.95366394,-0.21020539,-0.24568607,-0.23485919,0.96109993,-0.76866085,0.89035647,0.24366469,-0.14063733,0.46544312,0.46194193\",\"0.88867302,0.95929939,-0.20040846,-0.2269277,-0.2204156,0.97001624,-0.80223567,0.89149757,0.23416634,-0.047252457,0.61221692,0.19967601\",\"0.78331092,0.91868692,-0.26844711,-0.28144689,-0.28803831,0.92314735,-0.71841233,0.86443791,0.28283857,0.012254553,0.56564611,0.46508764\",\"-0.92128668,-0.18194696,0.86588014,0.80235897,0.85208652,-0.13806245,0.37977699,-0.25051891,-0.64731968,-0.99375204,-0.77871779,-0.94034944\",\"0.86817219,0.95148753,0.0043763286,0.047859079,0.01682111,0.96528189,-0.78391062,0.88735097,0.072615419,-0.82125375,-0.64648094,-0.93807424\",\"0.81078882,0.92942237,-0.27335119,-0.30606823,-0.29501043,0.94456604,-0.71032462,0.8633911,0.28582479,-0.24067096,0.68266575,-0.13966211\",\"0.83434772,0.93853171,-0.25376679,-0.28550492,-0.27272021,0.95563757,-0.72696651,0.86709448,0.26992128,-0.24400555,0.67094293,0.1364858\",\"0.79395927,0.92288852,-0.31799919,-0.36426116,-0.34699961,0.94334821,-0.6738962,0.84852292,0.32102549,-0.99766583,-0.86267325,-0.93830071\",\"0.85684005,0.94715881,-0.23766547,-0.27423586,-0.26440906,0.95842022,-0.7560886,0.88192907,0.26439169,-0.24911625,0.59711934,-0.19884218\",\"0.72619509,0.89621101,-0.36319259,-0.36916588,-0.36755024,0.90133262,-0.63641997,0.83511126,0.33714909,-0.22604094,0.59262207,-0.030022122\",\"0.91062071,0.96761519,-0.12133575,-0.16371122,-0.14397645,0.98682105,-0.84864938,0.89381715,0.18193476,-0.98642135,-0.82080419,-0.93869155\",\"0.57709208,0.83566368,0.1212898,0.15158093,0.16067501,0.84957326,-0.56480737,0.79063055,-0.027044798,-0.93195422,-0.7051801,-0.93189578\",\"0.67781262,0.87687012,-0.38207645,-0.39851687,-0.39668956,0.88645416,-0.59115485,0.81449232,0.35714695,-0.32105138,0.6028656,-0.19990383\",\"0.81691778,0.93175456,-0.24801787,-0.26751944,-0.25879565,0.92706007,-0.74214702,0.87184928,0.26172929,-0.018405505,0.51304828,0.38238815\",\"0.85193846,0.94528949,-0.23557967,-0.26961908,-0.25759208,0.96009576,-0.74306269,0.87526418,0.25932779,-0.44148975,0.65815365,-0.23624919\",\"0.87982953,0.9559322,-0.21494006,-0.24240056,-0.23036262,0.96469418,-0.78240745,0.89176707,0.24078236,-0.05093268,0.51400503,0.57623469\",\"0.58303525,0.83815738,0.30540379,0.25619913,0.2887825999999999,0.85779691,-0.59060002,0.76830828,-0.11973478,-0.97310233,-0.75295471,-0.94298619\",\"0.81674913,0.93173645,-0.29117267,-0.32708143,-0.31468974,0.94939974,-0.69731277,0.85923334,0.29851594,-0.97761407,-0.71650316,-0.93209243\",\"0.4592818,0.78579977,0.33319885,0.27696004,0.31174844,0.80927837,-0.51060024,0.71208874,-0.13724409,-0.99837362,-0.80735107,-0.94004279\",\"0.80741829,0.92811872,-0.29378536,-0.32916387,-0.31810399,0.94418619,-0.68396674,0.85808986,0.30057561,-0.16479027,0.65257825,-0.20577194\",\"-0.97252507,-0.30336177,0.92383965,0.88591939,0.91828313,-0.28064783,0.46914411,-0.32954983,-0.75058451,-0.80367303,-0.73439992,-0.92598021\",\"0.79822646,0.92454971,-0.31122792,-0.36047757,-0.34272485,0.94492456,-0.67817866,0.85010033,0.31805261,-0.99679782,-0.93067589,-0.94414924\",\"0.82861639,0.93632021,-0.23936998,-0.26537373,-0.25912452,0.95223536,-0.73067323,0.86695174,0.26090367,-0.36526784,0.72854629,0.12901307\",\"-0.92589132,-0.75875146,-0.032167846,-0.066390056,-0.045998244,-0.70250277,0.79917435,-0.822801,0.11596031,-0.9901396,-0.74826155,-0.93775406\",\"0.79562756,0.92353812,-0.30188609,-0.34640884,-0.32963491,0.94312006,-0.67977531,0.84928692,0.30909256,-0.99750704,-0.83927424,-0.94333385\",\"0.67268543,0.87482213,0.15705003,0.11069293,0.14006721,0.89495487,-0.64514606,0.80223406,-0.013061244,-0.99577426,-0.76982813,-0.93978877\",\"0.88342509,0.95731352,0.10338021,0.053628705,0.080647526,0.97629723,-0.86563931,0.88362924,0.028542597,-0.98727623,-0.81760141,-0.94318908\",\"0.58455207,0.83878762,0.16770112,0.14121255,0.15070183,0.85834757,-0.58280626,0.76878451,-0.020755925,-0.50812531,-0.4086980999999999,-0.73715155\",\"0.76551315,0.91165931,-0.39242723,-0.34853575,-0.36886927,0.90349615,-0.65124697,0.85518111,0.33663542,-0.83307338,-0.70802088,-0.89741823\",\"0.72368026,0.89521737,-0.33418356,-0.3673901,-0.355796,0.90041159,-0.65803196,0.83068058,0.33079212,-0.42796573,0.47336611,-0.21511695\",\"-0.97417489,-0.30704684,0.77738017,0.71726014,0.76351573,-0.26351182,0.47099001,-0.36888991,-0.53731587,-0.94633979,-0.39814711,-0.89127681\",\"0.82386672,0.93448232,-0.23531964,-0.27615147,-0.26060904,0.94336346,-0.72706069,0.8655795000000001,0.26199066,-0.33337089,0.80665391,-0.0815583459999999\",\"0.78823339,0.92047538,-0.27014435,-0.30323389,-0.28857121,0.91007038,-0.7129991,0.87750879,0.28267442,0.16777303,0.64821177,0.51664656\",\"0.5801554,0.83695957,0.16770112,0.14608124,0.15187734,0.85049913,-0.57936742,0.76602185,-0.0215668929999999,-0.97105963,-0.83183196,-0.935389\",\"0.81330454,0.93039415,-0.26253704,-0.30048419,-0.28701156,0.94444172,-0.7077538000000001,0.86724801,0.27994709,-0.36097685,0.68108647,-0.056051189\",\"0.84320045,0.94193674,-0.22702946,-0.27410086,-0.25575938,0.95376412,-0.76460055,0.87181197,0.25932627,-0.25305003,0.62471008,-0.091285176\",\"0.80454895,0.92698246,-0.27894839,-0.32090594,-0.30575951,0.93038776,-0.69729805,0.86599523,0.29294262,-0.32816169,0.57447656,-0.0530249209999999\",\"-0.92691522,-0.75672502,-0.080349227,0.090769079,-0.05899586,-0.71024001,0.79692828,-0.8177253000000001,0.12501854,-0.7499689,-0.52742279,-0.92048585\",\"-0.93393651,-0.20649916,0.78402049,0.72215517,0.7691518,-0.16166286,0.3973035,-0.27528116,-0.54419774,-0.99701193,-0.70802088,-0.93345851\",\"0.10489711,0.6220654999999999,0.43370891,0.39281965,0.41986657,0.62614858,-0.30919487,0.55810315,-0.22111662,-0.9566084,-0.8750964,-0.91682527\",\"0.77911369,0.91708209,-0.2834744999999999,-0.32271507,-0.3101711,0.93034777,-0.69141602,0.85439599,0.29712772,-0.23419562,0.66272988,-0.22748725\",\"-0.93386935,-0.20636268,0.78402049,0.72195521,0.7692959,-0.16163737,0.39713425,-0.27528116,-0.54467991,-0.99579684,-0.75362867,-0.93345851\",\"-0.83647134,-0.055034629,0.83766073,0.86599946,0.87234565,-0.14042517,0.26954478,-0.079814823,-0.75428494,-0.11779886,0.16179918,-0.67128376\",\"0.45835762,0.78539959,0.32665786,0.27698835,0.30836272,0.8041839,-0.51262349,0.71269578,-0.13508295,-0.99081907,-0.82823515,-0.94063375\",\"-0.96387338,-0.27793837,0.93159255,0.88062299,0.92885299,-0.25035687,0.45077589,-0.25952788,-0.77169117,-0.91629205,-0.39040863,-0.90721557\",\"0.83215943,0.93768834,-0.251532,-0.28047617,-0.26646757,0.95382263,-0.73322857,0.8670484,0.2659684,-0.43814247,0.73015335,-0.20649306\",\"0.8014380999999999,0.92579791,-0.31845211,-0.35714658,-0.34394546,0.94282925,-0.68048708,0.85267231,0.31888283,-0.98504729,-0.72265031,-0.93439013\",\"0.85618709,0.94691727,-0.2653281,-0.27383035,-0.26205559,0.95787983,-0.7601763000000001,0.87654171,0.26295137,-0.32073899,0.72431662,-0.29039716\",\"0.83963212,0.94054784,-0.25991303,-0.28697968,-0.28138588,0.94421895,-0.72561528,0.87750879,0.2756308,0.049838889,0.67465205,0.51664656\",\"0.79309037,0.92255001,-0.31847188,-0.36426556,-0.34857415,0.94314908,-0.67271545,0.84851305,0.32210519,-0.9966008,-0.82823515,-0.93830071\",\"-0.91448235,-0.16991791,0.88223432,0.89512599,0.90163872,-0.14985853,0.37279747,-0.22304958,-0.71310184,-0.76346937,-0.33058135,-0.8049460999999999\",\"0.81637258,0.93126851,0.047721583,0.18209007,0.0958128759999999,0.89772995,-0.80517681,0.89268468,0.017429973,-0.67126096,-0.26750019,-0.79256534\",\"0.83654014,0.93937421,-0.24056127,-0.27813441,-0.26309071,0.95397675,-0.73520408,0.86990206,0.26350289,-0.44799685,0.65883852,-0.16788432\",\"0.79745839,0.92422997,-0.26534344,-0.28334968,-0.27642083,0.93395793,-0.73992624,0.86509399,0.2749719,-0.026147128,0.49738373,0.12485933\",\"-0.92158395,-0.18249906,0.86351904,0.80174041,0.8501674000000001,-0.13794742,0.38015684,-0.25148417,-0.64472315,-0.9884952,-0.63803533,-0.93076229\",\"0.86479559,0.95021213,-0.22668294,-0.25345705,-0.24482976,0.96667248,-0.77667683,0.87895496,0.2512183999999999,-0.23418525,0.75325446,-0.073476094\",\"0.86723468,0.95113074,-0.23921707,-0.24240056,-0.2444992,0.96192175,-0.76577375,0.88915895,0.25049629,-0.088325316,0.43414843,0.57623469\",\"0.67406982,0.87538094,0.16114168,0.11441559,0.14222283,0.89639725,-0.64510509,0.80216168,-0.014516278,-0.99324099,-0.83927424,-0.94171541\",\"0.73693165,0.90046886,-0.3683917,-0.380838,-0.37939735,0.90179536,-0.62241148,0.83710014,0.34348878,-0.30652902,0.69495684,-0.075635646\",\"0.68141463,0.8782985000000001,-0.37571346,-0.39844939,-0.39656275,0.8833468000000001,-0.59406908,0.82057256,0.35710192,-0.28188489,0.61240236,-0.18966068\",\"0.85324117,0.94579263,-0.25387799,-0.29918794,-0.28373506,0.96602867,-0.73866069,0.87166805,0.27723185,-0.98594973,-0.80735107,-0.94195937\",\"0.0025869623,0.57009544,0.47894294,0.42719866,0.46261283,0.59032045,-0.25398233,0.50114804,-0.25549308,-0.98090159,-0.29333283,-0.91194942\",\"0.80989735,0.92902391,-0.31912647,-0.33799141,-0.33682804,0.9385778,-0.68758294,0.87990029,0.31384947,-0.92697005,-0.76124416,-0.93717339\",\"0.78876841,0.92083549,-0.2775092999999999,-0.26775483,-0.26701193,0.92900964,-0.74616191,0.86122098,0.26903773,0.24274736,0.65747119,0.54451198\",\"'"
      ]
     },
     "execution_count": 137,
     "metadata": {},
     "output_type": "execute_result"
    }
   ],
   "source": [
    "output_data"
   ]
  },
  {
   "cell_type": "code",
   "execution_count": 122,
   "id": "5cdf5713-2a00-432c-af16-1d3eca7ab648",
   "metadata": {
    "tags": []
   },
   "outputs": [],
   "source": [
    "data = output_data + \",\" + input_data"
   ]
  },
  {
   "cell_type": "code",
   "execution_count": null,
   "id": "71a3f430-5740-4390-9476-a7ad3dcf7e06",
   "metadata": {
    "tags": []
   },
   "outputs": [],
   "source": []
  },
  {
   "cell_type": "code",
   "execution_count": null,
   "id": "e8432df3-4fcc-4758-b106-59fbb4bda551",
   "metadata": {},
   "outputs": [],
   "source": []
  },
  {
   "cell_type": "code",
   "execution_count": null,
   "id": "69b74b0b-9402-4e96-b846-5f46ec2acbca",
   "metadata": {},
   "outputs": [],
   "source": []
  }
 ],
 "metadata": {
  "kernelspec": {
   "display_name": "conda_python3",
   "language": "python",
   "name": "conda_python3"
  },
  "language_info": {
   "codemirror_mode": {
    "name": "ipython",
    "version": 3
   },
   "file_extension": ".py",
   "mimetype": "text/x-python",
   "name": "python",
   "nbconvert_exporter": "python",
   "pygments_lexer": "ipython3",
   "version": "3.10.12"
  }
 },
 "nbformat": 4,
 "nbformat_minor": 5
}
