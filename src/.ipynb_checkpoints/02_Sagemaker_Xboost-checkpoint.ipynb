{
 "cells": [
  {
   "cell_type": "markdown",
   "id": "6c095987-0137-4314-8327-3be747780a7c",
   "metadata": {
    "tags": []
   },
   "source": [
    "# Human Activity Recognition - AWS"
   ]
  },
  {
   "cell_type": "markdown",
   "id": "894db4cb-5b82-4573-8cfe-7b16358b696b",
   "metadata": {
    "tags": []
   },
   "source": [
    "### Problem Statement\n",
    "Let’s open the notebook “HAR Model training notebook”. The problem statement for this notebook is: Deploying the Human Activity Recognition problem using the Level 1 MLOps architecture, the aim is to enhance the experience of Blackmi's health app by overcoming the problems faced in the level 0 architecture. Utilising the Human Activity Recognition dataset, we will construct a machine-learning model along with the ML pipelines to categorise user activities for the real-time health alerts using AWS sagemaker studio. Here we will also be monitoring the model performance and deploy the model using different deployment techniques."
   ]
  },
  {
   "cell_type": "markdown",
   "id": "8e57df07-1b14-4dc2-9860-27cdf0ef8c93",
   "metadata": {},
   "source": [
    "### Approach \n",
    "In this notebook we will be building the level 1 architecture of MLOps, and our major focus would be on creating ML pipeline, model monitoring and model deployment. The major take away for this lesson is to learn:\n",
    "\n",
    "1. Feature engineering with the amazon sagemaker processing \n",
    "\n"
   ]
  },
  {
   "cell_type": "code",
   "execution_count": 8,
   "id": "2f1123b0-e1a4-4d15-b0eb-0ff261b8f05e",
   "metadata": {
    "tags": []
   },
   "outputs": [],
   "source": [
    "# Importing all the necessary libraries \n",
    "# Importing pandas and numpy for data preprocessing. \n",
    "import pandas as pd\n",
    "import numpy as np\n",
    "# Boto3 is used for launching the EC2 instances and manipulating s3 buckets.\n",
    "import boto3\n",
    "# Sagemaker is imported for building, training and deploying machine learning models.\n",
    "import sagemaker\n"
   ]
  },
  {
   "cell_type": "code",
   "execution_count": 9,
   "id": "2e63645c-aed6-4890-9d73-93d1b5f6e98b",
   "metadata": {
    "tags": []
   },
   "outputs": [
    {
     "name": "stderr",
     "output_type": "stream",
     "text": [
      "INFO:botocore.credentials:Found credentials from IAM Role: BaseNotebookInstanceEc2InstanceRole\n",
      "INFO:botocore.credentials:Found credentials from IAM Role: BaseNotebookInstanceEc2InstanceRole\n"
     ]
    },
    {
     "data": {
      "text/plain": [
       "'ap-south-1'"
      ]
     },
     "execution_count": 9,
     "metadata": {},
     "output_type": "execute_result"
    }
   ],
   "source": [
    "# Initialising new sagemaker session as \"sess\".\n",
    "sess = sagemaker.Session()\n",
    "# Check for necessary permission needed for training and deploying models. \n",
    "role = sagemaker.get_execution_role()\n",
    "# To understand where this session is configured to operate.\n",
    "region = boto3.Session().region_name\n",
    "region\n"
   ]
  },
  {
   "cell_type": "code",
   "execution_count": 13,
   "id": "6895d1d8-9c61-4e97-a154-280490992c33",
   "metadata": {
    "tags": []
   },
   "outputs": [],
   "source": [
    "# Bucket variable is used for storing the location of the bucket\n",
    "bucket = 'sagemaker-studio-009676737623-l4vs7j0o0ib'\n",
    "# Assigning the prefix variable \n",
    "prefix = 'mlops-level1-data'\n",
    "# input_source variable is used for storing the location of the dataset\n",
    "input_source = 's3://sagemaker-studio-009676737623-l4vs7j0o0ib/mlops-level1-data/train_data.gzip'\n"
   ]
  },
  {
   "cell_type": "code",
   "execution_count": 11,
   "id": "5522538f-57f2-457a-8936-b11ca432384c",
   "metadata": {
    "tags": []
   },
   "outputs": [],
   "source": [
    "train_path = f\"s3://{bucket}/{prefix}/train\"\n",
    "validation_path = f\"s3://{bucket}/{prefix}/validation\"\n",
    "test_path = f\"s3://{bucket}/{prefix}/test\"\n",
    "feature_path = f\"s3://{bucket}/{prefix}/feature\"\n"
   ]
  },
  {
   "cell_type": "markdown",
   "id": "3f03df72-150c-403f-a8ec-045800786489",
   "metadata": {},
   "source": [
    "## Training"
   ]
  },
  {
   "cell_type": "code",
   "execution_count": 5,
   "id": "5c264cd4-10d5-4847-b508-296ea7ee98d3",
   "metadata": {
    "tags": []
   },
   "outputs": [],
   "source": [
    "s3_input_train = sagemaker.inputs.TrainingInput(s3_data=train_path.format(bucket, prefix), \n",
    "                                                    content_type='csv')\n",
    "s3_input_validation = sagemaker.inputs.TrainingInput(s3_data=validation_path.format(bucket, prefix),\n",
    "                                                     content_type='csv')"
   ]
  },
  {
   "cell_type": "code",
   "execution_count": 67,
   "id": "8d5cb393-6772-47d9-b3ad-56dbadf4f669",
   "metadata": {
    "tags": []
   },
   "outputs": [
    {
     "name": "stderr",
     "output_type": "stream",
     "text": [
      "INFO:sagemaker.image_uris:Ignoring unnecessary instance type: None.\n",
      "INFO:sagemaker:Creating training-job with name: sagemaker-xgboost-2023-09-25-09-06-54-010\n"
     ]
    },
    {
     "name": "stdout",
     "output_type": "stream",
     "text": [
      "2023-09-25 09:06:54 Starting - Starting the training job...\n",
      "2023-09-25 09:07:08 Starting - Preparing the instances for training......\n",
      "2023-09-25 09:08:11 Downloading - Downloading input data\n",
      "2023-09-25 09:08:11 Training - Downloading the training image...\n",
      "2023-09-25 09:08:47 Training - Training image download completed. Training in progress...\u001b[34m[2023-09-25 09:09:04.087 ip-10-0-185-47.ap-south-1.compute.internal:7 INFO utils.py:28] RULE_JOB_STOP_SIGNAL_FILENAME: None\u001b[0m\n",
      "\u001b[34m[2023-09-25 09:09:04.110 ip-10-0-185-47.ap-south-1.compute.internal:7 INFO profiler_config_parser.py:111] User has disabled profiler.\u001b[0m\n",
      "\u001b[34m[2023-09-25:09:09:04:INFO] Imported framework sagemaker_xgboost_container.training\u001b[0m\n",
      "\u001b[34m[2023-09-25:09:09:04:INFO] Failed to parse hyperparameter objective value multi:softmax to Json.\u001b[0m\n",
      "\u001b[34mReturning the value itself\u001b[0m\n",
      "\u001b[34m[2023-09-25:09:09:04:INFO] No GPUs detected (normal if no gpus installed)\u001b[0m\n",
      "\u001b[34m[2023-09-25:09:09:04:INFO] Running XGBoost Sagemaker in algorithm mode\u001b[0m\n",
      "\u001b[34m[2023-09-25:09:09:04:INFO] Determined 0 GPU(s) available on the instance.\u001b[0m\n",
      "\u001b[34m[2023-09-25:09:09:04:INFO] Determined delimiter of CSV input is ','\u001b[0m\n",
      "\u001b[34m[2023-09-25:09:09:04:INFO] Determined delimiter of CSV input is ','\u001b[0m\n",
      "\u001b[34m[2023-09-25:09:09:04:INFO] File path /opt/ml/input/data/train of input files\u001b[0m\n",
      "\u001b[34m[2023-09-25:09:09:04:INFO] Making smlinks from folder /opt/ml/input/data/train to folder /tmp/sagemaker_xgboost_input_data\u001b[0m\n",
      "\u001b[34m[2023-09-25:09:09:04:INFO] creating symlink between Path /opt/ml/input/data/train/train.csv and destination /tmp/sagemaker_xgboost_input_data/train.csv2505956608870103426\u001b[0m\n",
      "\u001b[34m[2023-09-25:09:09:04:INFO] files path: /tmp/sagemaker_xgboost_input_data\u001b[0m\n",
      "\u001b[34m[2023-09-25:09:09:04:INFO] Determined delimiter of CSV input is ','\u001b[0m\n",
      "\u001b[34m[2023-09-25:09:09:04:INFO] File path /opt/ml/input/data/validation of input files\u001b[0m\n",
      "\u001b[34m[2023-09-25:09:09:04:INFO] Making smlinks from folder /opt/ml/input/data/validation to folder /tmp/sagemaker_xgboost_input_data\u001b[0m\n",
      "\u001b[34m[2023-09-25:09:09:04:INFO] creating symlink between Path /opt/ml/input/data/validation/validation.csv and destination /tmp/sagemaker_xgboost_input_data/validation.csv-6614625639260469141\u001b[0m\n",
      "\u001b[34m[2023-09-25:09:09:04:INFO] files path: /tmp/sagemaker_xgboost_input_data\u001b[0m\n",
      "\u001b[34m[2023-09-25:09:09:04:INFO] Determined delimiter of CSV input is ','\u001b[0m\n",
      "\u001b[34m[2023-09-25:09:09:04:INFO] Single node training.\u001b[0m\n",
      "\u001b[34m[2023-09-25:09:09:04:INFO] Train matrix has 80000 rows and 12 columns\u001b[0m\n",
      "\u001b[34m[2023-09-25:09:09:04:INFO] Validation matrix has 10000 rows\u001b[0m\n",
      "\u001b[34m[2023-09-25 09:09:04.623 ip-10-0-185-47.ap-south-1.compute.internal:7 INFO json_config.py:92] Creating hook from json_config at /opt/ml/input/config/debughookconfig.json.\u001b[0m\n",
      "\u001b[34m[2023-09-25 09:09:04.624 ip-10-0-185-47.ap-south-1.compute.internal:7 INFO hook.py:206] tensorboard_dir has not been set for the hook. SMDebug will not be exporting tensorboard summaries.\u001b[0m\n",
      "\u001b[34m[2023-09-25 09:09:04.625 ip-10-0-185-47.ap-south-1.compute.internal:7 INFO hook.py:259] Saving to /opt/ml/output/tensors\u001b[0m\n",
      "\u001b[34m[2023-09-25 09:09:04.625 ip-10-0-185-47.ap-south-1.compute.internal:7 INFO state_store.py:77] The checkpoint config file /opt/ml/input/config/checkpointconfig.json does not exist.\u001b[0m\n",
      "\u001b[34m[2023-09-25:09:09:04:INFO] Debug hook created from config\u001b[0m\n",
      "\u001b[34m[0]#011train-mlogloss:1.42212#011validation-mlogloss:1.42201\u001b[0m\n",
      "\u001b[34m[2023-09-25 09:09:04.937 ip-10-0-185-47.ap-south-1.compute.internal:7 INFO hook.py:427] Monitoring the collections: metrics\u001b[0m\n",
      "\u001b[34m[2023-09-25 09:09:04.940 ip-10-0-185-47.ap-south-1.compute.internal:7 INFO hook.py:491] Hook is writing from the hook with pid: 7\u001b[0m\n",
      "\u001b[34m[1]#011train-mlogloss:1.20004#011validation-mlogloss:1.20037\u001b[0m\n",
      "\u001b[34m[2]#011train-mlogloss:1.04270#011validation-mlogloss:1.04312\u001b[0m\n",
      "\u001b[34m[3]#011train-mlogloss:0.92563#011validation-mlogloss:0.92674\u001b[0m\n",
      "\u001b[34m[4]#011train-mlogloss:0.83460#011validation-mlogloss:0.83623\u001b[0m\n",
      "\u001b[34m[5]#011train-mlogloss:0.76221#011validation-mlogloss:0.76442\u001b[0m\n",
      "\u001b[34m[6]#011train-mlogloss:0.70422#011validation-mlogloss:0.70660\u001b[0m\n",
      "\u001b[34m[7]#011train-mlogloss:0.65715#011validation-mlogloss:0.65983\u001b[0m\n",
      "\u001b[34m[8]#011train-mlogloss:0.61743#011validation-mlogloss:0.62085\u001b[0m\n",
      "\u001b[34m[9]#011train-mlogloss:0.58567#011validation-mlogloss:0.58953\u001b[0m\n",
      "\u001b[34m[10]#011train-mlogloss:0.55836#011validation-mlogloss:0.56277\u001b[0m\n",
      "\u001b[34m[11]#011train-mlogloss:0.53573#011validation-mlogloss:0.54027\u001b[0m\n",
      "\u001b[34m[12]#011train-mlogloss:0.51690#011validation-mlogloss:0.52184\u001b[0m\n",
      "\u001b[34m[13]#011train-mlogloss:0.50098#011validation-mlogloss:0.50643\u001b[0m\n",
      "\u001b[34m[14]#011train-mlogloss:0.48774#011validation-mlogloss:0.49343\u001b[0m\n",
      "\u001b[34m[15]#011train-mlogloss:0.47624#011validation-mlogloss:0.48260\u001b[0m\n",
      "\u001b[34m[16]#011train-mlogloss:0.46644#011validation-mlogloss:0.47313\u001b[0m\n",
      "\u001b[34m[17]#011train-mlogloss:0.45776#011validation-mlogloss:0.46462\u001b[0m\n",
      "\u001b[34m[18]#011train-mlogloss:0.45015#011validation-mlogloss:0.45726\u001b[0m\n",
      "\u001b[34m[19]#011train-mlogloss:0.44357#011validation-mlogloss:0.45096\u001b[0m\n",
      "\u001b[34m[20]#011train-mlogloss:0.43739#011validation-mlogloss:0.44495\u001b[0m\n",
      "\u001b[34m[21]#011train-mlogloss:0.43236#011validation-mlogloss:0.44017\u001b[0m\n",
      "\u001b[34m[22]#011train-mlogloss:0.42796#011validation-mlogloss:0.43622\u001b[0m\n",
      "\u001b[34m[23]#011train-mlogloss:0.42396#011validation-mlogloss:0.43240\u001b[0m\n",
      "\u001b[34m[24]#011train-mlogloss:0.42027#011validation-mlogloss:0.42900\u001b[0m\n",
      "\u001b[34m[25]#011train-mlogloss:0.41713#011validation-mlogloss:0.42619\u001b[0m\n",
      "\u001b[34m[26]#011train-mlogloss:0.41433#011validation-mlogloss:0.42342\u001b[0m\n",
      "\u001b[34m[27]#011train-mlogloss:0.41177#011validation-mlogloss:0.42095\u001b[0m\n",
      "\u001b[34m[28]#011train-mlogloss:0.40941#011validation-mlogloss:0.41878\u001b[0m\n",
      "\u001b[34m[29]#011train-mlogloss:0.40747#011validation-mlogloss:0.41701\u001b[0m\n",
      "\u001b[34m[30]#011train-mlogloss:0.40550#011validation-mlogloss:0.41527\u001b[0m\n",
      "\u001b[34m[31]#011train-mlogloss:0.40389#011validation-mlogloss:0.41371\u001b[0m\n",
      "\u001b[34m[32]#011train-mlogloss:0.40209#011validation-mlogloss:0.41223\u001b[0m\n",
      "\u001b[34m[33]#011train-mlogloss:0.40055#011validation-mlogloss:0.41108\u001b[0m\n",
      "\u001b[34m[34]#011train-mlogloss:0.39926#011validation-mlogloss:0.41011\u001b[0m\n",
      "\u001b[34m[35]#011train-mlogloss:0.39795#011validation-mlogloss:0.40910\u001b[0m\n",
      "\u001b[34m[36]#011train-mlogloss:0.39682#011validation-mlogloss:0.40842\u001b[0m\n",
      "\u001b[34m[37]#011train-mlogloss:0.39585#011validation-mlogloss:0.40759\u001b[0m\n",
      "\u001b[34m[38]#011train-mlogloss:0.39479#011validation-mlogloss:0.40682\u001b[0m\n",
      "\u001b[34m[39]#011train-mlogloss:0.39389#011validation-mlogloss:0.40615\u001b[0m\n",
      "\u001b[34m[40]#011train-mlogloss:0.39303#011validation-mlogloss:0.40556\u001b[0m\n",
      "\u001b[34m[41]#011train-mlogloss:0.39219#011validation-mlogloss:0.40498\u001b[0m\n",
      "\u001b[34m[42]#011train-mlogloss:0.39144#011validation-mlogloss:0.40447\u001b[0m\n",
      "\u001b[34m[43]#011train-mlogloss:0.39069#011validation-mlogloss:0.40382\u001b[0m\n",
      "\u001b[34m[44]#011train-mlogloss:0.39011#011validation-mlogloss:0.40347\u001b[0m\n",
      "\n",
      "2023-09-25 09:09:22 Uploading - Uploading generated training model\u001b[34m[45]#011train-mlogloss:0.38952#011validation-mlogloss:0.40308\u001b[0m\n",
      "\u001b[34m[46]#011train-mlogloss:0.38887#011validation-mlogloss:0.40270\u001b[0m\n",
      "\u001b[34m[47]#011train-mlogloss:0.38823#011validation-mlogloss:0.40226\u001b[0m\n",
      "\u001b[34m[48]#011train-mlogloss:0.38751#011validation-mlogloss:0.40208\u001b[0m\n",
      "\u001b[34m[49]#011train-mlogloss:0.38708#011validation-mlogloss:0.40188\u001b[0m\n",
      "\n",
      "2023-09-25 09:09:33 Completed - Training job completed\n",
      "Training seconds: 97\n",
      "Billable seconds: 97\n"
     ]
    }
   ],
   "source": [
    "import sagemaker\n",
    "import boto3\n",
    "from sagemaker import image_uris\n",
    "from sagemaker.session import Session\n",
    "from sagemaker.inputs import TrainingInput\n",
    "\n",
    "# initialize hyperparameters\n",
    "hyperparameters = {\n",
    "        \"num_class\":6,\n",
    "        \"max_depth\":\"5\",\n",
    "        \"eta\":\"0.2\",\n",
    "        \"gamma\":\"4\",\n",
    "        \"min_child_weight\":\"6\",\n",
    "        \"subsample\":\"0.7\",\n",
    "        \"objective\":\"multi:softmax\",\n",
    "        \"num_round\":\"50\"}\n",
    "\n",
    "# set an output path where the trained model will be saved\n",
    "#bucket = sagemaker.Session().default_bucket()\n",
    "#prefix = 'DEMO-xgboost-as-a-built-in-algo'\n",
    "output_path = 's3://{}/{}/{}/output'.format(bucket, prefix, 'abalone-xgb-built-in-algo')\n",
    "\n",
    "# this line automatically looks for the XGBoost image URI and builds an XGBoost container.\n",
    "# specify the repo_version depending on your preference.\n",
    "xgboost_container = sagemaker.image_uris.retrieve(\"xgboost\", region, \"1.7-1\")\n",
    "\n",
    "# construct a SageMaker estimator that calls the xgboost-container\n",
    "estimator = sagemaker.estimator.Estimator(image_uri=xgboost_container, \n",
    "                                          hyperparameters=hyperparameters,\n",
    "                                          role=sagemaker.get_execution_role(),\n",
    "                                          instance_count=1, \n",
    "                                          instance_type='ml.m5.2xlarge', \n",
    "                                          volume_size=5, # 5 GB \n",
    "                                          output_path=output_path)\n",
    "\n",
    "# define the data type and paths to the training and validation datasets\n",
    "content_type = \"text/csv\"#\"libsvm\"\n",
    "train_input = TrainingInput(\"s3://{}/{}/{}/\".format(bucket, prefix, 'train'), content_type=content_type)\n",
    "validation_input = TrainingInput(\"s3://{}/{}/{}/\".format(bucket, prefix, 'validation'), content_type=content_type)\n",
    "\n",
    "# execute the XGBoost training job\n",
    "estimator.fit({'train': train_input, 'validation': validation_input})"
   ]
  },
  {
   "cell_type": "markdown",
   "id": "a3a9ef8f-904f-4ef8-b6f1-4bd46797288a",
   "metadata": {},
   "source": [
    "## Deployment "
   ]
  },
  {
   "cell_type": "code",
   "execution_count": 68,
   "id": "c798b06d-6ae3-4c78-9b00-186eedf864bb",
   "metadata": {
    "tags": []
   },
   "outputs": [],
   "source": [
    "model_url = f's3://{bucket}/{prefix}/abalone-xgb-built-in-algo/output/sagemaker-xgboost-2023-09-25-09-06-54-010/output/model.tar.gz'"
   ]
  },
  {
   "cell_type": "code",
   "execution_count": 69,
   "id": "2c04b08b-7663-42e3-80cd-ff4123b71f79",
   "metadata": {},
   "outputs": [
    {
     "name": "stderr",
     "output_type": "stream",
     "text": [
      "INFO:sagemaker.image_uris:Ignoring unnecessary instance type: None.\n"
     ]
    }
   ],
   "source": [
    "from sagemaker import image_uris\n",
    "\n",
    "# Name of the framework or algorithm\n",
    "framework='xgboost'\n",
    "#framework='xgboost' # Example\n",
    "\n",
    "# Version of the framework or algorithm\n",
    "version = '1.7-1'\n",
    "#version = '0.90-1' # Example\n",
    "\n",
    "# Specify an AWS container image. \n",
    "container = image_uris.retrieve(region=region, \n",
    "                                framework=framework, \n",
    "                                version=version)"
   ]
  },
  {
   "cell_type": "code",
   "execution_count": 70,
   "id": "48c1a865-7a9a-4df5-ab98-56e3ef97f492",
   "metadata": {},
   "outputs": [],
   "source": [
    "from sagemaker.model import Model\n",
    "\n",
    "model = Model(image_uri=container, \n",
    "              model_data=model_url, \n",
    "              role=role)"
   ]
  },
  {
   "cell_type": "code",
   "execution_count": 71,
   "id": "081f808c-4f98-423b-8ad8-c3bd5879dcc5",
   "metadata": {},
   "outputs": [
    {
     "name": "stdout",
     "output_type": "stream",
     "text": [
      "EndpointName = xgboost-inference-2023-09-25-0911\n"
     ]
    }
   ],
   "source": [
    "from datetime import datetime\n",
    "\n",
    "endpoint_name = f\"xgboost-inference-{datetime.utcnow():%Y-%m-%d-%H%M}\"\n",
    "print(\"EndpointName =\", endpoint_name)"
   ]
  },
  {
   "cell_type": "code",
   "execution_count": 72,
   "id": "f080e994-db0d-4682-9cd8-5e359c13d411",
   "metadata": {
    "tags": []
   },
   "outputs": [],
   "source": [
    "from sagemaker.model_monitor import DataCaptureConfig\n",
    "\n",
    "# Set to True to enable data capture\n",
    "enable_capture = True\n",
    "\n",
    "# Optional - Sampling percentage. Choose an integer value between 0 and 100\n",
    "sampling_percentage = 100\n",
    "# sampling_percentage = 30 # Example 30%\n",
    "\n",
    "# Optional - The S3 URI of stored captured-data location\n",
    "s3_capture_upload_path =\"s3://sagemaker-studio-009676737623-l4vs7j0o0ib/mlops-level1-data/datacapture/\"\n",
    "\n",
    "# Specify either Input, Output or both.\n",
    "capture_modes = ['REQUEST','RESPONSE'] # In this example, we specify both\n",
    "\n",
    "# Configuration object passed in when deploying Models to SM endpoints\n",
    "data_capture_config = DataCaptureConfig(\n",
    "    enable_capture = enable_capture, \n",
    "    sampling_percentage = sampling_percentage, # Optional\n",
    "    destination_s3_uri = s3_capture_upload_path, # Optional\n",
    "    capture_options = [\"REQUEST\", \"RESPONSE\"],\n",
    ")"
   ]
  },
  {
   "cell_type": "code",
   "execution_count": 73,
   "id": "3ef473a9-c577-4b81-ae6f-c73ffd5623ee",
   "metadata": {},
   "outputs": [
    {
     "name": "stderr",
     "output_type": "stream",
     "text": [
      "INFO:sagemaker:Creating model with name: sagemaker-xgboost-2023-09-25-09-11-40-136\n",
      "INFO:sagemaker:Creating endpoint-config with name xgboost-inference-2023-09-25-0911\n",
      "INFO:sagemaker:Creating endpoint with name xgboost-inference-2023-09-25-0911\n"
     ]
    },
    {
     "name": "stdout",
     "output_type": "stream",
     "text": [
      "-----!"
     ]
    }
   ],
   "source": [
    "initial_instance_count=1\n",
    "# initial_instance_count=1 # Example\n",
    "\n",
    "instance_type='ml.m4.xlarge'\n",
    "# instance_type='ml.m4.xlarge' # Example\n",
    "\n",
    "model.deploy(\n",
    "    initial_instance_count=initial_instance_count,\n",
    "    instance_type=instance_type,\n",
    "    endpoint_name=endpoint_name,\n",
    "    data_capture_config=data_capture_config,\n",
    "    wait = True\n",
    ")"
   ]
  },
  {
   "cell_type": "code",
   "execution_count": null,
   "id": "0e0d5b36-1ce3-4c02-83fd-705c3cd89724",
   "metadata": {},
   "outputs": [],
   "source": []
  },
  {
   "cell_type": "markdown",
   "id": "1cc112f2-90b3-4856-9a82-8055b9001049",
   "metadata": {},
   "source": [
    "### Real time prediction"
   ]
  },
  {
   "cell_type": "code",
   "execution_count": 74,
   "id": "0d16c817-cb11-460b-8260-685ae96c5527",
   "metadata": {
    "tags": []
   },
   "outputs": [
    {
     "data": {
      "text/plain": [
       "'xgboost-inference-2023-09-25-0911'"
      ]
     },
     "execution_count": 74,
     "metadata": {},
     "output_type": "execute_result"
    }
   ],
   "source": [
    "endpoint_name"
   ]
  },
  {
   "cell_type": "code",
   "execution_count": 86,
   "id": "ab83e081-d2e3-48e7-8ca2-9619b01f9b94",
   "metadata": {
    "tags": []
   },
   "outputs": [
    {
     "name": "stdout",
     "output_type": "stream",
     "text": [
      "CPU times: user 781 ms, sys: 4.55 ms, total: 786 ms\n",
      "Wall time: 1.2 s\n"
     ]
    }
   ],
   "source": [
    "%%time\n",
    "import json\n",
    "\n",
    "file_name = (\n",
    "    \"test.csv\"  # customize to your test file, will be 'mnist.single.test' if use data above\n",
    ")\n",
    "\n",
    "with open(file_name, \"r\") as f:\n",
    "    payload = f.read().strip()\n",
    "\n",
    "for payload_input in payload.split(\"\\n\")[:10]:\n",
    "    runtime_client = boto3.client(\"runtime.sagemaker\")\n",
    "    response = runtime_client.invoke_endpoint(\n",
    "        EndpointName=endpoint_name, ContentType=\"text/csv\", Body=payload_input\n",
    "    )\n",
    "    result = response[\"Body\"].read().decode(\"ascii\")\n",
    "#print(\"Predicted Class Probabilities: {}.\".format(result))"
   ]
  },
  {
   "cell_type": "code",
   "execution_count": 87,
   "id": "8dabb831-6de2-4f85-a51b-3f74f8d51dfe",
   "metadata": {
    "tags": []
   },
   "outputs": [
    {
     "name": "stderr",
     "output_type": "stream",
     "text": [
      "INFO:botocore.credentials:Found credentials from IAM Role: BaseNotebookInstanceEc2InstanceRole\n"
     ]
    },
    {
     "name": "stdout",
     "output_type": "stream",
     "text": [
      "Found Capture Files:\n",
      "mlops-level1-data/datacapture/xgboost-inference-2023-09-25-0911/AllTraffic/2023/09/25/09/18-21-625-e029529b-f453-403c-83ea-942ffc4f695d.jsonl\n",
      " mlops-level1-data/datacapture/xgboost-inference-2023-09-25-0911/AllTraffic/2023/09/25/09/36-00-255-6f1f9af6-697c-4bbc-9673-f362b9dea1be.jsonl\n",
      " mlops-level1-data/datacapture/xgboost-inference-2023-09-25-0911/AllTraffic/2023/09/25/10/34-34-667-136c72cf-7b8c-46cc-a12a-2f72e882995d.jsonl\n"
     ]
    }
   ],
   "source": [
    "data_capture_prefix = \"{}/datacapture\".format(prefix)\n",
    "s3_client = boto3.Session().client(\"s3\")\n",
    "current_endpoint_capture_prefix = \"{}/{}\".format(data_capture_prefix, endpoint_name)\n",
    "result = s3_client.list_objects(Bucket=bucket, Prefix=current_endpoint_capture_prefix)\n",
    "capture_files = [capture_file.get(\"Key\") for capture_file in result.get(\"Contents\")]\n",
    "print(\"Found Capture Files:\")\n",
    "print(\"\\n \".join(capture_files))"
   ]
  },
  {
   "cell_type": "code",
   "execution_count": 88,
   "id": "60232a74-c8d9-45a2-aa9d-a8a406e6c245",
   "metadata": {
    "tags": []
   },
   "outputs": [
    {
     "name": "stdout",
     "output_type": "stream",
     "text": [
      "{\"captureData\":{\"endpointInput\":{\"observedContentType\":\"text/csv\",\"mode\":\"INPUT\",\"data\":\"-0.84124676,0.96339614,0.89946864,0.89205451,0.97743631,-0.16126549,-0.93472378,-0.14083968,-0.12321341,0.17994061,-1.0,-0.97090521\",\"encoding\":\"CSV\"},\"endpointOutput\":{\"observedContentType\":\"text/csv; charset=utf-8\",\"mode\":\"OUTPUT\",\"data\":\"1.0\\n\",\"encoding\":\"CSV\"}},\"eventMetadata\":{\"eventId\":\"b8eb498a-5d88-450f-a74e-3ed3345aa6ee\",\"inferenceTime\":\"2023-09-25T10:34:34Z\"},\"eventVersion\":\"0\"}\n",
      "{\"captureData\":{\"endpointInput\":{\"observedContentType\":\"text/csv\",\"mode\":\"INPUT\",\"data\":\"-0.8447876,0.96656113,0.9078289,0.89206031,0.98452014,-0.16134256,-0.94306751,-0.14155127,-0.11489334,0.18028889,-1.0,-0.97058275\",\"encoding\":\"CSV\"},\"endpointOutput\":{\"observedContentType\":\"text/csv; charset=utf-8\",\"mode\":\"OUTPUT\",\"data\":\"1.0\\n\",\"encoding\":\"CSV\"}},\"eventMetadata\":{\"eventId\":\"daad485d-d8bc-47a8-9b4e-957ec22b8523\",\"inferenceTime\":\"2023-09-25T10:34:34Z\"},\"eventVersion\":\"0\"}\n",
      "{\"captureData\":{\"endpointInput\":{\"observedContentType\":\"text/csv\",\"mode\":\"INPUT\",\"data\":\"-0.84893347,0.9668781,0.90866783,0.89240056,0.9867701,-0.16371122,-0.93869155,-0.14200984,-0.11489334,0.18063731,-1.0,-0.97036812\",\"encoding\":\"CSV\"},\"endpointOutput\":{\"observedContentType\":\"text/csv; charset=utf-8\",\"mode\":\"OUTPUT\",\"data\":\"1.0\\n\",\"encoding\":\"CSV\"}},\"eventMetadata\":{\"eventId\":\"d5c22b91-b51e-4028-a574-3f44904c71d6\",\"inferenceTime\":\"2023-09-25T10:34:34Z\"},\"eventVersion\":\"0\"}\n",
      "{\"captureData\":{\"endpointInput\":{\"observedContentType\":\"text/csv\",\"mode\":\"INPUT\",\"data\":\"-0.84864938,0.96761519,0.91062071,0.89381715,0.98682105,-0.16371122,-0.93869155,-0.14397645,-0.12133575,0.18193476,-1.0,-0.96939971\",\"encoding\":\"CSV\"},\"endpointOutput\":{\"observedContentType\":\"text/csv; charset=utf-8\",\"mode\":\"OUTPUT\",\"data\":\"1.0\\n\",\"encoding\":\"CSV\"}},\"eventMetadata\":{\"eventId\":\"15fcdc41-67f8-47f1-b481-60c433a94dc1\",\"inferenceTime\":\"2023-09-25T10:34:34Z\"},\"eventVersion\":\"0\"}\n",
      "{\"captureData\":{\"endpointInput\":{\"observedContentType\":\"text/csv\",\"mode\":\"INPUT\",\"data\":\"-0.84786525,0.9682244,0.91223466,0.89381715,0.98743352,-0.1667862,-0.94246912,-0.14875022,-0.12183357,0.18515116,-1.0,-0.96705115\",\"encoding\":\"CSV\"},\"endpointOutput\":{\"observedContentType\":\"text/csv; charset=utf-8\",\"mode\":\"OUTPUT\",\"data\":\"1.0\\n\",\"encoding\":\"CSV\"}},\"eventMetadata\":{\"eventId\":\"fb425795-101f-487a-821b-29c8dcd29da3\",\"inferenceTime\":\"2023-09-25T10:34:34Z\"},\"eventVersion\":\"0\"}\n",
      "{\"captureData\":{\"endpointInput\":{\"observedContentType\":\"text/csv\",\"mode\":\"INPUT\",\"data\":\"-0.84963158,0.9679482,0.91150257,0.89368344,0.98772183,-0.16697042,-0.94246912,-0.14820997,-0.12183357,0.18482251,-1.0,-0.9673206\",\"encoding\":\"CSV\"},\"endpointOutput\":{\"observedContentType\":\"text/csv; charset=utf-8\",\"mode\":\"OUTPUT\",\"data\":\"1.0\\n\",\"encoding\":\"CSV\"}},\"eventMetadata\":{\"eventId\":\"76a5b62d-cc61-4abe-8bc2-654da94b1895\",\"inferenceTime\":\"2023-09-25T10:34:34Z\"},\"eventVersion\":\"0\"}\n",
      "{\"captureData\":{\"endpointInput\":{\"observedContentType\":\"text/csv\",\"mode\":\"INPUT\",\"data\":\"-0.85215025,0.9679295,0.91145298,0.89336965,0.98772183,-0.16557052,-0.94098663,-0.14428214,-0.12009236,0.18216997,-1.0,-0.96926606\",\"encoding\":\"CSV\"},\"endpointOutput\":{\"observedContentType\":\"text/csv; charset=utf-8\",\"mode\":\"OUTPUT\",\"data\":\"1.0\\n\",\"encoding\":\"CSV\"}},\"eventMetadata\":{\"eventId\":\"3f60cc0b-f9d9-4a81-a49a-3c5268aa5d82\",\"inferenceTime\":\"2023-09-25T10:34:34Z\"},\"eventVersion\":\"0\"}\n",
      "{\"captureData\":{\"endpointInput\":{\"observedContentType\":\"text/csv\",\"mode\":\"INPUT\",\"data\":\"-0.85101671,0.96849148,0.91294266,0.89420478,0.98792586,-0.16557052,-0.94098663,-0.14670536,-0.12855866,0.18377851,-1.0,-0.96803308\",\"encoding\":\"CSV\"},\"endpointOutput\":{\"observedContentType\":\"text/csv; charset=utf-8\",\"mode\":\"OUTPUT\",\"data\":\"1.0\\n\",\"encoding\":\"CSV\"}},\"eventMetadata\":{\"eventId\":\"1280da85-b88f-464d-852f-23ce1e7e53cb\",\"inferenceTime\":\"2023-09-25T10:34:35Z\"},\"eventVersion\":\"0\"}\n",
      "{\"captureData\":{\"endpointInput\":{\"observedContentType\":\"text/csv\",\"mode\":\"INPUT\",\"data\":\"-0.84797148,0.96848115,0.91291536,0.89420478,0.98775397,-0.1678811,-0.94059758,-0.15437401,-0.1297641,0.18898248,-1.0,-0.96412344\",\"encoding\":\"CSV\"},\"endpointOutput\":{\"observedContentType\":\"text/csv; charset=utf-8\",\"mode\":\"OUTPUT\",\"data\":\"1.0\\n\",\"encoding\":\"CSV\"}},\"eventMetadata\":{\"eventId\":\"4237ac8d-f679-44b2-a9c4-babfa89e58b4\",\"inferenceTime\":\"2023-09-25T10:34:35Z\"},\"eventVersion\":\"0\"}\n",
      "{\"captureData\":{\"endpointInput\":{\"observedContentType\":\"text/csv\",\"mode\":\"INPUT\",\"data\":\"-0.84829438,0.96841804,0.91274816,0.89477777,0.98775397,-0.17596367,-0.94002751,-0.15630201,-0.1297641,0.19031033,-1.0,-0.96313738\",\"encoding\":\"CSV\"},\"endpointOutput\":{\"observedContentType\":\"text/csv; charset=utf-8\",\"mode\":\"OUTPUT\",\"data\":\"1.0\\n\",\"encoding\":\"CSV\"}},\"eventMetadata\":{\"eventId\":\"d4a1119a-1f44-4391-9e66-28aab8d96a31\",\"inferenceTime\":\"2023-09-25T10:34:35Z\"},\"eventVersion\":\"0\"}\n",
      "\n"
     ]
    }
   ],
   "source": [
    "def get_obj_body(obj_key):\n",
    "    return s3_client.get_object(Bucket=bucket, Key=obj_key).get(\"Body\").read().decode(\"utf-8\")\n",
    "\n",
    "\n",
    "capture_file = get_obj_body(capture_files[-1])\n",
    "print(capture_file[:5000])"
   ]
  },
  {
   "cell_type": "code",
   "execution_count": null,
   "id": "3cf1c232-9009-4552-b6ca-3987626167da",
   "metadata": {},
   "outputs": [],
   "source": []
  },
  {
   "cell_type": "code",
   "execution_count": null,
   "id": "2de4042b-5951-4916-882d-f74add9a31ec",
   "metadata": {},
   "outputs": [],
   "source": []
  },
  {
   "cell_type": "code",
   "execution_count": null,
   "id": "c914e77c-a006-406e-a9d6-7d3120050257",
   "metadata": {},
   "outputs": [],
   "source": []
  },
  {
   "cell_type": "code",
   "execution_count": null,
   "id": "629daaaf-72fa-4a49-80a5-980ff87909a2",
   "metadata": {},
   "outputs": [],
   "source": []
  },
  {
   "cell_type": "code",
   "execution_count": null,
   "id": "9e8a4a63-2ff6-4fcb-a7ea-b560f847feb0",
   "metadata": {},
   "outputs": [],
   "source": []
  },
  {
   "cell_type": "code",
   "execution_count": null,
   "id": "eb5c6f29-57dd-4514-bf23-352d0d744acc",
   "metadata": {},
   "outputs": [],
   "source": []
  }
 ],
 "metadata": {
  "kernelspec": {
   "display_name": "conda_python3",
   "language": "python",
   "name": "conda_python3"
  },
  "language_info": {
   "codemirror_mode": {
    "name": "ipython",
    "version": 3
   },
   "file_extension": ".py",
   "mimetype": "text/x-python",
   "name": "python",
   "nbconvert_exporter": "python",
   "pygments_lexer": "ipython3",
   "version": "3.10.12"
  }
 },
 "nbformat": 4,
 "nbformat_minor": 5
}
