{
 "cells": [
  {
   "cell_type": "markdown",
   "id": "ecc07950-1a77-4945-b3d8-603daa72811d",
   "metadata": {
    "tags": []
   },
   "source": [
    "# Batch Time and Real-time Prediction"
   ]
  },
  {
   "cell_type": "code",
   "execution_count": 4,
   "id": "2f1123b0-e1a4-4d15-b0eb-0ff261b8f05e",
   "metadata": {
    "tags": []
   },
   "outputs": [],
   "source": [
    "# Importing the necessary library\n",
    "import boto3\n",
    "import sagemaker\n",
    "import pandas as pd\n",
    "from joblib import dump, load\n",
    "import s3fs"
   ]
  },
  {
   "cell_type": "code",
   "execution_count": 5,
   "id": "38c09734-5219-4962-b074-c5f70128cf05",
   "metadata": {
    "tags": []
   },
   "outputs": [],
   "source": [
    "# Initialising new sagemaker session as \"sess\".\n",
    "sess = sagemaker.Session()\n",
    "# Bucket variable is used for storing the location of the bucket\n",
    "bucket = 'sagemaker-studio-009676737623-l4vs7j0o0ib'\n",
    "# Assigning the prefix variable \n",
    "prefix = 'mlops-level1-data' \n",
    "# Check for necessary permission needed for training and deploying models. \n",
    "role = sagemaker.get_execution_role()\n",
    "# To understand where this session is configured to operate.\n",
    "region = boto3.Session().region_name"
   ]
  },
  {
   "cell_type": "markdown",
   "id": "934b349c-2baf-4e8b-ae38-1c67209ee911",
   "metadata": {},
   "source": [
    "## Test Data"
   ]
  },
  {
   "cell_type": "code",
   "execution_count": 6,
   "id": "ead65cc4-bcef-4295-823c-ee42e14aa627",
   "metadata": {
    "tags": []
   },
   "outputs": [],
   "source": [
    "# Creating a string for the test path \n",
    "test_data_path = f's3://{bucket}/{prefix}/test_data.csv'"
   ]
  },
  {
   "cell_type": "code",
   "execution_count": 7,
   "id": "49a45ba1-05f2-4cf7-abad-83c88fae491e",
   "metadata": {
    "tags": []
   },
   "outputs": [
    {
     "data": {
      "text/plain": [
       "(610, 562)"
      ]
     },
     "execution_count": 7,
     "metadata": {},
     "output_type": "execute_result"
    }
   ],
   "source": [
    "# Importing the dataset\n",
    "test_data = pd.read_csv(test_data_path)\n",
    "test_data.shape"
   ]
  },
  {
   "cell_type": "code",
   "execution_count": 8,
   "id": "85ce8b51-8965-423b-a62a-2038d78752a1",
   "metadata": {
    "tags": []
   },
   "outputs": [
    {
     "data": {
      "text/plain": [
       "tBodyAcc-mean()-X                       0\n",
       "tBodyAcc-mean()-Y                       0\n",
       "tBodyAcc-mean()-Z                       0\n",
       "tBodyAcc-std()-X                        0\n",
       "tBodyAcc-std()-Y                        0\n",
       "                                       ..\n",
       "angle(tBodyGyroJerkMean,gravityMean)    1\n",
       "angle(X,gravityMean)                    1\n",
       "angle(Y,gravityMean)                    1\n",
       "angle(Z,gravityMean)                    1\n",
       "Activity                                1\n",
       "Length: 562, dtype: int64"
      ]
     },
     "execution_count": 8,
     "metadata": {},
     "output_type": "execute_result"
    }
   ],
   "source": [
    "test_data.isna().sum()"
   ]
  },
  {
   "cell_type": "code",
   "execution_count": 9,
   "id": "34f01cd7-10d1-4319-b5ed-dabd5311ae65",
   "metadata": {
    "tags": []
   },
   "outputs": [],
   "source": [
    "test_data.dropna(inplace = True)"
   ]
  },
  {
   "cell_type": "code",
   "execution_count": 10,
   "id": "8493734b-9d5c-44ef-8212-ce32d874e55a",
   "metadata": {
    "tags": []
   },
   "outputs": [
    {
     "data": {
      "text/plain": [
       "(609, 562)"
      ]
     },
     "execution_count": 10,
     "metadata": {},
     "output_type": "execute_result"
    }
   ],
   "source": [
    "test_data.shape"
   ]
  },
  {
   "cell_type": "code",
   "execution_count": 11,
   "id": "546a02c8-b814-4899-9eda-54cdc9eb4202",
   "metadata": {
    "tags": []
   },
   "outputs": [],
   "source": [
    "#test_data.fillna(0,inplace = True)"
   ]
  },
  {
   "cell_type": "code",
   "execution_count": 12,
   "id": "8db18303-f6a0-4287-9d86-cb071706cdd9",
   "metadata": {
    "tags": []
   },
   "outputs": [
    {
     "name": "stderr",
     "output_type": "stream",
     "text": [
      "/home/ec2-user/anaconda3/envs/python3/lib/python3.10/site-packages/sklearn/base.py:347: InconsistentVersionWarning: Trying to unpickle estimator LabelEncoder from version 0.23.2 when using version 1.3.0. This might lead to breaking code or invalid results. Use at your own risk. For more info please refer to:\n",
      "https://scikit-learn.org/stable/model_persistence.html#security-maintainability-limitations\n",
      "  warnings.warn(\n"
     ]
    }
   ],
   "source": [
    "## Get Features\n",
    "fs = s3fs.S3FileSystem() # Updated method name\n",
    "filename = f's3://{bucket}/{prefix}/feature/feature.joblib'\n",
    "with fs.open(filename, encoding='utf8') as fh:\n",
    "    cols = load(fh)\n",
    "\n",
    "## Get Encoder object\n",
    "filename = f's3://{bucket}/{prefix}/feature/encoder.joblib'\n",
    "with fs.open(filename, encoding='utf8') as fh:\n",
    "    encoder = load(fh)"
   ]
  },
  {
   "cell_type": "code",
   "execution_count": 13,
   "id": "c6a49179-d900-48fc-9fb6-0ca13e199d03",
   "metadata": {
    "tags": []
   },
   "outputs": [
    {
     "data": {
      "text/plain": [
       "array(['tGravityAcc-min()-X', 'tGravityAcc-mean()-Y',\n",
       "       'tGravityAcc-energy()-X', 'angle(X,gravityMean)',\n",
       "       'tGravityAcc-min()-Y', 'tGravityAcc-max()-X',\n",
       "       'tGravityAcc-mean()-X', 'tGravityAcc-max()-Y',\n",
       "       'fBodyAccJerk-entropy()-Z', 'tBodyAcc-max()-X',\n",
       "       'angle(Y,gravityMean)', 'fBodyGyro-entropy()-Z', 'Activity'],\n",
       "      dtype=object)"
      ]
     },
     "execution_count": 13,
     "metadata": {},
     "output_type": "execute_result"
    }
   ],
   "source": [
    "cols"
   ]
  },
  {
   "cell_type": "code",
   "execution_count": 14,
   "id": "0d2626cc-cd55-4b65-975c-52be6c150789",
   "metadata": {
    "tags": []
   },
   "outputs": [],
   "source": [
    "processed_test_data = test_data[cols]"
   ]
  },
  {
   "cell_type": "code",
   "execution_count": 15,
   "id": "d060ab3a-c90c-4acc-8145-0590e011cbd3",
   "metadata": {
    "tags": []
   },
   "outputs": [],
   "source": [
    "test_x = processed_test_data.drop('Activity', axis = 1)\n",
    "test_y= processed_test_data[['Activity']]"
   ]
  },
  {
   "cell_type": "code",
   "execution_count": 16,
   "id": "45ce7852-18f2-498b-8e0b-7f59c1769415",
   "metadata": {
    "tags": []
   },
   "outputs": [
    {
     "data": {
      "text/plain": [
       "((609, 12), (609, 1))"
      ]
     },
     "execution_count": 16,
     "metadata": {},
     "output_type": "execute_result"
    }
   ],
   "source": [
    "test_x.shape, test_y.shape\n"
   ]
  },
  {
   "cell_type": "markdown",
   "id": "8ee7f7d2-c86d-4257-8e35-b7cad6c3dae3",
   "metadata": {},
   "source": [
    "## Save Processed Test to S3"
   ]
  },
  {
   "cell_type": "code",
   "execution_count": 17,
   "id": "876270be-b64c-4356-8f8e-baf05e6b6180",
   "metadata": {
    "tags": []
   },
   "outputs": [],
   "source": [
    "test_x_path = f\"s3://{bucket}/{prefix}/prediction/test/test_x.csv\"\n",
    "test_y_path =f\"s3://{bucket}/{prefix}/prediction/test/test_y.csv\"\n",
    "test_x.to_csv(test_x_path, index=False, header=False)\n",
    "test_y.to_csv(test_y_path, index=False, header=False)"
   ]
  },
  {
   "cell_type": "markdown",
   "id": "f2329ca6-9a41-4a96-947f-206134b1f210",
   "metadata": {},
   "source": [
    "## Model Prediction"
   ]
  },
  {
   "cell_type": "code",
   "execution_count": 18,
   "id": "15b5d099-86e8-4b7e-b5ad-93bad8c493b7",
   "metadata": {
    "tags": []
   },
   "outputs": [],
   "source": [
    "final_model = 'rf-scikit-2023-09-15-14-24-17-765'#'rf-scikit-2023-09-12-12-25-23-946' ## Update Inference Endpoint\n"
   ]
  },
  {
   "cell_type": "code",
   "execution_count": 19,
   "id": "48c1a865-7a9a-4df5-ab98-56e3ef97f492",
   "metadata": {
    "tags": []
   },
   "outputs": [
    {
     "name": "stderr",
     "output_type": "stream",
     "text": [
      "INFO:sagemaker:Creating transform job with name: sagemaker-scikit-learn-2023-09-15-14-43-41-450\n"
     ]
    },
    {
     "name": "stdout",
     "output_type": "stream",
     "text": [
      "..........................\u001b[34m2023-09-15 14:48:02,752 INFO - sagemaker-containers - No GPUs detected (normal if no gpus installed)\u001b[0m\n",
      "\u001b[34m2023-09-15 14:48:02,757 INFO - sagemaker-containers - No GPUs detected (normal if no gpus installed)\u001b[0m\n",
      "\u001b[34m2023-09-15 14:48:02,758 INFO - sagemaker-containers - nginx config: \u001b[0m\n",
      "\u001b[34mworker_processes auto;\u001b[0m\n",
      "\u001b[34mdaemon off;\u001b[0m\n",
      "\u001b[34mpid /tmp/nginx.pid;\u001b[0m\n",
      "\u001b[34merror_log  /dev/stderr;\u001b[0m\n",
      "\u001b[34mworker_rlimit_nofile 4096;\u001b[0m\n",
      "\u001b[34mevents {\n",
      "  worker_connections 2048;\u001b[0m\n",
      "\u001b[34m}\u001b[0m\n",
      "\u001b[34mhttp {\n",
      "  include /etc/nginx/mime.types;\n",
      "  default_type application/octet-stream;\n",
      "  access_log /dev/stdout combined;\n",
      "  upstream gunicorn {\n",
      "    server unix:/tmp/gunicorn.sock;\n",
      "  }\n",
      "  server {\n",
      "    listen 8080 deferred;\n",
      "    client_max_body_size 0;\n",
      "    keepalive_timeout 3;\n",
      "    location ~ ^/(ping|invocations|execution-parameters) {\n",
      "      proxy_set_header X-Forwarded-For $proxy_add_x_forwarded_for;\n",
      "      proxy_set_header Host $http_host;\n",
      "      proxy_redirect off;\n",
      "      proxy_read_timeout 60s;\n",
      "      proxy_pass http://gunicorn;\n",
      "    }\n",
      "    location / {\n",
      "      return 404 \"{}\";\n",
      "    }\n",
      "  }\u001b[0m\n",
      "\u001b[34m}\u001b[0m\n",
      "\u001b[34m2023-09-15 14:48:03,008 INFO - sagemaker-containers - Module sklearn-train does not provide a setup.py. \u001b[0m\n",
      "\u001b[34mGenerating setup.py\u001b[0m\n",
      "\u001b[34m2023-09-15 14:48:03,009 INFO - sagemaker-containers - Generating setup.cfg\u001b[0m\n",
      "\u001b[34m2023-09-15 14:48:03,009 INFO - sagemaker-containers - Generating MANIFEST.in\u001b[0m\n",
      "\u001b[34m2023-09-15 14:48:03,009 INFO - sagemaker-containers - Installing module with the following command:\u001b[0m\n",
      "\u001b[34m/miniconda3/bin/python3 -m pip install . \u001b[0m\n",
      "\u001b[34mProcessing /opt/ml/code\n",
      "  Preparing metadata (setup.py): started\n",
      "  Preparing metadata (setup.py): finished with status 'done'\u001b[0m\n",
      "\u001b[34mBuilding wheels for collected packages: sklearn-train\n",
      "  Building wheel for sklearn-train (setup.py): started\n",
      "  Building wheel for sklearn-train (setup.py): finished with status 'done'\n",
      "  Created wheel for sklearn-train: filename=sklearn_train-1.0.0-py2.py3-none-any.whl size=4304 sha256=158ae5f6ff1b419ca13be2a5a691fb5bd3b694d2d3f5dabcd83ce3e0dd345797\n",
      "  Stored in directory: /home/model-server/tmp/pip-ephem-wheel-cache-5nry5ijq/wheels/3e/0f/51/2f1df833dd0412c1bc2f5ee56baac195b5be563353d111dca6\u001b[0m\n",
      "\u001b[34mSuccessfully built sklearn-train\u001b[0m\n",
      "\u001b[34mInstalling collected packages: sklearn-train\u001b[0m\n",
      "\u001b[34mSuccessfully installed sklearn-train-1.0.0\u001b[0m\n",
      "\u001b[34mWARNING: Running pip as the 'root' user can result in broken permissions and conflicting behaviour with the system package manager. It is recommended to use a virtual environment instead: https://pip.pypa.io/warnings/venv\u001b[0m\n",
      "\u001b[34m[notice] A new release of pip is available: 23.0 -> 23.2.1\u001b[0m\n",
      "\u001b[34m[notice] To update, run: pip install --upgrade pip\u001b[0m\n",
      "\u001b[34m[2023-09-15 14:48:06 +0000] [31] [INFO] Starting gunicorn 20.0.4\u001b[0m\n",
      "\u001b[34m[2023-09-15 14:48:06 +0000] [31] [INFO] Listening at: unix:/tmp/gunicorn.sock (31)\u001b[0m\n",
      "\u001b[34m[2023-09-15 14:48:06 +0000] [31] [INFO] Using worker: gevent\u001b[0m\n",
      "\u001b[34m[2023-09-15 14:48:06 +0000] [34] [INFO] Booting worker with pid: 34\u001b[0m\n",
      "\u001b[34m[2023-09-15 14:48:06 +0000] [35] [INFO] Booting worker with pid: 35\u001b[0m\n",
      "\n",
      "\u001b[34m2023-09-15 14:48:12,130 INFO - sagemaker-containers - No GPUs detected (normal if no gpus installed)\u001b[0m\n",
      "\u001b[35m2023-09-15 14:48:12,130 INFO - sagemaker-containers - No GPUs detected (normal if no gpus installed)\u001b[0m\n",
      "\u001b[34m169.254.255.130 - - [15/Sep/2023:14:48:14 +0000] \"GET /ping HTTP/1.1\" 200 0 \"-\" \"Go-http-client/1.1\"\u001b[0m\n",
      "\u001b[34m2023-09-15 14:48:14,269 INFO - sagemaker-containers - No GPUs detected (normal if no gpus installed)\u001b[0m\n",
      "\u001b[35m169.254.255.130 - - [15/Sep/2023:14:48:14 +0000] \"GET /ping HTTP/1.1\" 200 0 \"-\" \"Go-http-client/1.1\"\u001b[0m\n",
      "\u001b[35m2023-09-15 14:48:14,269 INFO - sagemaker-containers - No GPUs detected (normal if no gpus installed)\u001b[0m\n",
      "\u001b[34m169.254.255.130 - - [15/Sep/2023:14:48:15 +0000] \"GET /execution-parameters HTTP/1.1\" 404 232 \"-\" \"Go-http-client/1.1\"\u001b[0m\n",
      "\u001b[34m169.254.255.130 - - [15/Sep/2023:14:48:15 +0000] \"POST /invocations HTTP/1.1\" 200 1827 \"-\" \"Go-http-client/1.1\"\u001b[0m\n",
      "\u001b[35m169.254.255.130 - - [15/Sep/2023:14:48:15 +0000] \"GET /execution-parameters HTTP/1.1\" 404 232 \"-\" \"Go-http-client/1.1\"\u001b[0m\n",
      "\u001b[35m169.254.255.130 - - [15/Sep/2023:14:48:15 +0000] \"POST /invocations HTTP/1.1\" 200 1827 \"-\" \"Go-http-client/1.1\"\u001b[0m\n",
      "\u001b[32m2023-09-15T14:48:15.313:[sagemaker logs]: MaxConcurrentTransforms=1, MaxPayloadInMB=6, BatchStrategy=MULTI_RECORD\u001b[0m\n"
     ]
    }
   ],
   "source": [
    "from sagemaker.transformer import Transformer\n",
    "transformer_output_path = f\"s3://{bucket}/{prefix}/transformer-output\"\n",
    "\n",
    "sklearn_transformer = Transformer(\n",
    "    model_name=final_model,\n",
    "    instance_count=1,\n",
    "    instance_type='ml.m5.large', \n",
    "    output_path=transformer_output_path\n",
    ")\n",
    "\n",
    "sklearn_transformer.transform(\n",
    "    data=test_x_path,\n",
    "    data_type='S3Prefix',\n",
    "    content_type='text/csv'\n",
    ")\n"
   ]
  },
  {
   "cell_type": "code",
   "execution_count": 20,
   "id": "081f808c-4f98-423b-8ad8-c3bd5879dcc5",
   "metadata": {
    "tags": []
   },
   "outputs": [
    {
     "name": "stdout",
     "output_type": "stream",
     "text": [
      "download: s3://sagemaker-studio-009676737623-l4vs7j0o0ib/mlops-level1-data/transformer-output/test_x.csv.out to tmp/predictions.csv\n"
     ]
    }
   ],
   "source": [
    "# cell 19\n",
    "!aws s3 cp $transformer_output_path/test_x.csv.out ./tmp/predictions.csv\n"
   ]
  },
  {
   "cell_type": "code",
   "execution_count": 21,
   "id": "3ef473a9-c577-4b81-ae6f-c73ffd5623ee",
   "metadata": {
    "tags": []
   },
   "outputs": [],
   "source": [
    "with open('./tmp/predictions.csv', 'r') as r:\n",
    "    a = r.read()\n",
    "prediction = [int(x) for x in a[1:-1].split(',')]\n",
    "prediction_df = pd.DataFrame({'prediction':prediction})\n"
   ]
  },
  {
   "cell_type": "code",
   "execution_count": 22,
   "id": "b7911143-6857-410c-a57a-3a3e4162c7e8",
   "metadata": {
    "tags": []
   },
   "outputs": [
    {
     "name": "stderr",
     "output_type": "stream",
     "text": [
      "/home/ec2-user/anaconda3/envs/python3/lib/python3.10/site-packages/sklearn/preprocessing/_label.py:153: DataConversionWarning: A column-vector y was passed when a 1d array was expected. Please change the shape of y to (n_samples, ), for example using ravel().\n",
      "  y = column_or_1d(y, warn=True)\n"
     ]
    }
   ],
   "source": [
    "prediction_df['label']= encoder.inverse_transform(prediction_df)"
   ]
  },
  {
   "cell_type": "code",
   "execution_count": 23,
   "id": "93cc5917-1876-4612-b0a9-b0ae8b24341b",
   "metadata": {
    "tags": []
   },
   "outputs": [
    {
     "data": {
      "text/plain": [
       "label\n",
       "WALKING               129\n",
       "STANDING              127\n",
       "LAYING                111\n",
       "SITTING                87\n",
       "WALKING_DOWNSTAIRS     78\n",
       "WALKING_UPSTAIRS       77\n",
       "Name: count, dtype: int64"
      ]
     },
     "execution_count": 23,
     "metadata": {},
     "output_type": "execute_result"
    }
   ],
   "source": [
    "prediction_df['label'].value_counts()"
   ]
  },
  {
   "cell_type": "markdown",
   "id": "a549bbd7-d298-4fa8-92e7-8c2fad87ee83",
   "metadata": {},
   "source": [
    "### Prediction Evaluation"
   ]
  },
  {
   "cell_type": "code",
   "execution_count": 24,
   "id": "56a4154e-f8f9-4798-aeeb-87ea6ef5b490",
   "metadata": {
    "tags": []
   },
   "outputs": [
    {
     "data": {
      "text/html": [
       "<div>\n",
       "<style scoped>\n",
       "    .dataframe tbody tr th:only-of-type {\n",
       "        vertical-align: middle;\n",
       "    }\n",
       "\n",
       "    .dataframe tbody tr th {\n",
       "        vertical-align: top;\n",
       "    }\n",
       "\n",
       "    .dataframe thead th {\n",
       "        text-align: right;\n",
       "    }\n",
       "</style>\n",
       "<table border=\"1\" class=\"dataframe\">\n",
       "  <thead>\n",
       "    <tr style=\"text-align: right;\">\n",
       "      <th>predictions</th>\n",
       "      <th>LAYING</th>\n",
       "      <th>SITTING</th>\n",
       "      <th>STANDING</th>\n",
       "      <th>WALKING</th>\n",
       "      <th>WALKING_DOWNSTAIRS</th>\n",
       "      <th>WALKING_UPSTAIRS</th>\n",
       "    </tr>\n",
       "    <tr>\n",
       "      <th>actuals</th>\n",
       "      <th></th>\n",
       "      <th></th>\n",
       "      <th></th>\n",
       "      <th></th>\n",
       "      <th></th>\n",
       "      <th></th>\n",
       "    </tr>\n",
       "  </thead>\n",
       "  <tbody>\n",
       "    <tr>\n",
       "      <th>LAYING</th>\n",
       "      <td>111</td>\n",
       "      <td>0</td>\n",
       "      <td>0</td>\n",
       "      <td>0</td>\n",
       "      <td>0</td>\n",
       "      <td>0</td>\n",
       "    </tr>\n",
       "    <tr>\n",
       "      <th>SITTING</th>\n",
       "      <td>0</td>\n",
       "      <td>85</td>\n",
       "      <td>14</td>\n",
       "      <td>0</td>\n",
       "      <td>0</td>\n",
       "      <td>0</td>\n",
       "    </tr>\n",
       "    <tr>\n",
       "      <th>STANDING</th>\n",
       "      <td>0</td>\n",
       "      <td>2</td>\n",
       "      <td>112</td>\n",
       "      <td>0</td>\n",
       "      <td>0</td>\n",
       "      <td>0</td>\n",
       "    </tr>\n",
       "    <tr>\n",
       "      <th>WALKING</th>\n",
       "      <td>0</td>\n",
       "      <td>0</td>\n",
       "      <td>0</td>\n",
       "      <td>114</td>\n",
       "      <td>9</td>\n",
       "      <td>3</td>\n",
       "    </tr>\n",
       "    <tr>\n",
       "      <th>WALKING_DOWNSTAIRS</th>\n",
       "      <td>0</td>\n",
       "      <td>0</td>\n",
       "      <td>0</td>\n",
       "      <td>1</td>\n",
       "      <td>69</td>\n",
       "      <td>2</td>\n",
       "    </tr>\n",
       "    <tr>\n",
       "      <th>WALKING_UPSTAIRS</th>\n",
       "      <td>0</td>\n",
       "      <td>0</td>\n",
       "      <td>1</td>\n",
       "      <td>14</td>\n",
       "      <td>0</td>\n",
       "      <td>72</td>\n",
       "    </tr>\n",
       "  </tbody>\n",
       "</table>\n",
       "</div>"
      ],
      "text/plain": [
       "predictions         LAYING  SITTING  STANDING  WALKING  WALKING_DOWNSTAIRS  \\\n",
       "actuals                                                                      \n",
       "LAYING                 111        0         0        0                   0   \n",
       "SITTING                  0       85        14        0                   0   \n",
       "STANDING                 0        2       112        0                   0   \n",
       "WALKING                  0        0         0      114                   9   \n",
       "WALKING_DOWNSTAIRS       0        0         0        1                  69   \n",
       "WALKING_UPSTAIRS         0        0         1       14                   0   \n",
       "\n",
       "predictions         WALKING_UPSTAIRS  \n",
       "actuals                               \n",
       "LAYING                             0  \n",
       "SITTING                            0  \n",
       "STANDING                           0  \n",
       "WALKING                            3  \n",
       "WALKING_DOWNSTAIRS                 2  \n",
       "WALKING_UPSTAIRS                  72  "
      ]
     },
     "execution_count": 24,
     "metadata": {},
     "output_type": "execute_result"
    }
   ],
   "source": [
    "# cell 21\n",
    "pd.crosstab(index=test_y['Activity'].values, columns=prediction_df['label'].values, rownames=['actuals'], colnames=['predictions'])\n"
   ]
  },
  {
   "cell_type": "code",
   "execution_count": null,
   "id": "5a0f2793-6547-4d54-8e14-879ee33b42c3",
   "metadata": {},
   "outputs": [],
   "source": []
  },
  {
   "cell_type": "code",
   "execution_count": null,
   "id": "669f78c9-0e3b-4f0e-9a11-12327fa5c80b",
   "metadata": {},
   "outputs": [],
   "source": []
  },
  {
   "cell_type": "code",
   "execution_count": null,
   "id": "7d1014e6-0965-4ed4-9015-8daf126a3e88",
   "metadata": {},
   "outputs": [],
   "source": []
  }
 ],
 "metadata": {
  "kernelspec": {
   "display_name": "conda_python3",
   "language": "python",
   "name": "conda_python3"
  },
  "language_info": {
   "codemirror_mode": {
    "name": "ipython",
    "version": 3
   },
   "file_extension": ".py",
   "mimetype": "text/x-python",
   "name": "python",
   "nbconvert_exporter": "python",
   "pygments_lexer": "ipython3",
   "version": "3.10.12"
  }
 },
 "nbformat": 4,
 "nbformat_minor": 5
}
