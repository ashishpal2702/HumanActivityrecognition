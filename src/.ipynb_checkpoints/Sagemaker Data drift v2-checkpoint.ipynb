{
 "cells": [
  {
   "cell_type": "code",
   "execution_count": 1,
   "id": "7a7a1da0-9709-435b-9068-fe5cb0dbe85a",
   "metadata": {
    "tags": []
   },
   "outputs": [],
   "source": [
    "# Importing the necessary library\n",
    "import boto3\n",
    "import sagemaker\n",
    "import pandas as pd\n",
    "from joblib import dump, load\n",
    "import s3fs\n"
   ]
  },
  {
   "cell_type": "code",
   "execution_count": 2,
   "id": "aadf6a83-dee3-4b5d-af0a-583c2569a756",
   "metadata": {
    "tags": []
   },
   "outputs": [],
   "source": [
    "# Initialising new sagemaker session as \"sess\".\n",
    "sess = sagemaker.Session()\n",
    "# Bucket variable is used for storing the location of the bucket\n",
    "bucket = 'sagemaker-studio-009676737623-l4vs7j0o0ib'\n",
    "# Assigning the prefix variable \n",
    "prefix = 'mlops-level1-data' \n",
    "# Check for necessary permission needed for training and deploying models. \n",
    "role = sagemaker.get_execution_role()\n",
    "# To understand where this session is configured to operate.\n",
    "region = boto3.Session().region_name\n"
   ]
  },
  {
   "cell_type": "code",
   "execution_count": 4,
   "id": "b0af9ef2-fceb-45a9-8651-d2256621d8f9",
   "metadata": {
    "tags": []
   },
   "outputs": [],
   "source": [
    "v2_df = pd.read_parquet('s3://sagemaker-studio-009676737623-l4vs7j0o0ib/mlops-level1-data/data_drift_check_data/v2.gzip')"
   ]
  },
  {
   "cell_type": "code",
   "execution_count": 5,
   "id": "6fd4d48c-af48-4557-8fca-9c42c96f3d3e",
   "metadata": {
    "tags": []
   },
   "outputs": [
    {
     "name": "stderr",
     "output_type": "stream",
     "text": [
      "/home/ec2-user/anaconda3/envs/python3/lib/python3.10/site-packages/sklearn/base.py:347: InconsistentVersionWarning: Trying to unpickle estimator LabelEncoder from version 0.23.2 when using version 1.3.0. This might lead to breaking code or invalid results. Use at your own risk. For more info please refer to:\n",
      "https://scikit-learn.org/stable/model_persistence.html#security-maintainability-limitations\n",
      "  warnings.warn(\n"
     ]
    }
   ],
   "source": [
    "## Get Features\n",
    "fs = s3fs.S3FileSystem() # Updated method name\n",
    "filename = f's3://{bucket}/{prefix}/feature/feature.joblib'\n",
    "with fs.open(filename, encoding='utf8') as fh:\n",
    "    cols = load(fh)\n",
    "\n",
    "## Get Encoder object\n",
    "filename = f's3://{bucket}/{prefix}/feature/encoder.joblib'\n",
    "with fs.open(filename, encoding='utf8') as fh:\n",
    "    encoder = load(fh)"
   ]
  },
  {
   "cell_type": "code",
   "execution_count": 7,
   "id": "62a63ea9-fd8e-49c5-a3a6-724067966b1a",
   "metadata": {
    "tags": []
   },
   "outputs": [],
   "source": [
    "feature_v2_data = v2_df[cols].sample(10000)"
   ]
  },
  {
   "cell_type": "code",
   "execution_count": 21,
   "id": "7e52137a-c977-4c82-992a-33fdcd89cb76",
   "metadata": {
    "tags": []
   },
   "outputs": [
    {
     "data": {
      "text/plain": [
       "(10000, 13)"
      ]
     },
     "execution_count": 21,
     "metadata": {},
     "output_type": "execute_result"
    }
   ],
   "source": [
    "feature_v2_data.shape"
   ]
  },
  {
   "cell_type": "code",
   "execution_count": 8,
   "id": "60f6d6b8-3354-49e3-ade2-937d92382ed7",
   "metadata": {
    "tags": []
   },
   "outputs": [
    {
     "data": {
      "text/plain": [
       "tGravityAcc-energy()-X       0\n",
       "tGravityAcc-min()-X          0\n",
       "tGravityAcc-max()-X          0\n",
       "tGravityAcc-max()-Y          0\n",
       "tGravityAcc-min()-Y          0\n",
       "angle(X,gravityMean)         0\n",
       "tGravityAcc-mean()-X         0\n",
       "tGravityAcc-mean()-Y         0\n",
       "tBodyAccMag-max()            0\n",
       "tBodyGyroJerk-entropy()-X    0\n",
       "tGravityAcc-energy()-Y       0\n",
       "angle(Y,gravityMean)         0\n",
       "Activity                     0\n",
       "dtype: int64"
      ]
     },
     "execution_count": 8,
     "metadata": {},
     "output_type": "execute_result"
    }
   ],
   "source": [
    "feature_v2_data.isna().sum()"
   ]
  },
  {
   "cell_type": "code",
   "execution_count": null,
   "id": "33cd0802-07e7-42a1-9152-260caff6d84d",
   "metadata": {},
   "outputs": [],
   "source": []
  },
  {
   "cell_type": "code",
   "execution_count": 9,
   "id": "b166ceed-ce87-40fd-a947-ed7bb896b970",
   "metadata": {
    "tags": []
   },
   "outputs": [
    {
     "data": {
      "text/plain": [
       "((10000, 12), (10000, 1))"
      ]
     },
     "execution_count": 9,
     "metadata": {},
     "output_type": "execute_result"
    }
   ],
   "source": [
    "v2_test_x = feature_v2_data.drop('Activity', axis = 1)\n",
    "v2_test_y= feature_v2_data[['Activity']]\n",
    "v2_test_x.shape, v2_test_y.shape"
   ]
  },
  {
   "cell_type": "code",
   "execution_count": 10,
   "id": "8282502c-8017-4ef9-bdd6-fdf438df33f4",
   "metadata": {
    "tags": []
   },
   "outputs": [],
   "source": [
    "test_x_path = \"s3://sagemaker-studio-009676737623-l4vs7j0o0ib/mlops-level1-data/data_drift_check_data/v2/v2_test.csv\"\n",
    "v2_test_x.to_csv(test_x_path,index = False, header=False)"
   ]
  },
  {
   "cell_type": "code",
   "execution_count": null,
   "id": "31f7777a-8dbb-4c0e-8154-df0814a0a1d6",
   "metadata": {},
   "outputs": [],
   "source": []
  },
  {
   "cell_type": "markdown",
   "id": "0040dadf-1cfd-4ca7-b04f-926471dfc1c4",
   "metadata": {},
   "source": [
    "### Model Prediction"
   ]
  },
  {
   "cell_type": "code",
   "execution_count": 12,
   "id": "9ba552c8-75f0-4bfb-a06f-3a1851bca0a9",
   "metadata": {
    "tags": []
   },
   "outputs": [
    {
     "name": "stdout",
     "output_type": "stream",
     "text": [
      "Capture path: s3://sagemaker-studio-009676737623-l4vs7j0o0ib/mlops-level1-data/datacapture\n",
      "Report path: s3://sagemaker-studio-009676737623-l4vs7j0o0ib/mlops-level1-data/reports\n"
     ]
    }
   ],
   "source": [
    "data_capture_prefix = \"{}/datacapture\".format(prefix)\n",
    "s3_capture_upload_path = \"s3://{}/{}\".format(bucket, data_capture_prefix)\n",
    "reports_prefix = \"{}/reports\".format(prefix)\n",
    "s3_report_path = \"s3://{}/{}\".format(bucket, reports_prefix)\n",
    "\n",
    "print(\"Capture path: {}\".format(s3_capture_upload_path))\n",
    "print(\"Report path: {}\".format(s3_report_path))"
   ]
  },
  {
   "cell_type": "code",
   "execution_count": 14,
   "id": "be46122e-02e7-40fd-9c2d-8cd8dc4ef728",
   "metadata": {
    "tags": []
   },
   "outputs": [
    {
     "name": "stderr",
     "output_type": "stream",
     "text": [
      "INFO:sagemaker:Creating transform job with name: sagemaker-scikit-learn-2023-09-23-07-24-08-146\n"
     ]
    },
    {
     "name": "stdout",
     "output_type": "stream",
     "text": [
      "..........................\u001b[34m2023-09-23 07:28:25,713 INFO - sagemaker-containers - No GPUs detected (normal if no gpus installed)\u001b[0m\n",
      "\u001b[34m2023-09-23 07:28:25,716 INFO - sagemaker-containers - No GPUs detected (normal if no gpus installed)\u001b[0m\n",
      "\u001b[34m2023-09-23 07:28:25,717 INFO - sagemaker-containers - nginx config: \u001b[0m\n",
      "\u001b[34mworker_processes auto;\u001b[0m\n",
      "\u001b[34mdaemon off;\u001b[0m\n",
      "\u001b[34mpid /tmp/nginx.pid;\u001b[0m\n",
      "\u001b[34merror_log  /dev/stderr;\u001b[0m\n",
      "\u001b[34mworker_rlimit_nofile 4096;\u001b[0m\n",
      "\u001b[34mevents {\n",
      "  worker_connections 2048;\u001b[0m\n",
      "\u001b[34m}\u001b[0m\n",
      "\u001b[34mhttp {\n",
      "  include /etc/nginx/mime.types;\n",
      "  default_type application/octet-stream;\n",
      "  access_log /dev/stdout combined;\n",
      "  upstream gunicorn {\n",
      "    server unix:/tmp/gunicorn.sock;\n",
      "  }\n",
      "  server {\n",
      "    listen 8080 deferred;\n",
      "    client_max_body_size 0;\n",
      "    keepalive_timeout 3;\n",
      "    location ~ ^/(ping|invocations|execution-parameters) {\n",
      "      proxy_set_header X-Forwarded-For $proxy_add_x_forwarded_for;\n",
      "      proxy_set_header Host $http_host;\n",
      "      proxy_redirect off;\n",
      "      proxy_read_timeout 60s;\n",
      "      proxy_pass http://gunicorn;\n",
      "    }\n",
      "    location / {\n",
      "      return 404 \"{}\";\n",
      "    }\n",
      "  }\u001b[0m\n",
      "\u001b[34m}\u001b[0m\n",
      "\u001b[34m2023-09-23 07:28:26,048 INFO - sagemaker-containers - Module sklearn-train does not provide a setup.py. \u001b[0m\n",
      "\u001b[34mGenerating setup.py\u001b[0m\n",
      "\u001b[34m2023-09-23 07:28:26,048 INFO - sagemaker-containers - Generating setup.cfg\u001b[0m\n",
      "\u001b[34m2023-09-23 07:28:26,049 INFO - sagemaker-containers - Generating MANIFEST.in\u001b[0m\n",
      "\u001b[34m2023-09-23 07:28:26,049 INFO - sagemaker-containers - Installing module with the following command:\u001b[0m\n",
      "\u001b[34m/miniconda3/bin/python3 -m pip install . \u001b[0m\n",
      "\u001b[34mProcessing /opt/ml/code\n",
      "  Preparing metadata (setup.py): started\n",
      "  Preparing metadata (setup.py): finished with status 'done'\u001b[0m\n",
      "\u001b[34mBuilding wheels for collected packages: sklearn-train\n",
      "  Building wheel for sklearn-train (setup.py): started\n",
      "  Building wheel for sklearn-train (setup.py): finished with status 'done'\n",
      "  Created wheel for sklearn-train: filename=sklearn_train-1.0.0-py2.py3-none-any.whl size=4304 sha256=d93230a4d8e0aa92152e410966fe7f41dbdae402b1e84bedc6094db6061353df\n",
      "  Stored in directory: /home/model-server/tmp/pip-ephem-wheel-cache-osmxnaip/wheels/3e/0f/51/2f1df833dd0412c1bc2f5ee56baac195b5be563353d111dca6\u001b[0m\n",
      "\u001b[34mSuccessfully built sklearn-train\u001b[0m\n",
      "\u001b[34mInstalling collected packages: sklearn-train\u001b[0m\n",
      "\u001b[34mSuccessfully installed sklearn-train-1.0.0\u001b[0m\n",
      "\u001b[34mWARNING: Running pip as the 'root' user can result in broken permissions and conflicting behaviour with the system package manager. It is recommended to use a virtual environment instead: https://pip.pypa.io/warnings/venv\u001b[0m\n",
      "\u001b[34m[notice] A new release of pip is available: 23.0 -> 23.2.1\u001b[0m\n",
      "\u001b[34m[notice] To update, run: pip install --upgrade pip\u001b[0m\n",
      "\u001b[34m[2023-09-23 07:28:29 +0000] [31] [INFO] Starting gunicorn 20.0.4\u001b[0m\n",
      "\u001b[34m[2023-09-23 07:28:29 +0000] [31] [INFO] Listening at: unix:/tmp/gunicorn.sock (31)\u001b[0m\n",
      "\u001b[34m[2023-09-23 07:28:29 +0000] [31] [INFO] Using worker: gevent\u001b[0m\n",
      "\u001b[34m[2023-09-23 07:28:29 +0000] [34] [INFO] Booting worker with pid: 34\u001b[0m\n",
      "\u001b[34m[2023-09-23 07:28:29 +0000] [35] [INFO] Booting worker with pid: 35\u001b[0m\n",
      "\u001b[34m2023-09-23 07:28:34,345 INFO - sagemaker-containers - No GPUs detected (normal if no gpus installed)\u001b[0m\n",
      "\u001b[34m169.254.255.130 - - [23/Sep/2023:07:28:36 +0000] \"GET /ping HTTP/1.1\" 200 0 \"-\" \"Go-http-client/1.1\"\u001b[0m\n",
      "\u001b[34m2023-09-23 07:28:36,426 INFO - sagemaker-containers - No GPUs detected (normal if no gpus installed)\u001b[0m\n",
      "\u001b[34m169.254.255.130 - - [23/Sep/2023:07:28:37 +0000] \"GET /execution-parameters HTTP/1.1\" 404 232 \"-\" \"Go-http-client/1.1\"\u001b[0m\n",
      "\u001b[34m169.254.255.130 - - [23/Sep/2023:07:28:37 +0000] \"POST /invocations HTTP/1.1\" 200 30000 \"-\" \"Go-http-client/1.1\"\u001b[0m\n",
      "\n",
      "\u001b[32m2023-09-23T07:28:37.444:[sagemaker logs]: MaxConcurrentTransforms=1, MaxPayloadInMB=6, BatchStrategy=MULTI_RECORD\u001b[0m\n"
     ]
    }
   ],
   "source": [
    "from sagemaker.inputs import BatchDataCaptureConfig\n",
    "from sagemaker.transformer import Transformer\n",
    "final_model = 'rf-scikit-2023-09-19-06-34-16-121' ## Update Inference Endpoint\n",
    "\n",
    "sklearn_transformer = Transformer(\n",
    "    model_name=final_model,\n",
    "    instance_count=1,\n",
    "    instance_type='ml.m5.large'\n",
    ")\n",
    "\n",
    "sklearn_transformer.transform(\n",
    "    data=test_x_path,\n",
    "    data_type='S3Prefix',\n",
    "    content_type='text/csv',\n",
    "    batch_data_capture_config=BatchDataCaptureConfig(\n",
    "        destination_s3_uri=s3_capture_upload_path,\n",
    "    ),\n",
    ")"
   ]
  },
  {
   "cell_type": "code",
   "execution_count": 15,
   "id": "9153da14-7ae1-4041-b717-ead77c4d8f64",
   "metadata": {
    "tags": []
   },
   "outputs": [
    {
     "name": "stdout",
     "output_type": "stream",
     "text": [
      "2023-09-21 17:27:17        103 mlops-level1-data/datacapture/input/2023/09/21/17/4cd90f84-650d-4233-99c5-83ffb84d8364.json\n",
      "2023-09-23 07:28:39        119 mlops-level1-data/datacapture/input/2023/09/23/07/1431e7d4-96b3-4767-a45d-5c6204bf5280.json\n"
     ]
    }
   ],
   "source": [
    "!aws s3 ls {s3_capture_upload_path}/input/ --recursive\n"
   ]
  },
  {
   "cell_type": "code",
   "execution_count": 16,
   "id": "e28c1acd-0803-4983-aac9-682dbd24fe4e",
   "metadata": {
    "tags": []
   },
   "outputs": [
    {
     "name": "stderr",
     "output_type": "stream",
     "text": [
      "INFO:botocore.credentials:Found credentials from IAM Role: BaseNotebookInstanceEc2InstanceRole\n"
     ]
    }
   ],
   "source": [
    "s3 = boto3.client(\"s3\")\n",
    "\n",
    "captured_input_s3_key = [\n",
    "    k[\"Key\"]\n",
    "    for k in s3.list_objects_v2(Bucket=bucket, Prefix=f\"{data_capture_prefix}/input/\")[\"Contents\"]\n",
    "]\n",
    "assert len(captured_input_s3_key) > 0\n"
   ]
  },
  {
   "cell_type": "code",
   "execution_count": 17,
   "id": "78bed6a9-591f-4002-9c6c-6b7117b476bb",
   "metadata": {
    "tags": []
   },
   "outputs": [],
   "source": [
    "import json\n",
    "sample_input_body = s3.get_object(Bucket=bucket, Key=captured_input_s3_key[0])[\"Body\"]\n",
    "sample_input_content = json.loads(sample_input_body.read())\n"
   ]
  },
  {
   "cell_type": "code",
   "execution_count": 18,
   "id": "2227d4f6-021e-4ddb-8d7b-29963fe74a7a",
   "metadata": {
    "tags": []
   },
   "outputs": [
    {
     "data": {
      "text/plain": [
       "[{'prefix': 's3://sagemaker-studio-009676737623-l4vs7j0o0ib/mlops-level1-data/baseline/data/v1.csv'},\n",
       " '']"
      ]
     },
     "execution_count": 18,
     "metadata": {},
     "output_type": "execute_result"
    }
   ],
   "source": [
    "sample_input_content"
   ]
  },
  {
   "cell_type": "code",
   "execution_count": 19,
   "id": "04b7c239-71f2-4a84-a212-3cf7aeaa06f0",
   "metadata": {
    "tags": []
   },
   "outputs": [
    {
     "name": "stdout",
     "output_type": "stream",
     "text": [
      "2023-09-21 17:27:17        114 mlops-level1-data/datacapture/output/2023/09/21/17/b66aed65-49f5-4a4d-a6ee-243ccc0860a9.json\n",
      "2023-09-23 07:28:39        119 mlops-level1-data/datacapture/output/2023/09/23/07/571f3b71-0d2a-46d5-922f-8fdfa070f008.json\n"
     ]
    }
   ],
   "source": [
    "!aws s3 ls {s3_capture_upload_path}/output/ --recursive\n"
   ]
  },
  {
   "cell_type": "code",
   "execution_count": 20,
   "id": "e8561afb-6168-4f27-851f-5d0a62d5d7b6",
   "metadata": {
    "tags": []
   },
   "outputs": [],
   "source": [
    "captured_input_s3_key = [\n",
    "    k[\"Key\"]\n",
    "    for k in s3.list_objects_v2(Bucket=bucket, Prefix=f\"{data_capture_prefix}/output/\")[\"Contents\"]\n",
    "]\n",
    "assert len(captured_input_s3_key) > 0\n",
    "sample_output_body = s3.get_object(Bucket=bucket, Key=captured_input_s3_key[0])[\"Body\"]\n",
    "sample_output_content = json.loads(sample_output_body.read())\n"
   ]
  },
  {
   "cell_type": "code",
   "execution_count": 21,
   "id": "0046fdfa-49ca-4316-9dc9-b4d5b8132c0c",
   "metadata": {
    "tags": []
   },
   "outputs": [
    {
     "data": {
      "text/plain": [
       "[{'prefix': 's3://sagemaker-ap-south-1-009676737623/sagemaker-scikit-learn-2023-09-21-17-23-05-878/'},\n",
       " 'v1.csv.out']"
      ]
     },
     "execution_count": 21,
     "metadata": {},
     "output_type": "execute_result"
    }
   ],
   "source": [
    "sample_output_content\n"
   ]
  },
  {
   "cell_type": "code",
   "execution_count": null,
   "id": "468d8b4e-4f24-489d-823b-ddf4e0b1ab3f",
   "metadata": {},
   "outputs": [],
   "source": []
  },
  {
   "cell_type": "markdown",
   "id": "3a146d56-16d7-4304-9a18-caddbe363ec2",
   "metadata": {
    "tags": []
   },
   "source": [
    "## Monitor Schedule"
   ]
  },
  {
   "cell_type": "code",
   "execution_count": 24,
   "id": "9d7d6650-8c59-4455-a1e2-0453df43bd1a",
   "metadata": {
    "tags": []
   },
   "outputs": [
    {
     "name": "stdout",
     "output_type": "stream",
     "text": [
      "Baseline data uri: s3://sagemaker-studio-009676737623-l4vs7j0o0ib/mlops-level1-data/baseline/data\n",
      "Baseline results uri: s3://sagemaker-studio-009676737623-l4vs7j0o0ib/mlops-level1-data/baseline/results\n"
     ]
    }
   ],
   "source": [
    "# copy over the training dataset to Amazon S3 (if you already have it in Amazon S3, you could reuse it)\n",
    "baseline_prefix = prefix + \"/baseline\"\n",
    "baseline_data_prefix = baseline_prefix + \"/data\"\n",
    "baseline_results_prefix = baseline_prefix + \"/results\"\n",
    "\n",
    "baseline_data_uri = \"s3://{}/{}\".format(bucket, baseline_data_prefix)\n",
    "baseline_results_uri = \"s3://{}/{}\".format(bucket, baseline_results_prefix)\n",
    "print(\"Baseline data uri: {}\".format(baseline_data_uri))\n",
    "print(\"Baseline results uri: {}\".format(baseline_results_uri))"
   ]
  },
  {
   "cell_type": "code",
   "execution_count": 25,
   "id": "7aa77075-606f-4020-959e-69eecbd30b7a",
   "metadata": {},
   "outputs": [
    {
     "ename": "NameError",
     "evalue": "name 'my_default_monitor' is not defined",
     "output_type": "error",
     "traceback": [
      "\u001b[0;31m---------------------------------------------------------------------------\u001b[0m",
      "\u001b[0;31mNameError\u001b[0m                                 Traceback (most recent call last)",
      "Cell \u001b[0;32mIn[25], line 12\u001b[0m\n\u001b[1;32m      7\u001b[0m constraints_path \u001b[38;5;241m=\u001b[39m \u001b[38;5;124m\"\u001b[39m\u001b[38;5;132;01m{}\u001b[39;00m\u001b[38;5;124m/constraints.json\u001b[39m\u001b[38;5;124m\"\u001b[39m\u001b[38;5;241m.\u001b[39mformat(baseline_results_uri)\n\u001b[1;32m      9\u001b[0m mon_schedule_name \u001b[38;5;241m=\u001b[39m \u001b[38;5;124m\"\u001b[39m\u001b[38;5;124mDEMO-mlops1-model-monitor-schedule-\u001b[39m\u001b[38;5;124m\"\u001b[39m \u001b[38;5;241m+\u001b[39m strftime(\n\u001b[1;32m     10\u001b[0m     \u001b[38;5;124m\"\u001b[39m\u001b[38;5;124m%\u001b[39m\u001b[38;5;124mY-\u001b[39m\u001b[38;5;124m%\u001b[39m\u001b[38;5;124mm-\u001b[39m\u001b[38;5;132;01m%d\u001b[39;00m\u001b[38;5;124m-\u001b[39m\u001b[38;5;124m%\u001b[39m\u001b[38;5;124mH-\u001b[39m\u001b[38;5;124m%\u001b[39m\u001b[38;5;124mM-\u001b[39m\u001b[38;5;124m%\u001b[39m\u001b[38;5;124mS\u001b[39m\u001b[38;5;124m\"\u001b[39m, gmtime()\n\u001b[1;32m     11\u001b[0m )\n\u001b[0;32m---> 12\u001b[0m \u001b[43mmy_default_monitor\u001b[49m\u001b[38;5;241m.\u001b[39mcreate_monitoring_schedule(\n\u001b[1;32m     13\u001b[0m     monitor_schedule_name\u001b[38;5;241m=\u001b[39mmon_schedule_name,\n\u001b[1;32m     14\u001b[0m     batch_transform_input\u001b[38;5;241m=\u001b[39mBatchTransformInput(\n\u001b[1;32m     15\u001b[0m         data_captured_destination_s3_uri\u001b[38;5;241m=\u001b[39ms3_capture_upload_path,\n\u001b[1;32m     16\u001b[0m         destination\u001b[38;5;241m=\u001b[39m\u001b[38;5;124m\"\u001b[39m\u001b[38;5;124m/opt/ml/processing/input\u001b[39m\u001b[38;5;124m\"\u001b[39m,\n\u001b[1;32m     17\u001b[0m         dataset_format\u001b[38;5;241m=\u001b[39mMonitoringDatasetFormat\u001b[38;5;241m.\u001b[39mcsv(header\u001b[38;5;241m=\u001b[39m\u001b[38;5;28;01mFalse\u001b[39;00m),\n\u001b[1;32m     18\u001b[0m     ),\n\u001b[1;32m     19\u001b[0m     output_s3_uri\u001b[38;5;241m=\u001b[39ms3_report_path,\n\u001b[1;32m     20\u001b[0m     statistics\u001b[38;5;241m=\u001b[39mstatistics_path,\n\u001b[1;32m     21\u001b[0m     constraints\u001b[38;5;241m=\u001b[39mconstraints_path,\n\u001b[1;32m     22\u001b[0m     schedule_cron_expression\u001b[38;5;241m=\u001b[39mCronExpressionGenerator\u001b[38;5;241m.\u001b[39mhourly(),\n\u001b[1;32m     23\u001b[0m     enable_cloudwatch_metrics\u001b[38;5;241m=\u001b[39m\u001b[38;5;28;01mTrue\u001b[39;00m,\n\u001b[1;32m     24\u001b[0m )\n",
      "\u001b[0;31mNameError\u001b[0m: name 'my_default_monitor' is not defined"
     ]
    }
   ],
   "source": [
    "from sagemaker.model_monitor import CronExpressionGenerator\n",
    "from sagemaker.model_monitor import BatchTransformInput\n",
    "from sagemaker.model_monitor import MonitoringDatasetFormat\n",
    "from time import gmtime, strftime\n",
    "\n",
    "statistics_path = \"{}/statistics.json\".format(baseline_results_uri)\n",
    "constraints_path = \"{}/constraints.json\".format(baseline_results_uri)\n",
    "\n",
    "mon_schedule_name = \"DEMO-mlops1-model-monitor-schedule-\" + strftime(\n",
    "    \"%Y-%m-%d-%H-%M-%S\", gmtime()\n",
    ")\n",
    "my_default_monitor.create_monitoring_schedule(\n",
    "    monitor_schedule_name=mon_schedule_name,\n",
    "    batch_transform_input=BatchTransformInput(\n",
    "        data_captured_destination_s3_uri=s3_capture_upload_path,\n",
    "        destination=\"/opt/ml/processing/input\",\n",
    "        dataset_format=MonitoringDatasetFormat.csv(header=False),\n",
    "    ),\n",
    "    output_s3_uri=s3_report_path,\n",
    "    statistics=statistics_path,\n",
    "    constraints=constraints_path,\n",
    "    schedule_cron_expression=CronExpressionGenerator.hourly(),\n",
    "    enable_cloudwatch_metrics=True,\n",
    ")\n"
   ]
  },
  {
   "cell_type": "code",
   "execution_count": 22,
   "id": "a1890aa0-453d-4ef0-b9df-ee4fffb66482",
   "metadata": {},
   "outputs": [
    {
     "ename": "NameError",
     "evalue": "name 'my_default_monitor' is not defined",
     "output_type": "error",
     "traceback": [
      "\u001b[0;31m---------------------------------------------------------------------------\u001b[0m",
      "\u001b[0;31mNameError\u001b[0m                                 Traceback (most recent call last)",
      "Cell \u001b[0;32mIn[22], line 1\u001b[0m\n\u001b[0;32m----> 1\u001b[0m desc_schedule_result \u001b[38;5;241m=\u001b[39m \u001b[43mmy_default_monitor\u001b[49m\u001b[38;5;241m.\u001b[39mdescribe_schedule()\n\u001b[1;32m      2\u001b[0m \u001b[38;5;28mprint\u001b[39m(\u001b[38;5;124m\"\u001b[39m\u001b[38;5;124mSchedule status: \u001b[39m\u001b[38;5;132;01m{}\u001b[39;00m\u001b[38;5;124m\"\u001b[39m\u001b[38;5;241m.\u001b[39mformat(desc_schedule_result[\u001b[38;5;124m\"\u001b[39m\u001b[38;5;124mMonitoringScheduleStatus\u001b[39m\u001b[38;5;124m\"\u001b[39m]))\n",
      "\u001b[0;31mNameError\u001b[0m: name 'my_default_monitor' is not defined"
     ]
    }
   ],
   "source": [
    "desc_schedule_result = my_default_monitor.describe_schedule()\n",
    "print(\"Schedule status: {}\".format(desc_schedule_result[\"MonitoringScheduleStatus\"]))\n",
    "\n"
   ]
  },
  {
   "cell_type": "code",
   "execution_count": 63,
   "id": "130d9998-a500-4bf1-8aa8-e2dcffaf8ee2",
   "metadata": {},
   "outputs": [
    {
     "name": "stdout",
     "output_type": "stream",
     "text": [
      "We created a hourly schedule above and it will kick off executions ON the hour (plus 0 - 20 min buffer.\n",
      "We will have to wait till we hit the hour...\n"
     ]
    }
   ],
   "source": [
    "import time\n",
    "\n",
    "mon_executions = my_default_monitor.list_executions()\n",
    "print(\n",
    "    \"We created a hourly schedule above and it will kick off executions ON the hour (plus 0 - 20 min buffer.\\nWe will have to wait till we hit the hour...\"\n",
    ")\n",
    "\n",
    "while len(mon_executions) == 0:\n",
    "    print(\"Waiting for the 1st execution to happen...\")\n",
    "    time.sleep(60)\n",
    "    mon_executions = my_default_monitor.list_executions()"
   ]
  },
  {
   "cell_type": "code",
   "execution_count": 64,
   "id": "98225c45-667b-4fa0-be23-9cf0ca67a289",
   "metadata": {
    "tags": []
   },
   "outputs": [
    {
     "name": "stdout",
     "output_type": "stream",
     "text": [
      "!Latest execution status: Completed\n",
      "Latest execution result: CompletedWithViolations: Job completed successfully with 1 violations.\n"
     ]
    }
   ],
   "source": [
    "latest_execution = mon_executions[\n",
    "    -1\n",
    "]  # latest execution's index is -1, second to last is -2 and so on..\n",
    "# time.sleep(60)\n",
    "latest_execution.wait(logs=False)\n",
    "\n",
    "print(\"Latest execution status: {}\".format(latest_execution.describe()[\"ProcessingJobStatus\"]))\n",
    "print(\"Latest execution result: {}\".format(latest_execution.describe()[\"ExitMessage\"]))\n",
    "\n",
    "latest_job = latest_execution.describe()\n",
    "if latest_job[\"ProcessingJobStatus\"] != \"Completed\":\n",
    "    print(\n",
    "        \"====STOP==== \\n No completed executions to inspect further. Please wait till an execution completes or investigate previously reported failures.\"\n",
    "    )"
   ]
  },
  {
   "cell_type": "code",
   "execution_count": 66,
   "id": "cf5cc922-c9bf-476a-9442-86286c30e35a",
   "metadata": {
    "tags": []
   },
   "outputs": [
    {
     "name": "stdout",
     "output_type": "stream",
     "text": [
      "Report Uri: s3://sagemaker-studio-009676737623-l4vs7j0o0ib/mlops-level1-data/reports/DEMO-xgb-churn-pred-model-monitor-schedule-2023-09-21-17-54-46/2023/09/21/18\n"
     ]
    }
   ],
   "source": [
    "report_uri = latest_execution.output.destination\n",
    "print(\"Report Uri: {}\".format(report_uri))"
   ]
  },
  {
   "cell_type": "code",
   "execution_count": 67,
   "id": "cbf69b91-1d22-4b5b-8a09-e1dc3a51ad65",
   "metadata": {
    "tags": []
   },
   "outputs": [
    {
     "name": "stderr",
     "output_type": "stream",
     "text": [
      "INFO:botocore.credentials:Found credentials from IAM Role: BaseNotebookInstanceEc2InstanceRole\n"
     ]
    },
    {
     "name": "stdout",
     "output_type": "stream",
     "text": [
      "Report bucket: sagemaker-studio-009676737623-l4vs7j0o0ib\n",
      "Report key: mlops-level1-data/reports/DEMO-xgb-churn-pred-model-monitor-schedule-2023-09-21-17-54-46/2023/09/21/18\n",
      "Found Report Files:\n",
      "mlops-level1-data/reports/DEMO-xgb-churn-pred-model-monitor-schedule-2023-09-21-17-54-46/2023/09/21/18/constraint_violations.json\n"
     ]
    }
   ],
   "source": [
    "from urllib.parse import urlparse\n",
    "\n",
    "s3uri = urlparse(report_uri)\n",
    "report_bucket = s3uri.netloc\n",
    "report_key = s3uri.path.lstrip(\"/\")\n",
    "print(\"Report bucket: {}\".format(report_bucket))\n",
    "print(\"Report key: {}\".format(report_key))\n",
    "\n",
    "s3_client = boto3.Session().client(\"s3\")\n",
    "result = s3_client.list_objects(Bucket=report_bucket, Prefix=report_key)\n",
    "report_files = [report_file.get(\"Key\") for report_file in result.get(\"Contents\")]\n",
    "print(\"Found Report Files:\")\n",
    "print(\"\\n \".join(report_files))"
   ]
  },
  {
   "cell_type": "code",
   "execution_count": 70,
   "id": "2909949c-67ae-48b3-a7d7-31587fa51500",
   "metadata": {
    "tags": []
   },
   "outputs": [
    {
     "data": {
      "text/html": [
       "<div>\n",
       "<style scoped>\n",
       "    .dataframe tbody tr th:only-of-type {\n",
       "        vertical-align: middle;\n",
       "    }\n",
       "\n",
       "    .dataframe tbody tr th {\n",
       "        vertical-align: top;\n",
       "    }\n",
       "\n",
       "    .dataframe thead th {\n",
       "        text-align: right;\n",
       "    }\n",
       "</style>\n",
       "<table border=\"1\" class=\"dataframe\">\n",
       "  <thead>\n",
       "    <tr style=\"text-align: right;\">\n",
       "      <th></th>\n",
       "      <th>feature_name</th>\n",
       "      <th>constraint_check_type</th>\n",
       "      <th>description</th>\n",
       "    </tr>\n",
       "  </thead>\n",
       "  <tbody>\n",
       "    <tr>\n",
       "      <th>0</th>\n",
       "      <td>Missing columns</td>\n",
       "      <td>missing_column_check</td>\n",
       "      <td>There are missing columns in current dataset. ...</td>\n",
       "    </tr>\n",
       "  </tbody>\n",
       "</table>\n",
       "</div>"
      ],
      "text/plain": [
       "      feature_name constraint_check_type  \\\n",
       "0  Missing columns  missing_column_check   \n",
       "\n",
       "                                         description  \n",
       "0  There are missing columns in current dataset. ...  "
      ]
     },
     "execution_count": 70,
     "metadata": {},
     "output_type": "execute_result"
    }
   ],
   "source": [
    "violations = my_default_monitor.latest_monitoring_constraint_violations()\n",
    "#pd.set_option(\"display.max_colwidth\", -1)\n",
    "constraints_df = json_normalize(violations.body_dict[\"violations\"])\n",
    "constraints_df.head(10)"
   ]
  },
  {
   "cell_type": "code",
   "execution_count": null,
   "id": "2a50d83e-f1ec-4517-b166-84d4a64f80de",
   "metadata": {},
   "outputs": [],
   "source": []
  }
 ],
 "metadata": {
  "kernelspec": {
   "display_name": "conda_python3",
   "language": "python",
   "name": "conda_python3"
  },
  "language_info": {
   "codemirror_mode": {
    "name": "ipython",
    "version": 3
   },
   "file_extension": ".py",
   "mimetype": "text/x-python",
   "name": "python",
   "nbconvert_exporter": "python",
   "pygments_lexer": "ipython3",
   "version": "3.10.12"
  }
 },
 "nbformat": 4,
 "nbformat_minor": 5
}
