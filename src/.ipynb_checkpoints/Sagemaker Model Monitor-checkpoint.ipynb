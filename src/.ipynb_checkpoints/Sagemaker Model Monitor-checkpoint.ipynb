{
 "cells": [
  {
   "cell_type": "code",
   "execution_count": 3,
   "id": "7a7a1da0-9709-435b-9068-fe5cb0dbe85a",
   "metadata": {
    "tags": []
   },
   "outputs": [],
   "source": [
    "# Importing the necessary library\n",
    "import boto3\n",
    "import sagemaker\n",
    "import pandas as pd\n",
    "from joblib import dump, load\n",
    "import s3fs\n"
   ]
  },
  {
   "cell_type": "code",
   "execution_count": 4,
   "id": "aadf6a83-dee3-4b5d-af0a-583c2569a756",
   "metadata": {
    "tags": []
   },
   "outputs": [],
   "source": [
    "# Initialising new sagemaker session as \"sess\".\n",
    "sess = sagemaker.Session()\n",
    "# Bucket variable is used for storing the location of the bucket\n",
    "bucket = 'sagemaker-studio-009676737623-l4vs7j0o0ib'\n",
    "# Assigning the prefix variable \n",
    "prefix = 'mlops-level1-data' \n",
    "# Check for necessary permission needed for training and deploying models. \n",
    "role = sagemaker.get_execution_role()\n",
    "# To understand where this session is configured to operate.\n",
    "region = boto3.Session().region_name\n"
   ]
  },
  {
   "cell_type": "markdown",
   "id": "7444d86f-b96b-49a7-9c54-1fbfac2c7e7a",
   "metadata": {},
   "source": [
    "## Create a Model Quality Baseline"
   ]
  },
  {
   "cell_type": "code",
   "execution_count": 5,
   "id": "01439b9a-fc83-434d-95e1-9a635466997c",
   "metadata": {
    "tags": []
   },
   "outputs": [],
   "source": [
    "from sagemaker import get_execution_role, session, Session\n",
    "from sagemaker.model_monitor import ModelQualityMonitor , MonitoringDatasetFormat\n",
    "\n",
    "model_quality_monitor = ModelQualityMonitor(\n",
    "    role=role,\n",
    "    instance_count=1,\n",
    "    instance_type='ml.m5.xlarge',\n",
    "    volume_size_in_gb=20,\n",
    "    max_runtime_in_seconds=1800,\n",
    "    sagemaker_session=sess\n",
    ")"
   ]
  },
  {
   "cell_type": "code",
   "execution_count": 12,
   "id": "90b48871-d395-4005-be8e-aec1f9d73bec",
   "metadata": {
    "tags": []
   },
   "outputs": [],
   "source": [
    "baseline_dataset_uri = 's3://sagemaker-studio-009676737623-l4vs7j0o0ib/mlops-level1-data/data_drift_check_data/output/v1'\n",
    "baseline_results_uri = 's3://sagemaker-studio-009676737623-l4vs7j0o0ib/mlops-level1-data/data_drift_check_data/result/v1'\n"
   ]
  },
  {
   "cell_type": "code",
   "execution_count": 15,
   "id": "df7687c2-badc-48c4-9500-94904b23121e",
   "metadata": {},
   "outputs": [],
   "source": [
    "df = pd.read_csv('s3://sagemaker-studio-009676737623-l4vs7j0o0ib/mlops-level1-data/data_drift_check_data/output/v1/v1_data.csv')"
   ]
  },
  {
   "cell_type": "code",
   "execution_count": 8,
   "id": "c0a6c80f-b293-43c9-a776-4a3d9c26c109",
   "metadata": {
    "tags": []
   },
   "outputs": [
    {
     "name": "stderr",
     "output_type": "stream",
     "text": [
      "INFO:sagemaker:Creating processing-job with name model-quality-check-BaseLineJob\n"
     ]
    },
    {
     "name": "stdout",
     "output_type": "stream",
     "text": [
      "..................................................................!"
     ]
    }
   ],
   "source": [
    "baseline_job_name = \"model-quality-check-BaseLineJob\"\n",
    "job = model_quality_monitor.suggest_baseline(\n",
    "    job_name=baseline_job_name,\n",
    "    baseline_dataset=baseline_dataset_uri, # The S3 location of the validation dataset.\n",
    "    dataset_format=MonitoringDatasetFormat.csv(header=True),\n",
    "    output_s3_uri = baseline_results_uri, # The S3 location to store the results.\n",
    "    problem_type='MulticlassClassification',\n",
    "    inference_attribute= \"prediction\", # The column in the dataset that contains predictions.\n",
    "    ground_truth_attribute= \"label\" # The column in the dataset that contains ground truth labels.\n",
    ")\n",
    "job.wait(logs=False)"
   ]
  },
  {
   "cell_type": "code",
   "execution_count": 9,
   "id": "9f85c161-ff6d-438e-a5d7-e91a0873615b",
   "metadata": {
    "tags": []
   },
   "outputs": [],
   "source": [
    "baseline_job = model_quality_monitor.latest_baselining_job"
   ]
  },
  {
   "cell_type": "code",
   "execution_count": 10,
   "id": "0ec09ef0-007c-4b4f-a798-c856dba7670b",
   "metadata": {
    "tags": []
   },
   "outputs": [
    {
     "data": {
      "text/html": [
       "<div>\n",
       "<style scoped>\n",
       "    .dataframe tbody tr th:only-of-type {\n",
       "        vertical-align: middle;\n",
       "    }\n",
       "\n",
       "    .dataframe tbody tr th {\n",
       "        vertical-align: top;\n",
       "    }\n",
       "\n",
       "    .dataframe thead th {\n",
       "        text-align: right;\n",
       "    }\n",
       "</style>\n",
       "<table border=\"1\" class=\"dataframe\">\n",
       "  <thead>\n",
       "    <tr style=\"text-align: right;\">\n",
       "      <th></th>\n",
       "      <th>threshold</th>\n",
       "      <th>comparison_operator</th>\n",
       "    </tr>\n",
       "  </thead>\n",
       "  <tbody>\n",
       "    <tr>\n",
       "      <th>accuracy</th>\n",
       "      <td>0.880131</td>\n",
       "      <td>LessThanThreshold</td>\n",
       "    </tr>\n",
       "    <tr>\n",
       "      <th>weighted_recall</th>\n",
       "      <td>0.880131</td>\n",
       "      <td>LessThanThreshold</td>\n",
       "    </tr>\n",
       "    <tr>\n",
       "      <th>weighted_precision</th>\n",
       "      <td>0.884306</td>\n",
       "      <td>LessThanThreshold</td>\n",
       "    </tr>\n",
       "    <tr>\n",
       "      <th>weighted_f0_5</th>\n",
       "      <td>0.879333</td>\n",
       "      <td>LessThanThreshold</td>\n",
       "    </tr>\n",
       "    <tr>\n",
       "      <th>weighted_f1</th>\n",
       "      <td>0.876337</td>\n",
       "      <td>LessThanThreshold</td>\n",
       "    </tr>\n",
       "    <tr>\n",
       "      <th>weighted_f2</th>\n",
       "      <td>0.87748</td>\n",
       "      <td>LessThanThreshold</td>\n",
       "    </tr>\n",
       "  </tbody>\n",
       "</table>\n",
       "</div>"
      ],
      "text/plain": [
       "                   threshold comparison_operator\n",
       "accuracy            0.880131   LessThanThreshold\n",
       "weighted_recall     0.880131   LessThanThreshold\n",
       "weighted_precision  0.884306   LessThanThreshold\n",
       "weighted_f0_5       0.879333   LessThanThreshold\n",
       "weighted_f1         0.876337   LessThanThreshold\n",
       "weighted_f2          0.87748   LessThanThreshold"
      ]
     },
     "execution_count": 10,
     "metadata": {},
     "output_type": "execute_result"
    }
   ],
   "source": [
    "import pandas as pd\n",
    "pd.DataFrame(baseline_job.suggested_constraints().body_dict[\"multiclass_classification_constraints\"]).T"
   ]
  },
  {
   "cell_type": "code",
   "execution_count": 11,
   "id": "327dd307-dbb3-4e71-a519-2ee115c9b28e",
   "metadata": {
    "tags": []
   },
   "outputs": [
    {
     "ename": "KeyError",
     "evalue": "'multiclasss_classification_metrics'",
     "output_type": "error",
     "traceback": [
      "\u001b[0;31m---------------------------------------------------------------------------\u001b[0m",
      "\u001b[0;31mKeyError\u001b[0m                                  Traceback (most recent call last)",
      "Cell \u001b[0;32mIn[11], line 1\u001b[0m\n\u001b[0;32m----> 1\u001b[0m multiclass_metrics \u001b[38;5;241m=\u001b[39m \u001b[43mbaseline_job\u001b[49m\u001b[38;5;241;43m.\u001b[39;49m\u001b[43mbaseline_statistics\u001b[49m\u001b[43m(\u001b[49m\u001b[43m)\u001b[49m\u001b[38;5;241;43m.\u001b[39;49m\u001b[43mbody_dict\u001b[49m\u001b[43m[\u001b[49m\u001b[38;5;124;43m\"\u001b[39;49m\u001b[38;5;124;43mmulticlasss_classification_metrics\u001b[39;49m\u001b[38;5;124;43m\"\u001b[39;49m\u001b[43m]\u001b[49m\n\u001b[1;32m      2\u001b[0m pd\u001b[38;5;241m.\u001b[39mjson_normalize(multiclass_metricss)\u001b[38;5;241m.\u001b[39mT\n",
      "\u001b[0;31mKeyError\u001b[0m: 'multiclasss_classification_metrics'"
     ]
    }
   ],
   "source": [
    "multiclass_metrics = baseline_job.baseline_statistics().body_dict[\"multiclasss_classification_metrics\"]\n",
    "pd.json_normalize(multiclass_metricss).T"
   ]
  },
  {
   "cell_type": "code",
   "execution_count": null,
   "id": "c3521e56-8df4-47f4-8d1b-e475724cf6ba",
   "metadata": {},
   "outputs": [],
   "source": []
  },
  {
   "cell_type": "code",
   "execution_count": null,
   "id": "b723bcde-9e05-468e-9227-9b1823795e1b",
   "metadata": {},
   "outputs": [],
   "source": []
  },
  {
   "cell_type": "code",
   "execution_count": null,
   "id": "c8821ff9-d59f-45f0-bb19-7eff381d7574",
   "metadata": {},
   "outputs": [],
   "source": []
  },
  {
   "cell_type": "code",
   "execution_count": null,
   "id": "89d0067c-6a2c-4cd3-a2b4-5c87932e8bb9",
   "metadata": {},
   "outputs": [],
   "source": []
  },
  {
   "cell_type": "code",
   "execution_count": null,
   "id": "5eae51df-5244-432e-8ef9-b219481ffbad",
   "metadata": {},
   "outputs": [],
   "source": []
  }
 ],
 "metadata": {
  "kernelspec": {
   "display_name": "conda_python3",
   "language": "python",
   "name": "conda_python3"
  },
  "language_info": {
   "codemirror_mode": {
    "name": "ipython",
    "version": 3
   },
   "file_extension": ".py",
   "mimetype": "text/x-python",
   "name": "python",
   "nbconvert_exporter": "python",
   "pygments_lexer": "ipython3",
   "version": "3.10.12"
  }
 },
 "nbformat": 4,
 "nbformat_minor": 5
}
