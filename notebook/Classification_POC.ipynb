{
 "cells": [
  {
   "cell_type": "markdown",
   "metadata": {
    "colab_type": "text",
    "id": "view-in-github"
   },
   "source": [
    "<a href=\"https://colab.research.google.com/github/ashishpal2702/HumanActivityrecognition/blob/main/Logistic_Regression_and_Classification_POC.ipynb\" target=\"_parent\"><img src=\"https://colab.research.google.com/assets/colab-badge.svg\" alt=\"Open In Colab\"/></a>"
   ]
  },
  {
   "cell_type": "markdown",
   "metadata": {
    "id": "HMCUKoLjOLyO"
   },
   "source": [
    "## Introduction\n",
    "\n",
    "We will be using the [Human Activity Recognition with Smartphones](https://archive.ics.uci.edu/ml/datasets/Human+Activity+Recognition+Using+Smartphones) database, which was built from the recordings of study participants performing activities of daily living (ADL) while carrying a smartphone with an embedded inertial sensors. The objective is to classify activities into one of the six activities (walking, walking upstairs, walking downstairs, sitting, standing, and laying) performed.\n",
    "\n",
    "For each record in the dataset it is provided: \n",
    "\n",
    "- Triaxial acceleration from the accelerometer (total acceleration) and the estimated body acceleration. \n",
    "- Triaxial Angular velocity from the gyroscope. \n",
    "- A 561-feature vector with time and frequency domain variables. \n",
    "- Its activity label. \n",
    "\n",
    "More information about the features is available on the website above."
   ]
  },
  {
   "cell_type": "code",
   "execution_count": null,
   "metadata": {
    "colab": {
     "base_uri": "https://localhost:8080/"
    },
    "id": "UB7aLGJfOUJi",
    "outputId": "abbcb05f-c4ab-4fc7-f8a8-aaa84cc5453c",
    "pycharm": {
     "is_executing": true
    }
   },
   "outputs": [],
   "source": [
    "#from google.colab import drive\n",
    "#drive.mount('/content/drive')"
   ]
  },
  {
   "cell_type": "code",
   "execution_count": 18,
   "metadata": {
    "id": "hQoLjWtEOLyR"
   },
   "outputs": [],
   "source": [
    "from __future__ import print_function\n",
    "import os\n",
    "data_path = [ 'data']\n",
    "\n",
    "from sklearn.preprocessing import LabelEncoder , StandardScaler\n",
    "from sklearn.model_selection import StratifiedShuffleSplit\n",
    "from sklearn.linear_model import LogisticRegression\n",
    "from sklearn.linear_model import LogisticRegressionCV\n",
    "from sklearn.metrics import precision_recall_fscore_support as score\n",
    "from sklearn.metrics import confusion_matrix, accuracy_score, roc_auc_score\n",
    "from sklearn.preprocessing import label_binarize\n",
    "from sklearn.ensemble import ExtraTreesClassifier\n"
   ]
  },
  {
   "cell_type": "code",
   "execution_count": null,
   "metadata": {
    "id": "r0-3lCVbOLyT"
   },
   "outputs": [],
   "source": [
    "#import matplotlib.pyplot as plt\n",
    "#import seaborn as sns\n",
    "#%matplotlib inline"
   ]
  },
  {
   "cell_type": "markdown",
   "metadata": {
    "id": "RVdIsc3nOLyT"
   },
   "source": [
    "## 1. Data Import\n",
    "\n",
    "Import the data and do the following:\n",
    "\n",
    "* Examine the data types--there are many columns, so it might be wise to use value counts\n",
    "* Determine if the floating point values need to be scaled\n",
    "* Determine the breakdown of each activity\n",
    "* Encode the activity label as an integer"
   ]
  },
  {
   "cell_type": "code",
   "execution_count": 32,
   "metadata": {
    "id": "YB2Igb5UOLyT"
   },
   "outputs": [],
   "source": [
    "import pandas as pd\n",
    "import numpy as np\n",
    "import os\n",
    "#filepath = '/Users/apal/Documents/PathtoAI/AnalyticsVidhya/Mlops/data//Human_Activity_Recognition_Using_Smartphones_Data_augmented_data.gzip'\n",
    "filepath = '/Users/apal/Documents/PathtoAI/AnalyticsVidhya/Mlops/data/Human_Activity_Recognition_Using_Smartphones_Data_augmented_timedata_sample.gzip'\n",
    "data = pd.read_parquet(filepath)"
   ]
  },
  {
   "cell_type": "code",
   "execution_count": 33,
   "metadata": {
    "colab": {
     "base_uri": "https://localhost:8080/"
    },
    "id": "scy6wZJLOLyU",
    "outputId": "31dcdf91-7f3c-42e2-e7b5-39cfadee2a10"
   },
   "outputs": [
    {
     "data": {
      "text/plain": [
       "(100000, 563)"
      ]
     },
     "execution_count": 33,
     "metadata": {},
     "output_type": "execute_result"
    }
   ],
   "source": [
    "data.shape"
   ]
  },
  {
   "cell_type": "code",
   "execution_count": 34,
   "metadata": {
    "id": "cNH84MRq8tjp"
   },
   "outputs": [],
   "source": [
    "#data = data.sample(10000)"
   ]
  },
  {
   "cell_type": "code",
   "execution_count": 35,
   "metadata": {
    "id": "2f4LN25ThFcA"
   },
   "outputs": [],
   "source": [
    "sensors = set()\n",
    "for col in data.columns:\n",
    "    sensors.add(col.split(\"-\")[0])"
   ]
  },
  {
   "cell_type": "code",
   "execution_count": 36,
   "metadata": {
    "colab": {
     "base_uri": "https://localhost:8080/"
    },
    "id": "baVxSkWkhqOM",
    "outputId": "2458773a-a85f-4ac9-c500-33d1dad011b2"
   },
   "outputs": [
    {
     "data": {
      "text/plain": [
       "{'Activity',\n",
       " 'angle(X,gravityMean)',\n",
       " 'angle(Y,gravityMean)',\n",
       " 'angle(Z,gravityMean)',\n",
       " 'angle(tBodyAccJerkMean),gravityMean)',\n",
       " 'angle(tBodyAccMean,gravity)',\n",
       " 'angle(tBodyGyroJerkMean,gravityMean)',\n",
       " 'angle(tBodyGyroMean,gravityMean)',\n",
       " 'date_time',\n",
       " 'fBodyAcc',\n",
       " 'fBodyAccJerk',\n",
       " 'fBodyAccMag',\n",
       " 'fBodyBodyAccJerkMag',\n",
       " 'fBodyBodyGyroJerkMag',\n",
       " 'fBodyBodyGyroMag',\n",
       " 'fBodyGyro',\n",
       " 'tBodyAcc',\n",
       " 'tBodyAccJerk',\n",
       " 'tBodyAccJerkMag',\n",
       " 'tBodyAccMag',\n",
       " 'tBodyGyro',\n",
       " 'tBodyGyroJerk',\n",
       " 'tBodyGyroJerkMag',\n",
       " 'tBodyGyroMag',\n",
       " 'tGravityAcc',\n",
       " 'tGravityAccMag'}"
      ]
     },
     "execution_count": 36,
     "metadata": {},
     "output_type": "execute_result"
    }
   ],
   "source": [
    "sensors"
   ]
  },
  {
   "cell_type": "code",
   "execution_count": 37,
   "metadata": {
    "colab": {
     "base_uri": "https://localhost:8080/"
    },
    "id": "dIsu_DF6OLyU",
    "outputId": "9e908b91-ce0b-4535-9018-2ad379c7ba63"
   },
   "outputs": [
    {
     "data": {
      "text/plain": [
       "Activity\n",
       "LAYING                16762\n",
       "WALKING               16728\n",
       "WALKING_UPSTAIRS      16675\n",
       "STANDING              16645\n",
       "WALKING_DOWNSTAIRS    16627\n",
       "SITTING               16563\n",
       "Name: count, dtype: int64"
      ]
     },
     "execution_count": 37,
     "metadata": {},
     "output_type": "execute_result"
    }
   ],
   "source": [
    "data['Activity'].value_counts()"
   ]
  },
  {
   "cell_type": "code",
   "execution_count": 38,
   "metadata": {
    "colab": {
     "base_uri": "https://localhost:8080/",
     "height": 424
    },
    "id": "X_qaaW2iOLyV",
    "outputId": "0c965fa1-a60f-48d7-9ef4-4ea2da9994e2"
   },
   "outputs": [
    {
     "data": {
      "text/html": [
       "<div>\n",
       "<style scoped>\n",
       "    .dataframe tbody tr th:only-of-type {\n",
       "        vertical-align: middle;\n",
       "    }\n",
       "\n",
       "    .dataframe tbody tr th {\n",
       "        vertical-align: top;\n",
       "    }\n",
       "\n",
       "    .dataframe thead th {\n",
       "        text-align: right;\n",
       "    }\n",
       "</style>\n",
       "<table border=\"1\" class=\"dataframe\">\n",
       "  <thead>\n",
       "    <tr style=\"text-align: right;\">\n",
       "      <th></th>\n",
       "      <th>count</th>\n",
       "      <th>mean</th>\n",
       "      <th>min</th>\n",
       "      <th>25%</th>\n",
       "      <th>50%</th>\n",
       "      <th>75%</th>\n",
       "      <th>max</th>\n",
       "      <th>std</th>\n",
       "    </tr>\n",
       "  </thead>\n",
       "  <tbody>\n",
       "    <tr>\n",
       "      <th>tBodyAcc-mean()-X</th>\n",
       "      <td>100000.0</td>\n",
       "      <td>0.275078</td>\n",
       "      <td>-0.986314</td>\n",
       "      <td>0.262825</td>\n",
       "      <td>0.277178</td>\n",
       "      <td>0.288289</td>\n",
       "      <td>0.965808</td>\n",
       "      <td>0.060068</td>\n",
       "    </tr>\n",
       "    <tr>\n",
       "      <th>tBodyAcc-mean()-Y</th>\n",
       "      <td>100000.0</td>\n",
       "      <td>-0.017384</td>\n",
       "      <td>-0.89446</td>\n",
       "      <td>-0.024411</td>\n",
       "      <td>-0.017155</td>\n",
       "      <td>-0.011201</td>\n",
       "      <td>0.87536</td>\n",
       "      <td>0.029089</td>\n",
       "    </tr>\n",
       "    <tr>\n",
       "      <th>tBodyAcc-mean()-Z</th>\n",
       "      <td>100000.0</td>\n",
       "      <td>-0.108674</td>\n",
       "      <td>-0.936031</td>\n",
       "      <td>-0.120134</td>\n",
       "      <td>-0.108572</td>\n",
       "      <td>-0.098326</td>\n",
       "      <td>0.999455</td>\n",
       "      <td>0.044118</td>\n",
       "    </tr>\n",
       "    <tr>\n",
       "      <th>tBodyAcc-std()-X</th>\n",
       "      <td>100000.0</td>\n",
       "      <td>-0.564353</td>\n",
       "      <td>-1.0</td>\n",
       "      <td>-0.991627</td>\n",
       "      <td>-0.620961</td>\n",
       "      <td>-0.211144</td>\n",
       "      <td>1.0</td>\n",
       "      <td>0.450584</td>\n",
       "    </tr>\n",
       "    <tr>\n",
       "      <th>tBodyAcc-std()-Y</th>\n",
       "      <td>100000.0</td>\n",
       "      <td>-0.467669</td>\n",
       "      <td>-0.999629</td>\n",
       "      <td>-0.974517</td>\n",
       "      <td>-0.382965</td>\n",
       "      <td>-0.028442</td>\n",
       "      <td>0.999009</td>\n",
       "      <td>0.503729</td>\n",
       "    </tr>\n",
       "    <tr>\n",
       "      <th>...</th>\n",
       "      <td>...</td>\n",
       "      <td>...</td>\n",
       "      <td>...</td>\n",
       "      <td>...</td>\n",
       "      <td>...</td>\n",
       "      <td>...</td>\n",
       "      <td>...</td>\n",
       "      <td>...</td>\n",
       "    </tr>\n",
       "    <tr>\n",
       "      <th>angle(tBodyGyroJerkMean,gravityMean)</th>\n",
       "      <td>100000.0</td>\n",
       "      <td>-0.013572</td>\n",
       "      <td>-1.0</td>\n",
       "      <td>-0.339358</td>\n",
       "      <td>-0.012546</td>\n",
       "      <td>0.30096</td>\n",
       "      <td>0.988742</td>\n",
       "      <td>0.426647</td>\n",
       "    </tr>\n",
       "    <tr>\n",
       "      <th>angle(X,gravityMean)</th>\n",
       "      <td>100000.0</td>\n",
       "      <td>-0.523201</td>\n",
       "      <td>-0.999923</td>\n",
       "      <td>-0.816508</td>\n",
       "      <td>-0.724015</td>\n",
       "      <td>-0.554554</td>\n",
       "      <td>0.997924</td>\n",
       "      <td>0.487325</td>\n",
       "    </tr>\n",
       "    <tr>\n",
       "      <th>angle(Y,gravityMean)</th>\n",
       "      <td>100000.0</td>\n",
       "      <td>0.079965</td>\n",
       "      <td>-0.997831</td>\n",
       "      <td>0.029963</td>\n",
       "      <td>0.18861</td>\n",
       "      <td>0.253884</td>\n",
       "      <td>0.999779</td>\n",
       "      <td>0.293338</td>\n",
       "    </tr>\n",
       "    <tr>\n",
       "      <th>angle(Z,gravityMean)</th>\n",
       "      <td>100000.0</td>\n",
       "      <td>-0.041572</td>\n",
       "      <td>-0.99383</td>\n",
       "      <td>-0.103348</td>\n",
       "      <td>0.002657</td>\n",
       "      <td>0.109922</td>\n",
       "      <td>0.999776</td>\n",
       "      <td>0.256959</td>\n",
       "    </tr>\n",
       "    <tr>\n",
       "      <th>date_time</th>\n",
       "      <td>100000</td>\n",
       "      <td>2020-02-04 18:19:29.999999744</td>\n",
       "      <td>2020-01-01 01:00:00</td>\n",
       "      <td>2020-01-18 09:39:45</td>\n",
       "      <td>2020-02-04 18:19:30</td>\n",
       "      <td>2020-02-22 02:59:15</td>\n",
       "      <td>2020-03-10 11:39:00</td>\n",
       "      <td>NaN</td>\n",
       "    </tr>\n",
       "  </tbody>\n",
       "</table>\n",
       "<p>562 rows × 8 columns</p>\n",
       "</div>"
      ],
      "text/plain": [
       "                                         count                           mean  \\\n",
       "tBodyAcc-mean()-X                     100000.0                       0.275078   \n",
       "tBodyAcc-mean()-Y                     100000.0                      -0.017384   \n",
       "tBodyAcc-mean()-Z                     100000.0                      -0.108674   \n",
       "tBodyAcc-std()-X                      100000.0                      -0.564353   \n",
       "tBodyAcc-std()-Y                      100000.0                      -0.467669   \n",
       "...                                        ...                            ...   \n",
       "angle(tBodyGyroJerkMean,gravityMean)  100000.0                      -0.013572   \n",
       "angle(X,gravityMean)                  100000.0                      -0.523201   \n",
       "angle(Y,gravityMean)                  100000.0                       0.079965   \n",
       "angle(Z,gravityMean)                  100000.0                      -0.041572   \n",
       "date_time                               100000  2020-02-04 18:19:29.999999744   \n",
       "\n",
       "                                                      min  \\\n",
       "tBodyAcc-mean()-X                               -0.986314   \n",
       "tBodyAcc-mean()-Y                                -0.89446   \n",
       "tBodyAcc-mean()-Z                               -0.936031   \n",
       "tBodyAcc-std()-X                                     -1.0   \n",
       "tBodyAcc-std()-Y                                -0.999629   \n",
       "...                                                   ...   \n",
       "angle(tBodyGyroJerkMean,gravityMean)                 -1.0   \n",
       "angle(X,gravityMean)                            -0.999923   \n",
       "angle(Y,gravityMean)                            -0.997831   \n",
       "angle(Z,gravityMean)                             -0.99383   \n",
       "date_time                             2020-01-01 01:00:00   \n",
       "\n",
       "                                                      25%  \\\n",
       "tBodyAcc-mean()-X                                0.262825   \n",
       "tBodyAcc-mean()-Y                               -0.024411   \n",
       "tBodyAcc-mean()-Z                               -0.120134   \n",
       "tBodyAcc-std()-X                                -0.991627   \n",
       "tBodyAcc-std()-Y                                -0.974517   \n",
       "...                                                   ...   \n",
       "angle(tBodyGyroJerkMean,gravityMean)            -0.339358   \n",
       "angle(X,gravityMean)                            -0.816508   \n",
       "angle(Y,gravityMean)                             0.029963   \n",
       "angle(Z,gravityMean)                            -0.103348   \n",
       "date_time                             2020-01-18 09:39:45   \n",
       "\n",
       "                                                      50%  \\\n",
       "tBodyAcc-mean()-X                                0.277178   \n",
       "tBodyAcc-mean()-Y                               -0.017155   \n",
       "tBodyAcc-mean()-Z                               -0.108572   \n",
       "tBodyAcc-std()-X                                -0.620961   \n",
       "tBodyAcc-std()-Y                                -0.382965   \n",
       "...                                                   ...   \n",
       "angle(tBodyGyroJerkMean,gravityMean)            -0.012546   \n",
       "angle(X,gravityMean)                            -0.724015   \n",
       "angle(Y,gravityMean)                              0.18861   \n",
       "angle(Z,gravityMean)                             0.002657   \n",
       "date_time                             2020-02-04 18:19:30   \n",
       "\n",
       "                                                      75%  \\\n",
       "tBodyAcc-mean()-X                                0.288289   \n",
       "tBodyAcc-mean()-Y                               -0.011201   \n",
       "tBodyAcc-mean()-Z                               -0.098326   \n",
       "tBodyAcc-std()-X                                -0.211144   \n",
       "tBodyAcc-std()-Y                                -0.028442   \n",
       "...                                                   ...   \n",
       "angle(tBodyGyroJerkMean,gravityMean)              0.30096   \n",
       "angle(X,gravityMean)                            -0.554554   \n",
       "angle(Y,gravityMean)                             0.253884   \n",
       "angle(Z,gravityMean)                             0.109922   \n",
       "date_time                             2020-02-22 02:59:15   \n",
       "\n",
       "                                                      max       std  \n",
       "tBodyAcc-mean()-X                                0.965808  0.060068  \n",
       "tBodyAcc-mean()-Y                                 0.87536  0.029089  \n",
       "tBodyAcc-mean()-Z                                0.999455  0.044118  \n",
       "tBodyAcc-std()-X                                      1.0  0.450584  \n",
       "tBodyAcc-std()-Y                                 0.999009  0.503729  \n",
       "...                                                   ...       ...  \n",
       "angle(tBodyGyroJerkMean,gravityMean)             0.988742  0.426647  \n",
       "angle(X,gravityMean)                             0.997924  0.487325  \n",
       "angle(Y,gravityMean)                             0.999779  0.293338  \n",
       "angle(Z,gravityMean)                             0.999776  0.256959  \n",
       "date_time                             2020-03-10 11:39:00       NaN  \n",
       "\n",
       "[562 rows x 8 columns]"
      ]
     },
     "execution_count": 38,
     "metadata": {},
     "output_type": "execute_result"
    }
   ],
   "source": [
    "data.describe().T"
   ]
  },
  {
   "cell_type": "code",
   "execution_count": 39,
   "metadata": {
    "id": "iWhMlctvOLyV"
   },
   "outputs": [],
   "source": [
    "le = LabelEncoder()\n",
    "data['Activity'] = le.fit_transform(data['Activity'])"
   ]
  },
  {
   "cell_type": "code",
   "execution_count": 40,
   "metadata": {
    "colab": {
     "base_uri": "https://localhost:8080/"
    },
    "id": "hwTnoXl7OLyW",
    "outputId": "ac038619-add1-4337-efe9-6f8db1ee12c3"
   },
   "outputs": [
    {
     "data": {
      "text/plain": [
       "Activity\n",
       "0    16762\n",
       "3    16728\n",
       "5    16675\n",
       "2    16645\n",
       "4    16627\n",
       "1    16563\n",
       "Name: count, dtype: int64"
      ]
     },
     "execution_count": 40,
     "metadata": {},
     "output_type": "execute_result"
    }
   ],
   "source": [
    "data['Activity'].value_counts()"
   ]
  },
  {
   "cell_type": "markdown",
   "metadata": {},
   "source": [
    "### Feature engineering"
   ]
  },
  {
   "cell_type": "code",
   "execution_count": 42,
   "metadata": {},
   "outputs": [],
   "source": [
    "from sklearn.model_selection import train_test_split\n",
    "X = data.drop(['date_time','Activity'] , axis = 1)\n",
    "Y = data['Activity']"
   ]
  },
  {
   "cell_type": "code",
   "execution_count": 43,
   "metadata": {},
   "outputs": [],
   "source": [
    "def get_top_k_features(X, Y, k):\n",
    "    clf = ExtraTreesClassifier(n_estimators=50)\n",
    "    clf = clf.fit(X, Y)\n",
    "    feature_df = pd.DataFrame(data=(X.columns, clf.feature_importances_)).T.sort_values(by=1, ascending=False)\n",
    "    cols = feature_df.head(k)[0].values\n",
    "    return cols"
   ]
  },
  {
   "cell_type": "code",
   "execution_count": 44,
   "metadata": {},
   "outputs": [],
   "source": [
    "top_k_features = get_top_k_features(X, Y, k=10)\n"
   ]
  },
  {
   "cell_type": "code",
   "execution_count": 45,
   "metadata": {},
   "outputs": [
    {
     "data": {
      "text/plain": [
       "array(['tGravityAcc-max()-X', 'tGravityAcc-max()-Y',\n",
       "       'tGravityAcc-mean()-X', 'tGravityAcc-energy()-X',\n",
       "       'angle(X,gravityMean)', 'tGravityAcc-min()-Y',\n",
       "       'tGravityAcc-min()-X', 'tGravityAcc-mean()-Y',\n",
       "       'tGravityAcc-energy()-Y', 'angle(Y,gravityMean)'], dtype=object)"
      ]
     },
     "execution_count": 45,
     "metadata": {},
     "output_type": "execute_result"
    }
   ],
   "source": [
    "top_k_features\n"
   ]
  },
  {
   "cell_type": "code",
   "execution_count": null,
   "metadata": {},
   "outputs": [],
   "source": []
  },
  {
   "cell_type": "markdown",
   "metadata": {
    "id": "TLDuXT51OLyX"
   },
   "source": [
    "## 3. Data preparation\n",
    "\n",
    "* Split the data into train and test data sets. \n",
    "* Regardless of methods used to split the data, compare the ratio of classes in both the train and test splits.\n"
   ]
  },
  {
   "cell_type": "code",
   "execution_count": 46,
   "metadata": {},
   "outputs": [],
   "source": [
    "X = X[top_k_features]"
   ]
  },
  {
   "cell_type": "code",
   "execution_count": 47,
   "metadata": {
    "id": "_5eisMMtOLyX"
   },
   "outputs": [],
   "source": [
    "x_train , x_test , y_train , y_test = train_test_split(X, Y)\n"
   ]
  },
  {
   "cell_type": "code",
   "execution_count": 48,
   "metadata": {
    "colab": {
     "base_uri": "https://localhost:8080/"
    },
    "id": "RmVj5LH2OLyY",
    "outputId": "c46b18e5-1d1a-421a-9271-ed8016a9c553"
   },
   "outputs": [
    {
     "data": {
      "text/plain": [
       "((75000, 10), (75000,))"
      ]
     },
     "execution_count": 48,
     "metadata": {},
     "output_type": "execute_result"
    }
   ],
   "source": [
    "x_train.shape , y_train.shape\n"
   ]
  },
  {
   "cell_type": "code",
   "execution_count": 49,
   "metadata": {
    "colab": {
     "base_uri": "https://localhost:8080/"
    },
    "id": "9joIvfRjOLyY",
    "outputId": "b24feda5-cbfe-49b3-e2bc-b341c64fb0fc"
   },
   "outputs": [
    {
     "data": {
      "text/plain": [
       "((25000, 10), (25000,))"
      ]
     },
     "execution_count": 49,
     "metadata": {},
     "output_type": "execute_result"
    }
   ],
   "source": [
    "x_test.shape , y_test.shape\n"
   ]
  },
  {
   "cell_type": "markdown",
   "metadata": {
    "id": "ScviXg3M9LJu"
   },
   "source": [
    "## Standardise data"
   ]
  },
  {
   "cell_type": "code",
   "execution_count": 50,
   "metadata": {
    "id": "QDfXn8uP9Ibd"
   },
   "outputs": [],
   "source": [
    "sc = StandardScaler()\n",
    "x_train_std = sc.fit_transform(x_train)\n",
    "x_test_std = sc.transform(x_test)\n"
   ]
  },
  {
   "cell_type": "markdown",
   "metadata": {
    "id": "wx6QQIfFOLyY"
   },
   "source": [
    "## 4. Model Training\n",
    "\n",
    "* Fit different models and compare the result \n",
    "1. Logistic regression\n",
    "2. Decision Tree Classifier\n",
    "3. Random Forest Classifier \n",
    "4. Adaptive Boosting Classifier"
   ]
  },
  {
   "cell_type": "code",
   "execution_count": 51,
   "metadata": {
    "id": "yUyLP2H8XZqv"
   },
   "outputs": [],
   "source": [
    "from sklearn.linear_model import LogisticRegression\n",
    "from sklearn.tree import DecisionTreeClassifier\n",
    "from sklearn.ensemble import RandomForestClassifier\n",
    "from sklearn.ensemble import GradientBoostingClassifier\n"
   ]
  },
  {
   "cell_type": "code",
   "execution_count": 52,
   "metadata": {
    "id": "4EYf32et-GXx"
   },
   "outputs": [],
   "source": [
    "model_result = {}\n"
   ]
  },
  {
   "cell_type": "code",
   "execution_count": 53,
   "metadata": {
    "colab": {
     "base_uri": "https://localhost:8080/"
    },
    "id": "wETq5fckOLyY",
    "outputId": "3b273a34-acf8-46d1-c3b5-09c71a9feab8"
   },
   "outputs": [
    {
     "name": "stdout",
     "output_type": "stream",
     "text": [
      "Training Accuracy 71.5\n",
      "Test Accuracy 72.42\n"
     ]
    },
    {
     "name": "stderr",
     "output_type": "stream",
     "text": [
      "/Users/apal/Documents/PathtoAI/AnalyticsVidhya/Mlops/code/venv/lib/python3.9/site-packages/sklearn/linear_model/_logistic.py:458: ConvergenceWarning: lbfgs failed to converge (status=1):\n",
      "STOP: TOTAL NO. of ITERATIONS REACHED LIMIT.\n",
      "\n",
      "Increase the number of iterations (max_iter) or scale the data as shown in:\n",
      "    https://scikit-learn.org/stable/modules/preprocessing.html\n",
      "Please also refer to the documentation for alternative solver options:\n",
      "    https://scikit-learn.org/stable/modules/linear_model.html#logistic-regression\n",
      "  n_iter_i = _check_optimize_result(\n"
     ]
    }
   ],
   "source": [
    "lr =  LogisticRegression()\n",
    "lr.fit(x_train_std, y_train)\n",
    "train_accuracy = round(lr.score(x_train_std, y_train)*100,2)\n",
    "test_accuracy = round(lr.score(x_test_std, y_test)*100,2)\n",
    "print(\"Training Accuracy\", train_accuracy)\n",
    "print(\"Test Accuracy\", test_accuracy)\n",
    "model_result['Logistic_Regression'] = {'train_accuracy': train_accuracy,'test_accuracy':test_accuracy }\n"
   ]
  },
  {
   "cell_type": "code",
   "execution_count": 54,
   "metadata": {
    "colab": {
     "base_uri": "https://localhost:8080/"
    },
    "id": "MBPnw_JqUwJ3",
    "outputId": "108c3ca0-4b6c-4684-dc13-4f151096c695"
   },
   "outputs": [
    {
     "name": "stdout",
     "output_type": "stream",
     "text": [
      "Training Accuracy 100.0\n",
      "Test Accuracy 93.61\n"
     ]
    }
   ],
   "source": [
    "dt =  DecisionTreeClassifier()\n",
    "dt.fit(x_train, y_train)\n",
    "train_accuracy = round(dt.score(x_train, y_train)*100,2)\n",
    "test_accuracy = round(dt.score(x_test, y_test)*100,2)\n",
    "print(\"Training Accuracy\", train_accuracy)\n",
    "print(\"Test Accuracy\", test_accuracy)\n",
    "model_result['Decision_Tree'] = {'train_accuracy': train_accuracy,'test_accuracy':test_accuracy }\n"
   ]
  },
  {
   "cell_type": "code",
   "execution_count": 55,
   "metadata": {
    "colab": {
     "base_uri": "https://localhost:8080/"
    },
    "id": "MLVpq5k4VVNS",
    "outputId": "8808e07b-57c5-41e0-d75e-4002cd223632"
   },
   "outputs": [
    {
     "name": "stdout",
     "output_type": "stream",
     "text": [
      "Training Accuracy 100.0\n",
      "Test Accuracy 96.65\n"
     ]
    }
   ],
   "source": [
    "rfc =  RandomForestClassifier()\n",
    "rfc.fit(x_train, y_train)\n",
    "train_accuracy = round(rfc.score(x_train, y_train)*100,2)\n",
    "test_accuracy = round(rfc.score(x_test, y_test)*100,2)\n",
    "print(\"Training Accuracy\", train_accuracy)\n",
    "print(\"Test Accuracy\", test_accuracy)\n",
    "model_result['RandomForest'] = {'train_accuracy': train_accuracy,'test_accuracy':test_accuracy }\n"
   ]
  },
  {
   "cell_type": "code",
   "execution_count": 57,
   "metadata": {
    "colab": {
     "base_uri": "https://localhost:8080/"
    },
    "id": "kklhVqBBVVTJ",
    "outputId": "38551455-421e-49f7-ef8c-c986b663eb95"
   },
   "outputs": [
    {
     "name": "stdout",
     "output_type": "stream",
     "text": [
      "Training Accuracy 85.25\n",
      "Test Accuracy 84.51\n"
     ]
    }
   ],
   "source": [
    "gbc =  GradientBoostingClassifier()\n",
    "gbc.fit(x_train, y_train)\n",
    "train_accuracy = round(gbc.score(x_train, y_train)*100,2)\n",
    "test_accuracy = round(gbc.score(x_test, y_test)*100,2)\n",
    "print(\"Training Accuracy\", train_accuracy)\n",
    "print(\"Test Accuracy\", test_accuracy)\n",
    "model_result['AdaBoost'] = {'train_accuracy': train_accuracy,'test_accuracy':test_accuracy }"
   ]
  },
  {
   "cell_type": "markdown",
   "metadata": {
    "id": "DJuYo7Z1-CVh"
   },
   "source": [
    "## 5. Model comparison"
   ]
  },
  {
   "cell_type": "code",
   "execution_count": 58,
   "metadata": {
    "colab": {
     "base_uri": "https://localhost:8080/",
     "height": 175
    },
    "id": "0oJyjBa3-BLg",
    "outputId": "e4247a96-4584-4b80-cb99-f224d2d35511"
   },
   "outputs": [
    {
     "data": {
      "text/html": [
       "<div>\n",
       "<style scoped>\n",
       "    .dataframe tbody tr th:only-of-type {\n",
       "        vertical-align: middle;\n",
       "    }\n",
       "\n",
       "    .dataframe tbody tr th {\n",
       "        vertical-align: top;\n",
       "    }\n",
       "\n",
       "    .dataframe thead th {\n",
       "        text-align: right;\n",
       "    }\n",
       "</style>\n",
       "<table border=\"1\" class=\"dataframe\">\n",
       "  <thead>\n",
       "    <tr style=\"text-align: right;\">\n",
       "      <th></th>\n",
       "      <th>train_accuracy</th>\n",
       "      <th>test_accuracy</th>\n",
       "    </tr>\n",
       "  </thead>\n",
       "  <tbody>\n",
       "    <tr>\n",
       "      <th>Logistic_Regression</th>\n",
       "      <td>71.50</td>\n",
       "      <td>72.42</td>\n",
       "    </tr>\n",
       "    <tr>\n",
       "      <th>Decision_Tree</th>\n",
       "      <td>100.00</td>\n",
       "      <td>93.61</td>\n",
       "    </tr>\n",
       "    <tr>\n",
       "      <th>RandomForest</th>\n",
       "      <td>100.00</td>\n",
       "      <td>96.65</td>\n",
       "    </tr>\n",
       "    <tr>\n",
       "      <th>AdaBoost</th>\n",
       "      <td>85.25</td>\n",
       "      <td>84.51</td>\n",
       "    </tr>\n",
       "  </tbody>\n",
       "</table>\n",
       "</div>"
      ],
      "text/plain": [
       "                     train_accuracy  test_accuracy\n",
       "Logistic_Regression           71.50          72.42\n",
       "Decision_Tree                100.00          93.61\n",
       "RandomForest                 100.00          96.65\n",
       "AdaBoost                      85.25          84.51"
      ]
     },
     "execution_count": 58,
     "metadata": {},
     "output_type": "execute_result"
    }
   ],
   "source": [
    "pd.DataFrame(model_result).T"
   ]
  },
  {
   "cell_type": "markdown",
   "metadata": {
    "id": "EF0MdgQ1Y7SO"
   },
   "source": [
    "### 6. Final Model"
   ]
  },
  {
   "cell_type": "code",
   "execution_count": 59,
   "metadata": {
    "id": "xcTKhiw9fM4d"
   },
   "outputs": [],
   "source": [
    "importances = rfc.feature_importances_\n"
   ]
  },
  {
   "cell_type": "code",
   "execution_count": 60,
   "metadata": {
    "colab": {
     "base_uri": "https://localhost:8080/",
     "height": 363
    },
    "id": "acwol5k8gR3n",
    "outputId": "1562d213-9890-4b39-e3e4-31de8dea27d1"
   },
   "outputs": [
    {
     "data": {
      "text/html": [
       "<div>\n",
       "<style scoped>\n",
       "    .dataframe tbody tr th:only-of-type {\n",
       "        vertical-align: middle;\n",
       "    }\n",
       "\n",
       "    .dataframe tbody tr th {\n",
       "        vertical-align: top;\n",
       "    }\n",
       "\n",
       "    .dataframe thead th {\n",
       "        text-align: right;\n",
       "    }\n",
       "</style>\n",
       "<table border=\"1\" class=\"dataframe\">\n",
       "  <thead>\n",
       "    <tr style=\"text-align: right;\">\n",
       "      <th></th>\n",
       "      <th>variables</th>\n",
       "      <th>importance</th>\n",
       "    </tr>\n",
       "  </thead>\n",
       "  <tbody>\n",
       "    <tr>\n",
       "      <th>6</th>\n",
       "      <td>tGravityAcc-min()-X</td>\n",
       "      <td>0.199422</td>\n",
       "    </tr>\n",
       "    <tr>\n",
       "      <th>4</th>\n",
       "      <td>angle(X,gravityMean)</td>\n",
       "      <td>0.123819</td>\n",
       "    </tr>\n",
       "    <tr>\n",
       "      <th>0</th>\n",
       "      <td>tGravityAcc-max()-X</td>\n",
       "      <td>0.114376</td>\n",
       "    </tr>\n",
       "    <tr>\n",
       "      <th>5</th>\n",
       "      <td>tGravityAcc-min()-Y</td>\n",
       "      <td>0.096854</td>\n",
       "    </tr>\n",
       "    <tr>\n",
       "      <th>2</th>\n",
       "      <td>tGravityAcc-mean()-X</td>\n",
       "      <td>0.090635</td>\n",
       "    </tr>\n",
       "    <tr>\n",
       "      <th>9</th>\n",
       "      <td>angle(Y,gravityMean)</td>\n",
       "      <td>0.088676</td>\n",
       "    </tr>\n",
       "    <tr>\n",
       "      <th>1</th>\n",
       "      <td>tGravityAcc-max()-Y</td>\n",
       "      <td>0.079719</td>\n",
       "    </tr>\n",
       "    <tr>\n",
       "      <th>3</th>\n",
       "      <td>tGravityAcc-energy()-X</td>\n",
       "      <td>0.078245</td>\n",
       "    </tr>\n",
       "    <tr>\n",
       "      <th>7</th>\n",
       "      <td>tGravityAcc-mean()-Y</td>\n",
       "      <td>0.071489</td>\n",
       "    </tr>\n",
       "    <tr>\n",
       "      <th>8</th>\n",
       "      <td>tGravityAcc-energy()-Y</td>\n",
       "      <td>0.056765</td>\n",
       "    </tr>\n",
       "  </tbody>\n",
       "</table>\n",
       "</div>"
      ],
      "text/plain": [
       "                variables  importance\n",
       "6     tGravityAcc-min()-X    0.199422\n",
       "4    angle(X,gravityMean)    0.123819\n",
       "0     tGravityAcc-max()-X    0.114376\n",
       "5     tGravityAcc-min()-Y    0.096854\n",
       "2    tGravityAcc-mean()-X    0.090635\n",
       "9    angle(Y,gravityMean)    0.088676\n",
       "1     tGravityAcc-max()-Y    0.079719\n",
       "3  tGravityAcc-energy()-X    0.078245\n",
       "7    tGravityAcc-mean()-Y    0.071489\n",
       "8  tGravityAcc-energy()-Y    0.056765"
      ]
     },
     "execution_count": 60,
     "metadata": {},
     "output_type": "execute_result"
    }
   ],
   "source": [
    "## Top 10 Features contributing to Model \n",
    "feature_df = pd.DataFrame( x_train.columns ,  columns = ['variables'])\n",
    "feature_df['importance'] = importances\n",
    "feature_df.sort_values( by = 'importance' , ascending = False).head(10)\n"
   ]
  },
  {
   "cell_type": "code",
   "execution_count": 61,
   "metadata": {
    "id": "kJx5CJ0iY3SS"
   },
   "outputs": [],
   "source": [
    "y_pred = rfc.predict(x_test)"
   ]
  },
  {
   "cell_type": "markdown",
   "metadata": {
    "id": "zQ63q6MPOLyZ"
   },
   "source": [
    "## 7. Model Evaluation\n",
    "\n",
    "For each model, calculate the following error metrics: \n",
    "\n",
    "* accuracy\n",
    "* precision\n",
    "* recall\n",
    "* fscore\n",
    "* confusion matrix\n",
    "\n",
    "Decide how to combine the multi-class metrics into a single value for each model."
   ]
  },
  {
   "cell_type": "code",
   "execution_count": 62,
   "metadata": {
    "id": "G_Iv7jg9OLyZ"
   },
   "outputs": [],
   "source": [
    "from sklearn.metrics import precision_recall_fscore_support as score\n",
    "from sklearn.metrics import confusion_matrix, accuracy_score, roc_auc_score, classification_report\n"
   ]
  },
  {
   "cell_type": "code",
   "execution_count": 63,
   "metadata": {
    "colab": {
     "base_uri": "https://localhost:8080/"
    },
    "id": "rd2aSIaFOLyZ",
    "outputId": "dfc818c2-91f4-443c-b420-39bc3333efc4"
   },
   "outputs": [
    {
     "data": {
      "text/plain": [
       "array([[4245,    0,    0,    0,    0,    0],\n",
       "       [   0, 3931,  134,    2,    4,    2],\n",
       "       [   0,  146, 3802,   21,    5,    6],\n",
       "       [   0,   15,   65, 4014,   46,   35],\n",
       "       [   0,   13,   49,   53, 4095,   65],\n",
       "       [   0,    5,   60,   31,   81, 4075]])"
      ]
     },
     "execution_count": 63,
     "metadata": {},
     "output_type": "execute_result"
    }
   ],
   "source": [
    "confusion_matrix(y_pred, y_test)"
   ]
  },
  {
   "cell_type": "code",
   "execution_count": 64,
   "metadata": {
    "colab": {
     "base_uri": "https://localhost:8080/"
    },
    "id": "wdLvJmvgOLya",
    "outputId": "e25418c0-6cf9-4413-b6d5-d8cf9ae47c70"
   },
   "outputs": [
    {
     "name": "stdout",
     "output_type": "stream",
     "text": [
      "              precision    recall  f1-score   support\n",
      "\n",
      "           0       1.00      1.00      1.00      4245\n",
      "           1       0.96      0.97      0.96      4073\n",
      "           2       0.93      0.96      0.94      3980\n",
      "           3       0.97      0.96      0.97      4175\n",
      "           4       0.97      0.96      0.96      4275\n",
      "           5       0.97      0.96      0.97      4252\n",
      "\n",
      "    accuracy                           0.97     25000\n",
      "   macro avg       0.97      0.97      0.97     25000\n",
      "weighted avg       0.97      0.97      0.97     25000\n",
      "\n"
     ]
    }
   ],
   "source": [
    "print(classification_report(y_pred, y_test))"
   ]
  },
  {
   "cell_type": "markdown",
   "metadata": {
    "id": "gxd3LAXNOLya"
   },
   "source": [
    "## 8. Model registration\n"
   ]
  },
  {
   "cell_type": "code",
   "execution_count": null,
   "metadata": {
    "id": "wje5qYKM_TlK"
   },
   "outputs": [],
   "source": [
    "## Change Drive path to your Folder\n",
    "#os.mkdir('../model_weights/')\n",
    "#os.mkdir('../model_features/')"
   ]
  },
  {
   "cell_type": "code",
   "execution_count": 67,
   "metadata": {
    "colab": {
     "base_uri": "https://localhost:8080/"
    },
    "id": "bQx3RRsaiNsR",
    "outputId": "c5161e21-08b1-4595-e9d0-b8639bbc0420"
   },
   "outputs": [],
   "source": [
    "## Let's save model weights\n",
    "import joblib\n",
    "# save\n",
    "joblib.dump(rfc, \"../model_weights/my_random_forest.joblib\")"
   ]
  },
  {
   "cell_type": "code",
   "execution_count": null,
   "metadata": {
    "colab": {
     "base_uri": "https://localhost:8080/"
    },
    "id": "RCEjpYrYA2pD",
    "outputId": "67728739-75f4-4434-aac2-86b4710ecb01"
   },
   "outputs": [],
   "source": [
    "## Save Final columns\n",
    "final_columns = np.array(x_train.columns) \n",
    "joblib.dump(final_columns, \"../model_features/train_features.joblib\")"
   ]
  },
  {
   "cell_type": "markdown",
   "metadata": {
    "id": "zXPQNg-2_e2Y"
   },
   "source": [
    "## 9. Model Prediction"
   ]
  },
  {
   "cell_type": "code",
   "execution_count": 65,
   "metadata": {
    "id": "0DwTeHJx_7HW"
   },
   "outputs": [],
   "source": [
    "## load Test Data set \n",
    "test_data = pd.read_csv('/Users/apal/Documents/PathtoAI/AnalyticsVidhya/Mlops/data/Human_Activity_Recognition_Using_Smartphones_TestData.csv')"
   ]
  },
  {
   "cell_type": "code",
   "execution_count": null,
   "metadata": {
    "id": "2NR-_bknBp-9"
   },
   "outputs": [],
   "source": [
    "## Load Features and model weight\n",
    "train_features = joblib.load(\"../model_features/train_features.joblib\")\n",
    "\n",
    "model = joblib.load(\"../model_weights/my_random_forest.joblib\")\n"
   ]
  },
  {
   "cell_type": "code",
   "execution_count": null,
   "metadata": {
    "id": "vjBigajfArp5"
   },
   "outputs": [],
   "source": [
    "test_data_features = test_data[train_features]"
   ]
  },
  {
   "cell_type": "code",
   "execution_count": null,
   "metadata": {
    "colab": {
     "base_uri": "https://localhost:8080/"
    },
    "id": "KbSe7yg1B7UB",
    "outputId": "176151f8-f73f-48bf-c9e6-2be04794124f"
   },
   "outputs": [],
   "source": [
    "test_data_features.fillna(0,inplace = True)"
   ]
  },
  {
   "cell_type": "code",
   "execution_count": null,
   "metadata": {
    "id": "fvlbPro9_1E7"
   },
   "outputs": [],
   "source": [
    "y_prediction = model.predict(test_data_features)\n",
    "y_prediction_label = le.inverse_transform(y_prediction)\n",
    "test_data['Prediction_label'] = y_prediction_label"
   ]
  },
  {
   "cell_type": "code",
   "execution_count": null,
   "metadata": {
    "colab": {
     "base_uri": "https://localhost:8080/",
     "height": 317
    },
    "id": "2PdRdawoCmTp",
    "outputId": "574b153d-3b77-4c58-cdde-901261b8d2e6"
   },
   "outputs": [],
   "source": [
    "test_data.head()"
   ]
  },
  {
   "cell_type": "markdown",
   "metadata": {
    "id": "9LwA85fW_aiw"
   },
   "source": []
  }
 ],
 "metadata": {
  "colab": {
   "include_colab_link": true,
   "provenance": []
  },
  "kernelspec": {
   "display_name": "Python 3 (ipykernel)",
   "language": "python",
   "name": "python3"
  },
  "language_info": {
   "codemirror_mode": {
    "name": "ipython",
    "version": 3
   },
   "file_extension": ".py",
   "mimetype": "text/x-python",
   "name": "python",
   "nbconvert_exporter": "python",
   "pygments_lexer": "ipython3",
   "version": "3.9.13"
  }
 },
 "nbformat": 4,
 "nbformat_minor": 1
}