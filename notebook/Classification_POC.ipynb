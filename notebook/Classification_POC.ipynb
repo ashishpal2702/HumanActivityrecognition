{
 "cells": [
  {
   "cell_type": "markdown",
   "metadata": {
    "colab_type": "text",
    "id": "view-in-github"
   },
   "source": [
    "<a href=\"https://colab.research.google.com/github/ashishpal2702/HumanActivityrecognition/blob/main/Logistic_Regression_and_Classification_POC.ipynb\" target=\"_parent\"><img src=\"https://colab.research.google.com/assets/colab-badge.svg\" alt=\"Open In Colab\"/></a>"
   ]
  },
  {
   "cell_type": "markdown",
   "metadata": {
    "id": "HMCUKoLjOLyO"
   },
   "source": [
    "## Introduction\n",
    "\n",
    "We will be using the [Human Activity Recognition with Smartphones](https://archive.ics.uci.edu/ml/datasets/Human+Activity+Recognition+Using+Smartphones) database, which was built from the recordings of study participants performing activities of daily living (ADL) while carrying a smartphone with an embedded inertial sensors. The objective is to classify activities into one of the six activities (walking, walking upstairs, walking downstairs, sitting, standing, and laying) performed.\n",
    "\n",
    "For each record in the dataset it is provided: \n",
    "\n",
    "- Triaxial acceleration from the accelerometer (total acceleration) and the estimated body acceleration. \n",
    "- Triaxial Angular velocity from the gyroscope. \n",
    "- A 561-feature vector with time and frequency domain variables. \n",
    "- Its activity label. \n",
    "\n",
    "More information about the features is available on the website above."
   ]
  },
  {
   "cell_type": "code",
   "execution_count": null,
   "metadata": {
    "colab": {
     "base_uri": "https://localhost:8080/"
    },
    "id": "UB7aLGJfOUJi",
    "outputId": "abbcb05f-c4ab-4fc7-f8a8-aaa84cc5453c",
    "pycharm": {
     "is_executing": true
    }
   },
   "outputs": [],
   "source": [
    "#from google.colab import drive\n",
    "#drive.mount('/content/drive')"
   ]
  },
  {
   "cell_type": "code",
   "execution_count": 1,
   "metadata": {
    "id": "hQoLjWtEOLyR"
   },
   "outputs": [],
   "source": [
    "from __future__ import print_function\n",
    "import os\n",
    "data_path = [ 'data']\n",
    "\n",
    "from sklearn.preprocessing import LabelEncoder , StandardScaler\n",
    "from sklearn.model_selection import StratifiedShuffleSplit\n",
    "from sklearn.linear_model import LogisticRegression\n",
    "from sklearn.linear_model import LogisticRegressionCV\n",
    "from sklearn.metrics import precision_recall_fscore_support as score\n",
    "from sklearn.metrics import confusion_matrix, accuracy_score, roc_auc_score\n",
    "from sklearn.preprocessing import label_binarize\n",
    "from sklearn.ensemble import ExtraTreesClassifier\n"
   ]
  },
  {
   "cell_type": "code",
   "execution_count": 2,
   "metadata": {
    "id": "r0-3lCVbOLyT"
   },
   "outputs": [],
   "source": [
    "#import matplotlib.pyplot as plt\n",
    "#import seaborn as sns\n",
    "#%matplotlib inline"
   ]
  },
  {
   "cell_type": "markdown",
   "metadata": {
    "id": "RVdIsc3nOLyT"
   },
   "source": [
    "## 1. Data Import\n",
    "\n",
    "Import the data and do the following:\n",
    "\n",
    "* Examine the data types--there are many columns, so it might be wise to use value counts\n",
    "* Determine if the floating point values need to be scaled\n",
    "* Determine the breakdown of each activity\n",
    "* Encode the activity label as an integer"
   ]
  },
  {
   "cell_type": "code",
   "execution_count": 3,
   "metadata": {
    "id": "YB2Igb5UOLyT"
   },
   "outputs": [],
   "source": [
    "import pandas as pd\n",
    "import numpy as np\n",
    "import os\n",
    "#filepath = '/Users/apal/Documents/PathtoAI/AnalyticsVidhya/Mlops/data//Human_Activity_Recognition_Using_Smartphones_Data_augmented_data.gzip'\n",
    "filepath = '/Users/apal/Documents/PathtoAI/AnalyticsVidhya/Mlops/data/Human_Activity_Recognition_Using_Smartphones_Data_augmented_timedata_sample.gzip'\n",
    "data = pd.read_parquet(filepath)"
   ]
  },
  {
   "cell_type": "code",
   "execution_count": 4,
   "metadata": {
    "colab": {
     "base_uri": "https://localhost:8080/"
    },
    "id": "scy6wZJLOLyU",
    "outputId": "31dcdf91-7f3c-42e2-e7b5-39cfadee2a10"
   },
   "outputs": [
    {
     "data": {
      "text/plain": [
       "(100000, 563)"
      ]
     },
     "execution_count": 4,
     "metadata": {},
     "output_type": "execute_result"
    }
   ],
   "source": [
    "data.shape"
   ]
  },
  {
   "cell_type": "code",
   "execution_count": 6,
   "metadata": {},
   "outputs": [
    {
     "data": {
      "text/html": [
       "<div>\n",
       "<style scoped>\n",
       "    .dataframe tbody tr th:only-of-type {\n",
       "        vertical-align: middle;\n",
       "    }\n",
       "\n",
       "    .dataframe tbody tr th {\n",
       "        vertical-align: top;\n",
       "    }\n",
       "\n",
       "    .dataframe thead th {\n",
       "        text-align: right;\n",
       "    }\n",
       "</style>\n",
       "<table border=\"1\" class=\"dataframe\">\n",
       "  <thead>\n",
       "    <tr style=\"text-align: right;\">\n",
       "      <th></th>\n",
       "      <th>tBodyAcc-mean()-X</th>\n",
       "      <th>tBodyAcc-mean()-Y</th>\n",
       "      <th>tBodyAcc-mean()-Z</th>\n",
       "      <th>tBodyAcc-std()-X</th>\n",
       "      <th>tBodyAcc-std()-Y</th>\n",
       "      <th>tBodyAcc-std()-Z</th>\n",
       "      <th>tBodyAcc-mad()-X</th>\n",
       "      <th>tBodyAcc-mad()-Y</th>\n",
       "      <th>tBodyAcc-mad()-Z</th>\n",
       "      <th>tBodyAcc-max()-X</th>\n",
       "      <th>...</th>\n",
       "      <th>fBodyBodyGyroJerkMag-kurtosis()</th>\n",
       "      <th>angle(tBodyAccMean,gravity)</th>\n",
       "      <th>angle(tBodyAccJerkMean),gravityMean)</th>\n",
       "      <th>angle(tBodyGyroMean,gravityMean)</th>\n",
       "      <th>angle(tBodyGyroJerkMean,gravityMean)</th>\n",
       "      <th>angle(X,gravityMean)</th>\n",
       "      <th>angle(Y,gravityMean)</th>\n",
       "      <th>angle(Z,gravityMean)</th>\n",
       "      <th>Activity</th>\n",
       "      <th>date_time</th>\n",
       "    </tr>\n",
       "  </thead>\n",
       "  <tbody>\n",
       "    <tr>\n",
       "      <th>156800</th>\n",
       "      <td>0.262871</td>\n",
       "      <td>0.013216</td>\n",
       "      <td>-0.086324</td>\n",
       "      <td>0.200015</td>\n",
       "      <td>-0.156414</td>\n",
       "      <td>-0.278659</td>\n",
       "      <td>0.111663</td>\n",
       "      <td>-0.230944</td>\n",
       "      <td>-0.271890</td>\n",
       "      <td>0.580217</td>\n",
       "      <td>...</td>\n",
       "      <td>-0.741163</td>\n",
       "      <td>0.121548</td>\n",
       "      <td>-0.833951</td>\n",
       "      <td>-0.904012</td>\n",
       "      <td>0.643397</td>\n",
       "      <td>-0.994826</td>\n",
       "      <td>0.094677</td>\n",
       "      <td>0.023043</td>\n",
       "      <td>WALKING_DOWNSTAIRS</td>\n",
       "      <td>2020-01-01 01:00:00</td>\n",
       "    </tr>\n",
       "    <tr>\n",
       "      <th>105861</th>\n",
       "      <td>0.279888</td>\n",
       "      <td>-0.016259</td>\n",
       "      <td>-0.108582</td>\n",
       "      <td>-0.956027</td>\n",
       "      <td>-0.967547</td>\n",
       "      <td>-0.972543</td>\n",
       "      <td>-0.955547</td>\n",
       "      <td>-0.963617</td>\n",
       "      <td>-0.969774</td>\n",
       "      <td>-0.907162</td>\n",
       "      <td>...</td>\n",
       "      <td>-0.733630</td>\n",
       "      <td>-0.110451</td>\n",
       "      <td>0.055678</td>\n",
       "      <td>0.006752</td>\n",
       "      <td>-0.149780</td>\n",
       "      <td>0.562788</td>\n",
       "      <td>-0.284655</td>\n",
       "      <td>-0.730306</td>\n",
       "      <td>LAYING</td>\n",
       "      <td>2020-01-01 01:01:00</td>\n",
       "    </tr>\n",
       "    <tr>\n",
       "      <th>14961</th>\n",
       "      <td>0.057557</td>\n",
       "      <td>-0.065914</td>\n",
       "      <td>-0.318505</td>\n",
       "      <td>-0.204595</td>\n",
       "      <td>-0.313841</td>\n",
       "      <td>0.121934</td>\n",
       "      <td>-0.244170</td>\n",
       "      <td>-0.336566</td>\n",
       "      <td>0.132129</td>\n",
       "      <td>-0.042670</td>\n",
       "      <td>...</td>\n",
       "      <td>-0.400585</td>\n",
       "      <td>0.077258</td>\n",
       "      <td>0.625433</td>\n",
       "      <td>0.948960</td>\n",
       "      <td>-0.535123</td>\n",
       "      <td>-0.556217</td>\n",
       "      <td>0.199724</td>\n",
       "      <td>0.317411</td>\n",
       "      <td>WALKING_UPSTAIRS</td>\n",
       "      <td>2020-01-01 01:02:00</td>\n",
       "    </tr>\n",
       "    <tr>\n",
       "      <th>182560</th>\n",
       "      <td>0.166638</td>\n",
       "      <td>0.009589</td>\n",
       "      <td>-0.093877</td>\n",
       "      <td>0.075222</td>\n",
       "      <td>0.129887</td>\n",
       "      <td>-0.170282</td>\n",
       "      <td>-0.037054</td>\n",
       "      <td>0.049850</td>\n",
       "      <td>-0.245201</td>\n",
       "      <td>0.404261</td>\n",
       "      <td>...</td>\n",
       "      <td>-0.477741</td>\n",
       "      <td>0.685372</td>\n",
       "      <td>0.344247</td>\n",
       "      <td>0.781544</td>\n",
       "      <td>0.139801</td>\n",
       "      <td>-0.855667</td>\n",
       "      <td>0.187082</td>\n",
       "      <td>0.038144</td>\n",
       "      <td>WALKING_DOWNSTAIRS</td>\n",
       "      <td>2020-01-01 01:03:00</td>\n",
       "    </tr>\n",
       "    <tr>\n",
       "      <th>156371</th>\n",
       "      <td>0.277392</td>\n",
       "      <td>-0.013888</td>\n",
       "      <td>-0.114378</td>\n",
       "      <td>-0.996323</td>\n",
       "      <td>-0.993373</td>\n",
       "      <td>-0.989750</td>\n",
       "      <td>-0.997365</td>\n",
       "      <td>-0.993227</td>\n",
       "      <td>-0.989991</td>\n",
       "      <td>-0.939918</td>\n",
       "      <td>...</td>\n",
       "      <td>-0.986440</td>\n",
       "      <td>0.043316</td>\n",
       "      <td>-0.202663</td>\n",
       "      <td>-0.192810</td>\n",
       "      <td>-0.372000</td>\n",
       "      <td>-0.673985</td>\n",
       "      <td>-0.055019</td>\n",
       "      <td>-0.155311</td>\n",
       "      <td>SITTING</td>\n",
       "      <td>2020-01-01 01:04:00</td>\n",
       "    </tr>\n",
       "  </tbody>\n",
       "</table>\n",
       "<p>5 rows × 563 columns</p>\n",
       "</div>"
      ],
      "text/plain": [
       "        tBodyAcc-mean()-X  tBodyAcc-mean()-Y  tBodyAcc-mean()-Z  \\\n",
       "156800           0.262871           0.013216          -0.086324   \n",
       "105861           0.279888          -0.016259          -0.108582   \n",
       "14961            0.057557          -0.065914          -0.318505   \n",
       "182560           0.166638           0.009589          -0.093877   \n",
       "156371           0.277392          -0.013888          -0.114378   \n",
       "\n",
       "        tBodyAcc-std()-X  tBodyAcc-std()-Y  tBodyAcc-std()-Z  \\\n",
       "156800          0.200015         -0.156414         -0.278659   \n",
       "105861         -0.956027         -0.967547         -0.972543   \n",
       "14961          -0.204595         -0.313841          0.121934   \n",
       "182560          0.075222          0.129887         -0.170282   \n",
       "156371         -0.996323         -0.993373         -0.989750   \n",
       "\n",
       "        tBodyAcc-mad()-X  tBodyAcc-mad()-Y  tBodyAcc-mad()-Z  \\\n",
       "156800          0.111663         -0.230944         -0.271890   \n",
       "105861         -0.955547         -0.963617         -0.969774   \n",
       "14961          -0.244170         -0.336566          0.132129   \n",
       "182560         -0.037054          0.049850         -0.245201   \n",
       "156371         -0.997365         -0.993227         -0.989991   \n",
       "\n",
       "        tBodyAcc-max()-X  ...  fBodyBodyGyroJerkMag-kurtosis()  \\\n",
       "156800          0.580217  ...                        -0.741163   \n",
       "105861         -0.907162  ...                        -0.733630   \n",
       "14961          -0.042670  ...                        -0.400585   \n",
       "182560          0.404261  ...                        -0.477741   \n",
       "156371         -0.939918  ...                        -0.986440   \n",
       "\n",
       "        angle(tBodyAccMean,gravity)  angle(tBodyAccJerkMean),gravityMean)  \\\n",
       "156800                     0.121548                             -0.833951   \n",
       "105861                    -0.110451                              0.055678   \n",
       "14961                      0.077258                              0.625433   \n",
       "182560                     0.685372                              0.344247   \n",
       "156371                     0.043316                             -0.202663   \n",
       "\n",
       "        angle(tBodyGyroMean,gravityMean)  \\\n",
       "156800                         -0.904012   \n",
       "105861                          0.006752   \n",
       "14961                           0.948960   \n",
       "182560                          0.781544   \n",
       "156371                         -0.192810   \n",
       "\n",
       "        angle(tBodyGyroJerkMean,gravityMean)  angle(X,gravityMean)  \\\n",
       "156800                              0.643397             -0.994826   \n",
       "105861                             -0.149780              0.562788   \n",
       "14961                              -0.535123             -0.556217   \n",
       "182560                              0.139801             -0.855667   \n",
       "156371                             -0.372000             -0.673985   \n",
       "\n",
       "        angle(Y,gravityMean)  angle(Z,gravityMean)            Activity  \\\n",
       "156800              0.094677              0.023043  WALKING_DOWNSTAIRS   \n",
       "105861             -0.284655             -0.730306              LAYING   \n",
       "14961               0.199724              0.317411    WALKING_UPSTAIRS   \n",
       "182560              0.187082              0.038144  WALKING_DOWNSTAIRS   \n",
       "156371             -0.055019             -0.155311             SITTING   \n",
       "\n",
       "                 date_time  \n",
       "156800 2020-01-01 01:00:00  \n",
       "105861 2020-01-01 01:01:00  \n",
       "14961  2020-01-01 01:02:00  \n",
       "182560 2020-01-01 01:03:00  \n",
       "156371 2020-01-01 01:04:00  \n",
       "\n",
       "[5 rows x 563 columns]"
      ]
     },
     "execution_count": 6,
     "metadata": {},
     "output_type": "execute_result"
    }
   ],
   "source": [
    "data.head()\n"
   ]
  },
  {
   "cell_type": "code",
   "execution_count": 7,
   "metadata": {
    "id": "2f4LN25ThFcA"
   },
   "outputs": [],
   "source": [
    "sensors = set()\n",
    "for col in data.columns:\n",
    "    sensors.add(col.split(\"-\")[0])"
   ]
  },
  {
   "cell_type": "code",
   "execution_count": 8,
   "metadata": {
    "colab": {
     "base_uri": "https://localhost:8080/"
    },
    "id": "baVxSkWkhqOM",
    "outputId": "2458773a-a85f-4ac9-c500-33d1dad011b2"
   },
   "outputs": [
    {
     "data": {
      "text/plain": [
       "{'Activity',\n",
       " 'angle(X,gravityMean)',\n",
       " 'angle(Y,gravityMean)',\n",
       " 'angle(Z,gravityMean)',\n",
       " 'angle(tBodyAccJerkMean),gravityMean)',\n",
       " 'angle(tBodyAccMean,gravity)',\n",
       " 'angle(tBodyGyroJerkMean,gravityMean)',\n",
       " 'angle(tBodyGyroMean,gravityMean)',\n",
       " 'date_time',\n",
       " 'fBodyAcc',\n",
       " 'fBodyAccJerk',\n",
       " 'fBodyAccMag',\n",
       " 'fBodyBodyAccJerkMag',\n",
       " 'fBodyBodyGyroJerkMag',\n",
       " 'fBodyBodyGyroMag',\n",
       " 'fBodyGyro',\n",
       " 'tBodyAcc',\n",
       " 'tBodyAccJerk',\n",
       " 'tBodyAccJerkMag',\n",
       " 'tBodyAccMag',\n",
       " 'tBodyGyro',\n",
       " 'tBodyGyroJerk',\n",
       " 'tBodyGyroJerkMag',\n",
       " 'tBodyGyroMag',\n",
       " 'tGravityAcc',\n",
       " 'tGravityAccMag'}"
      ]
     },
     "execution_count": 8,
     "metadata": {},
     "output_type": "execute_result"
    }
   ],
   "source": [
    "sensors"
   ]
  },
  {
   "cell_type": "code",
   "execution_count": 9,
   "metadata": {
    "colab": {
     "base_uri": "https://localhost:8080/"
    },
    "id": "dIsu_DF6OLyU",
    "outputId": "9e908b91-ce0b-4535-9018-2ad379c7ba63"
   },
   "outputs": [
    {
     "data": {
      "text/plain": [
       "Activity\n",
       "LAYING                16762\n",
       "WALKING               16728\n",
       "WALKING_UPSTAIRS      16675\n",
       "STANDING              16645\n",
       "WALKING_DOWNSTAIRS    16627\n",
       "SITTING               16563\n",
       "Name: count, dtype: int64"
      ]
     },
     "execution_count": 9,
     "metadata": {},
     "output_type": "execute_result"
    }
   ],
   "source": [
    "data['Activity'].value_counts()"
   ]
  },
  {
   "cell_type": "code",
   "execution_count": 10,
   "metadata": {
    "colab": {
     "base_uri": "https://localhost:8080/",
     "height": 424
    },
    "id": "X_qaaW2iOLyV",
    "outputId": "0c965fa1-a60f-48d7-9ef4-4ea2da9994e2"
   },
   "outputs": [
    {
     "data": {
      "text/html": [
       "<div>\n",
       "<style scoped>\n",
       "    .dataframe tbody tr th:only-of-type {\n",
       "        vertical-align: middle;\n",
       "    }\n",
       "\n",
       "    .dataframe tbody tr th {\n",
       "        vertical-align: top;\n",
       "    }\n",
       "\n",
       "    .dataframe thead th {\n",
       "        text-align: right;\n",
       "    }\n",
       "</style>\n",
       "<table border=\"1\" class=\"dataframe\">\n",
       "  <thead>\n",
       "    <tr style=\"text-align: right;\">\n",
       "      <th></th>\n",
       "      <th>count</th>\n",
       "      <th>mean</th>\n",
       "      <th>min</th>\n",
       "      <th>25%</th>\n",
       "      <th>50%</th>\n",
       "      <th>75%</th>\n",
       "      <th>max</th>\n",
       "      <th>std</th>\n",
       "    </tr>\n",
       "  </thead>\n",
       "  <tbody>\n",
       "    <tr>\n",
       "      <th>tBodyAcc-mean()-X</th>\n",
       "      <td>100000.0</td>\n",
       "      <td>0.275078</td>\n",
       "      <td>-0.986314</td>\n",
       "      <td>0.262825</td>\n",
       "      <td>0.277178</td>\n",
       "      <td>0.288289</td>\n",
       "      <td>0.965808</td>\n",
       "      <td>0.060068</td>\n",
       "    </tr>\n",
       "    <tr>\n",
       "      <th>tBodyAcc-mean()-Y</th>\n",
       "      <td>100000.0</td>\n",
       "      <td>-0.017384</td>\n",
       "      <td>-0.89446</td>\n",
       "      <td>-0.024411</td>\n",
       "      <td>-0.017155</td>\n",
       "      <td>-0.011201</td>\n",
       "      <td>0.87536</td>\n",
       "      <td>0.029089</td>\n",
       "    </tr>\n",
       "    <tr>\n",
       "      <th>tBodyAcc-mean()-Z</th>\n",
       "      <td>100000.0</td>\n",
       "      <td>-0.108674</td>\n",
       "      <td>-0.936031</td>\n",
       "      <td>-0.120134</td>\n",
       "      <td>-0.108572</td>\n",
       "      <td>-0.098326</td>\n",
       "      <td>0.999455</td>\n",
       "      <td>0.044118</td>\n",
       "    </tr>\n",
       "    <tr>\n",
       "      <th>tBodyAcc-std()-X</th>\n",
       "      <td>100000.0</td>\n",
       "      <td>-0.564353</td>\n",
       "      <td>-1.0</td>\n",
       "      <td>-0.991627</td>\n",
       "      <td>-0.620961</td>\n",
       "      <td>-0.211144</td>\n",
       "      <td>1.0</td>\n",
       "      <td>0.450584</td>\n",
       "    </tr>\n",
       "    <tr>\n",
       "      <th>tBodyAcc-std()-Y</th>\n",
       "      <td>100000.0</td>\n",
       "      <td>-0.467669</td>\n",
       "      <td>-0.999629</td>\n",
       "      <td>-0.974517</td>\n",
       "      <td>-0.382965</td>\n",
       "      <td>-0.028442</td>\n",
       "      <td>0.999009</td>\n",
       "      <td>0.503729</td>\n",
       "    </tr>\n",
       "    <tr>\n",
       "      <th>...</th>\n",
       "      <td>...</td>\n",
       "      <td>...</td>\n",
       "      <td>...</td>\n",
       "      <td>...</td>\n",
       "      <td>...</td>\n",
       "      <td>...</td>\n",
       "      <td>...</td>\n",
       "      <td>...</td>\n",
       "    </tr>\n",
       "    <tr>\n",
       "      <th>angle(tBodyGyroJerkMean,gravityMean)</th>\n",
       "      <td>100000.0</td>\n",
       "      <td>-0.013572</td>\n",
       "      <td>-1.0</td>\n",
       "      <td>-0.339358</td>\n",
       "      <td>-0.012546</td>\n",
       "      <td>0.30096</td>\n",
       "      <td>0.988742</td>\n",
       "      <td>0.426647</td>\n",
       "    </tr>\n",
       "    <tr>\n",
       "      <th>angle(X,gravityMean)</th>\n",
       "      <td>100000.0</td>\n",
       "      <td>-0.523201</td>\n",
       "      <td>-0.999923</td>\n",
       "      <td>-0.816508</td>\n",
       "      <td>-0.724015</td>\n",
       "      <td>-0.554554</td>\n",
       "      <td>0.997924</td>\n",
       "      <td>0.487325</td>\n",
       "    </tr>\n",
       "    <tr>\n",
       "      <th>angle(Y,gravityMean)</th>\n",
       "      <td>100000.0</td>\n",
       "      <td>0.079965</td>\n",
       "      <td>-0.997831</td>\n",
       "      <td>0.029963</td>\n",
       "      <td>0.18861</td>\n",
       "      <td>0.253884</td>\n",
       "      <td>0.999779</td>\n",
       "      <td>0.293338</td>\n",
       "    </tr>\n",
       "    <tr>\n",
       "      <th>angle(Z,gravityMean)</th>\n",
       "      <td>100000.0</td>\n",
       "      <td>-0.041572</td>\n",
       "      <td>-0.99383</td>\n",
       "      <td>-0.103348</td>\n",
       "      <td>0.002657</td>\n",
       "      <td>0.109922</td>\n",
       "      <td>0.999776</td>\n",
       "      <td>0.256959</td>\n",
       "    </tr>\n",
       "    <tr>\n",
       "      <th>date_time</th>\n",
       "      <td>100000</td>\n",
       "      <td>2020-02-04 18:19:29.999999744</td>\n",
       "      <td>2020-01-01 01:00:00</td>\n",
       "      <td>2020-01-18 09:39:45</td>\n",
       "      <td>2020-02-04 18:19:30</td>\n",
       "      <td>2020-02-22 02:59:15</td>\n",
       "      <td>2020-03-10 11:39:00</td>\n",
       "      <td>NaN</td>\n",
       "    </tr>\n",
       "  </tbody>\n",
       "</table>\n",
       "<p>562 rows × 8 columns</p>\n",
       "</div>"
      ],
      "text/plain": [
       "                                         count                           mean  \\\n",
       "tBodyAcc-mean()-X                     100000.0                       0.275078   \n",
       "tBodyAcc-mean()-Y                     100000.0                      -0.017384   \n",
       "tBodyAcc-mean()-Z                     100000.0                      -0.108674   \n",
       "tBodyAcc-std()-X                      100000.0                      -0.564353   \n",
       "tBodyAcc-std()-Y                      100000.0                      -0.467669   \n",
       "...                                        ...                            ...   \n",
       "angle(tBodyGyroJerkMean,gravityMean)  100000.0                      -0.013572   \n",
       "angle(X,gravityMean)                  100000.0                      -0.523201   \n",
       "angle(Y,gravityMean)                  100000.0                       0.079965   \n",
       "angle(Z,gravityMean)                  100000.0                      -0.041572   \n",
       "date_time                               100000  2020-02-04 18:19:29.999999744   \n",
       "\n",
       "                                                      min  \\\n",
       "tBodyAcc-mean()-X                               -0.986314   \n",
       "tBodyAcc-mean()-Y                                -0.89446   \n",
       "tBodyAcc-mean()-Z                               -0.936031   \n",
       "tBodyAcc-std()-X                                     -1.0   \n",
       "tBodyAcc-std()-Y                                -0.999629   \n",
       "...                                                   ...   \n",
       "angle(tBodyGyroJerkMean,gravityMean)                 -1.0   \n",
       "angle(X,gravityMean)                            -0.999923   \n",
       "angle(Y,gravityMean)                            -0.997831   \n",
       "angle(Z,gravityMean)                             -0.99383   \n",
       "date_time                             2020-01-01 01:00:00   \n",
       "\n",
       "                                                      25%  \\\n",
       "tBodyAcc-mean()-X                                0.262825   \n",
       "tBodyAcc-mean()-Y                               -0.024411   \n",
       "tBodyAcc-mean()-Z                               -0.120134   \n",
       "tBodyAcc-std()-X                                -0.991627   \n",
       "tBodyAcc-std()-Y                                -0.974517   \n",
       "...                                                   ...   \n",
       "angle(tBodyGyroJerkMean,gravityMean)            -0.339358   \n",
       "angle(X,gravityMean)                            -0.816508   \n",
       "angle(Y,gravityMean)                             0.029963   \n",
       "angle(Z,gravityMean)                            -0.103348   \n",
       "date_time                             2020-01-18 09:39:45   \n",
       "\n",
       "                                                      50%  \\\n",
       "tBodyAcc-mean()-X                                0.277178   \n",
       "tBodyAcc-mean()-Y                               -0.017155   \n",
       "tBodyAcc-mean()-Z                               -0.108572   \n",
       "tBodyAcc-std()-X                                -0.620961   \n",
       "tBodyAcc-std()-Y                                -0.382965   \n",
       "...                                                   ...   \n",
       "angle(tBodyGyroJerkMean,gravityMean)            -0.012546   \n",
       "angle(X,gravityMean)                            -0.724015   \n",
       "angle(Y,gravityMean)                              0.18861   \n",
       "angle(Z,gravityMean)                             0.002657   \n",
       "date_time                             2020-02-04 18:19:30   \n",
       "\n",
       "                                                      75%  \\\n",
       "tBodyAcc-mean()-X                                0.288289   \n",
       "tBodyAcc-mean()-Y                               -0.011201   \n",
       "tBodyAcc-mean()-Z                               -0.098326   \n",
       "tBodyAcc-std()-X                                -0.211144   \n",
       "tBodyAcc-std()-Y                                -0.028442   \n",
       "...                                                   ...   \n",
       "angle(tBodyGyroJerkMean,gravityMean)              0.30096   \n",
       "angle(X,gravityMean)                            -0.554554   \n",
       "angle(Y,gravityMean)                             0.253884   \n",
       "angle(Z,gravityMean)                             0.109922   \n",
       "date_time                             2020-02-22 02:59:15   \n",
       "\n",
       "                                                      max       std  \n",
       "tBodyAcc-mean()-X                                0.965808  0.060068  \n",
       "tBodyAcc-mean()-Y                                 0.87536  0.029089  \n",
       "tBodyAcc-mean()-Z                                0.999455  0.044118  \n",
       "tBodyAcc-std()-X                                      1.0  0.450584  \n",
       "tBodyAcc-std()-Y                                 0.999009  0.503729  \n",
       "...                                                   ...       ...  \n",
       "angle(tBodyGyroJerkMean,gravityMean)             0.988742  0.426647  \n",
       "angle(X,gravityMean)                             0.997924  0.487325  \n",
       "angle(Y,gravityMean)                             0.999779  0.293338  \n",
       "angle(Z,gravityMean)                             0.999776  0.256959  \n",
       "date_time                             2020-03-10 11:39:00       NaN  \n",
       "\n",
       "[562 rows x 8 columns]"
      ]
     },
     "execution_count": 10,
     "metadata": {},
     "output_type": "execute_result"
    }
   ],
   "source": [
    "data.describe().T"
   ]
  },
  {
   "cell_type": "code",
   "execution_count": 11,
   "metadata": {
    "id": "iWhMlctvOLyV"
   },
   "outputs": [],
   "source": [
    "le = LabelEncoder()\n",
    "data['Activity'] = le.fit_transform(data['Activity'])"
   ]
  },
  {
   "cell_type": "code",
   "execution_count": 12,
   "metadata": {
    "colab": {
     "base_uri": "https://localhost:8080/"
    },
    "id": "hwTnoXl7OLyW",
    "outputId": "ac038619-add1-4337-efe9-6f8db1ee12c3"
   },
   "outputs": [
    {
     "data": {
      "text/plain": [
       "Activity\n",
       "0    16762\n",
       "3    16728\n",
       "5    16675\n",
       "2    16645\n",
       "4    16627\n",
       "1    16563\n",
       "Name: count, dtype: int64"
      ]
     },
     "execution_count": 12,
     "metadata": {},
     "output_type": "execute_result"
    }
   ],
   "source": [
    "data['Activity'].value_counts()"
   ]
  },
  {
   "cell_type": "markdown",
   "metadata": {},
   "source": [
    "### Feature engineering"
   ]
  },
  {
   "cell_type": "code",
   "execution_count": 13,
   "metadata": {},
   "outputs": [],
   "source": [
    "from sklearn.model_selection import train_test_split\n",
    "X = data.drop(['date_time','Activity'] , axis = 1)\n",
    "Y = data['Activity']"
   ]
  },
  {
   "cell_type": "code",
   "execution_count": 14,
   "metadata": {},
   "outputs": [],
   "source": [
    "def get_top_k_features(X, Y, k):\n",
    "    clf = ExtraTreesClassifier(n_estimators=50)\n",
    "    clf = clf.fit(X, Y)\n",
    "    feature_df = pd.DataFrame(data=(X.columns, clf.feature_importances_)).T.sort_values(by=1, ascending=False)\n",
    "    cols = feature_df.head(k)[0].values\n",
    "    return cols"
   ]
  },
  {
   "cell_type": "code",
   "execution_count": 15,
   "metadata": {},
   "outputs": [],
   "source": [
    "top_k_features = get_top_k_features(X, Y, k=10)\n"
   ]
  },
  {
   "cell_type": "code",
   "execution_count": 16,
   "metadata": {},
   "outputs": [
    {
     "data": {
      "text/plain": [
       "array(['tGravityAcc-min()-X', 'tGravityAcc-energy()-X',\n",
       "       'angle(X,gravityMean)', 'tGravityAcc-min()-Y',\n",
       "       'tGravityAcc-mean()-X', 'tGravityAcc-max()-Y',\n",
       "       'tGravityAcc-max()-X', 'angle(Y,gravityMean)',\n",
       "       'tGravityAcc-mean()-Y', 'tBodyAcc-max()-X'], dtype=object)"
      ]
     },
     "execution_count": 16,
     "metadata": {},
     "output_type": "execute_result"
    }
   ],
   "source": [
    "top_k_features\n"
   ]
  },
  {
   "cell_type": "code",
   "execution_count": null,
   "metadata": {},
   "outputs": [],
   "source": []
  },
  {
   "cell_type": "markdown",
   "metadata": {
    "id": "TLDuXT51OLyX"
   },
   "source": [
    "## 3. Data preparation\n",
    "\n",
    "* Split the data into train and test data sets. \n",
    "* Regardless of methods used to split the data, compare the ratio of classes in both the train and test splits.\n"
   ]
  },
  {
   "cell_type": "code",
   "execution_count": 17,
   "metadata": {},
   "outputs": [],
   "source": [
    "X = X[top_k_features]"
   ]
  },
  {
   "cell_type": "code",
   "execution_count": 18,
   "metadata": {
    "id": "_5eisMMtOLyX"
   },
   "outputs": [],
   "source": [
    "x_train , x_test , y_train , y_test = train_test_split(X, Y)\n"
   ]
  },
  {
   "cell_type": "code",
   "execution_count": 19,
   "metadata": {
    "colab": {
     "base_uri": "https://localhost:8080/"
    },
    "id": "RmVj5LH2OLyY",
    "outputId": "c46b18e5-1d1a-421a-9271-ed8016a9c553"
   },
   "outputs": [
    {
     "data": {
      "text/plain": [
       "((75000, 10), (75000,))"
      ]
     },
     "execution_count": 19,
     "metadata": {},
     "output_type": "execute_result"
    }
   ],
   "source": [
    "x_train.shape , y_train.shape\n"
   ]
  },
  {
   "cell_type": "code",
   "execution_count": 20,
   "metadata": {
    "colab": {
     "base_uri": "https://localhost:8080/"
    },
    "id": "9joIvfRjOLyY",
    "outputId": "b24feda5-cbfe-49b3-e2bc-b341c64fb0fc"
   },
   "outputs": [
    {
     "data": {
      "text/plain": [
       "((25000, 10), (25000,))"
      ]
     },
     "execution_count": 20,
     "metadata": {},
     "output_type": "execute_result"
    }
   ],
   "source": [
    "x_test.shape , y_test.shape\n"
   ]
  },
  {
   "cell_type": "markdown",
   "metadata": {
    "id": "ScviXg3M9LJu"
   },
   "source": [
    "## Standardise data"
   ]
  },
  {
   "cell_type": "code",
   "execution_count": 21,
   "metadata": {
    "id": "QDfXn8uP9Ibd"
   },
   "outputs": [],
   "source": [
    "sc = StandardScaler()\n",
    "x_train_std = sc.fit_transform(x_train)\n",
    "x_test_std = sc.transform(x_test)\n"
   ]
  },
  {
   "cell_type": "markdown",
   "metadata": {
    "id": "wx6QQIfFOLyY"
   },
   "source": [
    "## 4. Model Training\n",
    "\n",
    "* Fit different models and compare the result \n",
    "1. Logistic regression\n",
    "2. Decision Tree Classifier\n",
    "3. Random Forest Classifier \n",
    "4. Adaptive Boosting Classifier"
   ]
  },
  {
   "cell_type": "code",
   "execution_count": 22,
   "metadata": {
    "id": "yUyLP2H8XZqv"
   },
   "outputs": [],
   "source": [
    "from sklearn.linear_model import LogisticRegression\n",
    "from sklearn.tree import DecisionTreeClassifier\n",
    "from sklearn.ensemble import RandomForestClassifier\n",
    "from sklearn.ensemble import GradientBoostingClassifier\n"
   ]
  },
  {
   "cell_type": "code",
   "execution_count": 23,
   "metadata": {
    "id": "4EYf32et-GXx"
   },
   "outputs": [],
   "source": [
    "model_result = {}\n"
   ]
  },
  {
   "cell_type": "code",
   "execution_count": 24,
   "metadata": {
    "colab": {
     "base_uri": "https://localhost:8080/"
    },
    "id": "wETq5fckOLyY",
    "outputId": "3b273a34-acf8-46d1-c3b5-09c71a9feab8",
    "pycharm": {
     "is_executing": true
    }
   },
   "outputs": [
    {
     "name": "stdout",
     "output_type": "stream",
     "text": [
      "Training Accuracy 86.73\n",
      "Test Accuracy 87.02\n"
     ]
    },
    {
     "name": "stderr",
     "output_type": "stream",
     "text": [
      "/Users/apal/Documents/PathtoAI/AnalyticsVidhya/Mlops/code/venv/lib/python3.9/site-packages/sklearn/linear_model/_logistic.py:458: ConvergenceWarning: lbfgs failed to converge (status=1):\n",
      "STOP: TOTAL NO. of ITERATIONS REACHED LIMIT.\n",
      "\n",
      "Increase the number of iterations (max_iter) or scale the data as shown in:\n",
      "    https://scikit-learn.org/stable/modules/preprocessing.html\n",
      "Please also refer to the documentation for alternative solver options:\n",
      "    https://scikit-learn.org/stable/modules/linear_model.html#logistic-regression\n",
      "  n_iter_i = _check_optimize_result(\n"
     ]
    }
   ],
   "source": [
    "lr =  LogisticRegression()\n",
    "lr.fit(x_train_std, y_train)\n",
    "train_accuracy = round(lr.score(x_train_std, y_train)*100,2)\n",
    "test_accuracy = round(lr.score(x_test_std, y_test)*100,2)\n",
    "print(\"Training Accuracy\", train_accuracy)\n",
    "print(\"Test Accuracy\", test_accuracy)\n",
    "model_result['Logistic_Regression'] = {'train_accuracy': train_accuracy,'test_accuracy':test_accuracy }\n"
   ]
  },
  {
   "cell_type": "code",
   "execution_count": 25,
   "metadata": {
    "colab": {
     "base_uri": "https://localhost:8080/"
    },
    "id": "MBPnw_JqUwJ3",
    "outputId": "108c3ca0-4b6c-4684-dc13-4f151096c695"
   },
   "outputs": [
    {
     "name": "stdout",
     "output_type": "stream",
     "text": [
      "Training Accuracy 100.0\n",
      "Test Accuracy 96.88\n"
     ]
    }
   ],
   "source": [
    "dt =  DecisionTreeClassifier()\n",
    "dt.fit(x_train, y_train)\n",
    "train_accuracy = round(dt.score(x_train, y_train)*100,2)\n",
    "test_accuracy = round(dt.score(x_test, y_test)*100,2)\n",
    "print(\"Training Accuracy\", train_accuracy)\n",
    "print(\"Test Accuracy\", test_accuracy)\n",
    "model_result['Decision_Tree'] = {'train_accuracy': train_accuracy,'test_accuracy':test_accuracy }\n"
   ]
  },
  {
   "cell_type": "code",
   "execution_count": 26,
   "metadata": {
    "colab": {
     "base_uri": "https://localhost:8080/"
    },
    "id": "MLVpq5k4VVNS",
    "outputId": "8808e07b-57c5-41e0-d75e-4002cd223632"
   },
   "outputs": [
    {
     "name": "stdout",
     "output_type": "stream",
     "text": [
      "Training Accuracy 99.97\n",
      "Test Accuracy 98.24\n"
     ]
    }
   ],
   "source": [
    "rfc =  RandomForestClassifier(n_estimators=20)\n",
    "rfc.fit(x_train, y_train)\n",
    "train_accuracy = round(rfc.score(x_train, y_train)*100,2)\n",
    "test_accuracy = round(rfc.score(x_test, y_test)*100,2)\n",
    "print(\"Training Accuracy\", train_accuracy)\n",
    "print(\"Test Accuracy\", test_accuracy)\n",
    "model_result['RandomForest'] = {'train_accuracy': train_accuracy,'test_accuracy':test_accuracy }\n"
   ]
  },
  {
   "cell_type": "code",
   "execution_count": 27,
   "metadata": {
    "colab": {
     "base_uri": "https://localhost:8080/"
    },
    "id": "kklhVqBBVVTJ",
    "outputId": "38551455-421e-49f7-ef8c-c986b663eb95"
   },
   "outputs": [
    {
     "name": "stdout",
     "output_type": "stream",
     "text": [
      "Training Accuracy 87.88\n",
      "Test Accuracy 87.68\n"
     ]
    }
   ],
   "source": [
    "gbc =  GradientBoostingClassifier(n_estimators=20)\n",
    "gbc.fit(x_train, y_train)\n",
    "train_accuracy = round(gbc.score(x_train, y_train)*100,2)\n",
    "test_accuracy = round(gbc.score(x_test, y_test)*100,2)\n",
    "print(\"Training Accuracy\", train_accuracy)\n",
    "print(\"Test Accuracy\", test_accuracy)\n",
    "model_result['GradientBoosting'] = {'train_accuracy': train_accuracy,'test_accuracy':test_accuracy }"
   ]
  },
  {
   "cell_type": "markdown",
   "metadata": {
    "id": "DJuYo7Z1-CVh"
   },
   "source": [
    "## 5. Model comparison"
   ]
  },
  {
   "cell_type": "code",
   "execution_count": 29,
   "metadata": {
    "colab": {
     "base_uri": "https://localhost:8080/",
     "height": 175
    },
    "id": "0oJyjBa3-BLg",
    "outputId": "e4247a96-4584-4b80-cb99-f224d2d35511"
   },
   "outputs": [
    {
     "data": {
      "text/html": [
       "<div>\n",
       "<style scoped>\n",
       "    .dataframe tbody tr th:only-of-type {\n",
       "        vertical-align: middle;\n",
       "    }\n",
       "\n",
       "    .dataframe tbody tr th {\n",
       "        vertical-align: top;\n",
       "    }\n",
       "\n",
       "    .dataframe thead th {\n",
       "        text-align: right;\n",
       "    }\n",
       "</style>\n",
       "<table border=\"1\" class=\"dataframe\">\n",
       "  <thead>\n",
       "    <tr style=\"text-align: right;\">\n",
       "      <th></th>\n",
       "      <th>train_accuracy</th>\n",
       "      <th>test_accuracy</th>\n",
       "    </tr>\n",
       "  </thead>\n",
       "  <tbody>\n",
       "    <tr>\n",
       "      <th>Logistic_Regression</th>\n",
       "      <td>86.73</td>\n",
       "      <td>87.02</td>\n",
       "    </tr>\n",
       "    <tr>\n",
       "      <th>Decision_Tree</th>\n",
       "      <td>100.00</td>\n",
       "      <td>96.88</td>\n",
       "    </tr>\n",
       "    <tr>\n",
       "      <th>RandomForest</th>\n",
       "      <td>99.97</td>\n",
       "      <td>98.24</td>\n",
       "    </tr>\n",
       "    <tr>\n",
       "      <th>GradientBoosting</th>\n",
       "      <td>87.88</td>\n",
       "      <td>87.68</td>\n",
       "    </tr>\n",
       "  </tbody>\n",
       "</table>\n",
       "</div>"
      ],
      "text/plain": [
       "                     train_accuracy  test_accuracy\n",
       "Logistic_Regression           86.73          87.02\n",
       "Decision_Tree                100.00          96.88\n",
       "RandomForest                  99.97          98.24\n",
       "GradientBoosting              87.88          87.68"
      ]
     },
     "execution_count": 29,
     "metadata": {},
     "output_type": "execute_result"
    }
   ],
   "source": [
    "pd.DataFrame(model_result).T"
   ]
  },
  {
   "cell_type": "markdown",
   "metadata": {
    "id": "EF0MdgQ1Y7SO"
   },
   "source": [
    "### 6. Final Model"
   ]
  },
  {
   "cell_type": "code",
   "execution_count": 30,
   "metadata": {
    "id": "xcTKhiw9fM4d"
   },
   "outputs": [],
   "source": [
    "importances = rfc.feature_importances_\n"
   ]
  },
  {
   "cell_type": "code",
   "execution_count": 31,
   "metadata": {
    "colab": {
     "base_uri": "https://localhost:8080/",
     "height": 363
    },
    "id": "acwol5k8gR3n",
    "outputId": "1562d213-9890-4b39-e3e4-31de8dea27d1"
   },
   "outputs": [
    {
     "data": {
      "text/html": [
       "<div>\n",
       "<style scoped>\n",
       "    .dataframe tbody tr th:only-of-type {\n",
       "        vertical-align: middle;\n",
       "    }\n",
       "\n",
       "    .dataframe tbody tr th {\n",
       "        vertical-align: top;\n",
       "    }\n",
       "\n",
       "    .dataframe thead th {\n",
       "        text-align: right;\n",
       "    }\n",
       "</style>\n",
       "<table border=\"1\" class=\"dataframe\">\n",
       "  <thead>\n",
       "    <tr style=\"text-align: right;\">\n",
       "      <th></th>\n",
       "      <th>variables</th>\n",
       "      <th>importance</th>\n",
       "    </tr>\n",
       "  </thead>\n",
       "  <tbody>\n",
       "    <tr>\n",
       "      <th>9</th>\n",
       "      <td>tBodyAcc-max()-X</td>\n",
       "      <td>0.322295</td>\n",
       "    </tr>\n",
       "    <tr>\n",
       "      <th>0</th>\n",
       "      <td>tGravityAcc-min()-X</td>\n",
       "      <td>0.135963</td>\n",
       "    </tr>\n",
       "    <tr>\n",
       "      <th>2</th>\n",
       "      <td>angle(X,gravityMean)</td>\n",
       "      <td>0.117739</td>\n",
       "    </tr>\n",
       "    <tr>\n",
       "      <th>7</th>\n",
       "      <td>angle(Y,gravityMean)</td>\n",
       "      <td>0.080493</td>\n",
       "    </tr>\n",
       "    <tr>\n",
       "      <th>3</th>\n",
       "      <td>tGravityAcc-min()-Y</td>\n",
       "      <td>0.067706</td>\n",
       "    </tr>\n",
       "    <tr>\n",
       "      <th>5</th>\n",
       "      <td>tGravityAcc-max()-Y</td>\n",
       "      <td>0.064143</td>\n",
       "    </tr>\n",
       "    <tr>\n",
       "      <th>6</th>\n",
       "      <td>tGravityAcc-max()-X</td>\n",
       "      <td>0.063113</td>\n",
       "    </tr>\n",
       "    <tr>\n",
       "      <th>1</th>\n",
       "      <td>tGravityAcc-energy()-X</td>\n",
       "      <td>0.057226</td>\n",
       "    </tr>\n",
       "    <tr>\n",
       "      <th>8</th>\n",
       "      <td>tGravityAcc-mean()-Y</td>\n",
       "      <td>0.053984</td>\n",
       "    </tr>\n",
       "    <tr>\n",
       "      <th>4</th>\n",
       "      <td>tGravityAcc-mean()-X</td>\n",
       "      <td>0.037338</td>\n",
       "    </tr>\n",
       "  </tbody>\n",
       "</table>\n",
       "</div>"
      ],
      "text/plain": [
       "                variables  importance\n",
       "9        tBodyAcc-max()-X    0.322295\n",
       "0     tGravityAcc-min()-X    0.135963\n",
       "2    angle(X,gravityMean)    0.117739\n",
       "7    angle(Y,gravityMean)    0.080493\n",
       "3     tGravityAcc-min()-Y    0.067706\n",
       "5     tGravityAcc-max()-Y    0.064143\n",
       "6     tGravityAcc-max()-X    0.063113\n",
       "1  tGravityAcc-energy()-X    0.057226\n",
       "8    tGravityAcc-mean()-Y    0.053984\n",
       "4    tGravityAcc-mean()-X    0.037338"
      ]
     },
     "execution_count": 31,
     "metadata": {},
     "output_type": "execute_result"
    }
   ],
   "source": [
    "## Top 10 Features contributing to Model \n",
    "feature_df = pd.DataFrame( x_train.columns ,  columns = ['variables'])\n",
    "feature_df['importance'] = importances\n",
    "feature_df.sort_values( by = 'importance' , ascending = False).head(10)\n"
   ]
  },
  {
   "cell_type": "code",
   "execution_count": 33,
   "metadata": {
    "id": "kJx5CJ0iY3SS"
   },
   "outputs": [],
   "source": [
    "y_pred = rfc.predict(x_test)"
   ]
  },
  {
   "cell_type": "markdown",
   "metadata": {
    "id": "zQ63q6MPOLyZ"
   },
   "source": [
    "## 7. Model Evaluation\n",
    "\n",
    "For each model, calculate the following error metrics: \n",
    "\n",
    "* accuracy\n",
    "* precision\n",
    "* recall\n",
    "* fscore\n",
    "* confusion matrix\n",
    "\n",
    "Decide how to combine the multi-class metrics into a single value for each model."
   ]
  },
  {
   "cell_type": "code",
   "execution_count": 34,
   "metadata": {
    "id": "G_Iv7jg9OLyZ"
   },
   "outputs": [],
   "source": [
    "from sklearn.metrics import precision_recall_fscore_support as score\n",
    "from sklearn.metrics import confusion_matrix, accuracy_score, roc_auc_score, classification_report\n"
   ]
  },
  {
   "cell_type": "code",
   "execution_count": 35,
   "metadata": {
    "colab": {
     "base_uri": "https://localhost:8080/"
    },
    "id": "rd2aSIaFOLyZ",
    "outputId": "dfc818c2-91f4-443c-b420-39bc3333efc4"
   },
   "outputs": [
    {
     "data": {
      "text/plain": [
       "array([[4249,    0,    0,    0,    0,    0],\n",
       "       [   0, 4051,  174,    0,    0,    0],\n",
       "       [   0,  127, 4007,    0,    0,    0],\n",
       "       [   0,    0,    0, 4156,   13,   33],\n",
       "       [   0,    0,    0,   23, 4039,   21],\n",
       "       [   0,    0,    0,   33,   16, 4058]])"
      ]
     },
     "execution_count": 35,
     "metadata": {},
     "output_type": "execute_result"
    }
   ],
   "source": [
    "confusion_matrix(y_pred, y_test)"
   ]
  },
  {
   "cell_type": "code",
   "execution_count": 36,
   "metadata": {
    "colab": {
     "base_uri": "https://localhost:8080/"
    },
    "id": "wdLvJmvgOLya",
    "outputId": "e25418c0-6cf9-4413-b6d5-d8cf9ae47c70"
   },
   "outputs": [
    {
     "name": "stdout",
     "output_type": "stream",
     "text": [
      "              precision    recall  f1-score   support\n",
      "\n",
      "           0       1.00      1.00      1.00      4249\n",
      "           1       0.97      0.96      0.96      4225\n",
      "           2       0.96      0.97      0.96      4134\n",
      "           3       0.99      0.99      0.99      4202\n",
      "           4       0.99      0.99      0.99      4083\n",
      "           5       0.99      0.99      0.99      4107\n",
      "\n",
      "    accuracy                           0.98     25000\n",
      "   macro avg       0.98      0.98      0.98     25000\n",
      "weighted avg       0.98      0.98      0.98     25000\n",
      "\n"
     ]
    }
   ],
   "source": [
    "print(classification_report(y_pred, y_test))"
   ]
  },
  {
   "cell_type": "markdown",
   "metadata": {
    "id": "gxd3LAXNOLya"
   },
   "source": [
    "## 8. Model registration\n"
   ]
  },
  {
   "cell_type": "code",
   "execution_count": 37,
   "metadata": {
    "id": "wje5qYKM_TlK"
   },
   "outputs": [],
   "source": [
    "## Change Drive path to your Folder\n",
    "os.mkdir('model_weights/')\n",
    "os.mkdir('model_features/')"
   ]
  },
  {
   "cell_type": "code",
   "execution_count": 38,
   "metadata": {
    "colab": {
     "base_uri": "https://localhost:8080/"
    },
    "id": "bQx3RRsaiNsR",
    "outputId": "c5161e21-08b1-4595-e9d0-b8639bbc0420"
   },
   "outputs": [
    {
     "data": {
      "text/plain": [
       "['./model_weights/my_random_forest.joblib']"
      ]
     },
     "execution_count": 38,
     "metadata": {},
     "output_type": "execute_result"
    }
   ],
   "source": [
    "## Let's save model weights\n",
    "import joblib\n",
    "# save\n",
    "joblib.dump(rfc, \"./model_weights/my_random_forest.joblib\")"
   ]
  },
  {
   "cell_type": "code",
   "execution_count": 39,
   "metadata": {
    "colab": {
     "base_uri": "https://localhost:8080/"
    },
    "id": "RCEjpYrYA2pD",
    "outputId": "67728739-75f4-4434-aac2-86b4710ecb01"
   },
   "outputs": [
    {
     "data": {
      "text/plain": [
       "['./model_features/train_features.joblib']"
      ]
     },
     "execution_count": 39,
     "metadata": {},
     "output_type": "execute_result"
    }
   ],
   "source": [
    "## Save Final columns\n",
    "final_columns = np.array(x_train.columns) \n",
    "joblib.dump(final_columns, \"./model_features/train_features.joblib\")"
   ]
  },
  {
   "cell_type": "markdown",
   "metadata": {
    "id": "zXPQNg-2_e2Y"
   },
   "source": [
    "## 9. Model Prediction"
   ]
  },
  {
   "cell_type": "code",
   "execution_count": 40,
   "metadata": {
    "id": "0DwTeHJx_7HW"
   },
   "outputs": [],
   "source": [
    "## load Test Data set \n",
    "test_data = pd.read_csv('/Users/apal/Documents/PathtoAI/AnalyticsVidhya/Mlops/data/Human_Activity_Recognition_Using_Smartphones_TestData.csv')"
   ]
  },
  {
   "cell_type": "code",
   "execution_count": 41,
   "metadata": {},
   "outputs": [
    {
     "data": {
      "text/html": [
       "<div>\n",
       "<style scoped>\n",
       "    .dataframe tbody tr th:only-of-type {\n",
       "        vertical-align: middle;\n",
       "    }\n",
       "\n",
       "    .dataframe tbody tr th {\n",
       "        vertical-align: top;\n",
       "    }\n",
       "\n",
       "    .dataframe thead th {\n",
       "        text-align: right;\n",
       "    }\n",
       "</style>\n",
       "<table border=\"1\" class=\"dataframe\">\n",
       "  <thead>\n",
       "    <tr style=\"text-align: right;\">\n",
       "      <th></th>\n",
       "      <th>tBodyAcc-mean()-X</th>\n",
       "      <th>tBodyAcc-mean()-Y</th>\n",
       "      <th>tBodyAcc-mean()-Z</th>\n",
       "      <th>tBodyAcc-std()-X</th>\n",
       "      <th>tBodyAcc-std()-Y</th>\n",
       "      <th>tBodyAcc-std()-Z</th>\n",
       "      <th>tBodyAcc-mad()-X</th>\n",
       "      <th>tBodyAcc-mad()-Y</th>\n",
       "      <th>tBodyAcc-mad()-Z</th>\n",
       "      <th>tBodyAcc-max()-X</th>\n",
       "      <th>...</th>\n",
       "      <th>fBodyBodyGyroJerkMag-meanFreq()</th>\n",
       "      <th>fBodyBodyGyroJerkMag-skewness()</th>\n",
       "      <th>fBodyBodyGyroJerkMag-kurtosis()</th>\n",
       "      <th>angle(tBodyAccMean,gravity)</th>\n",
       "      <th>angle(tBodyAccJerkMean),gravityMean)</th>\n",
       "      <th>angle(tBodyGyroMean,gravityMean)</th>\n",
       "      <th>angle(tBodyGyroJerkMean,gravityMean)</th>\n",
       "      <th>angle(X,gravityMean)</th>\n",
       "      <th>angle(Y,gravityMean)</th>\n",
       "      <th>angle(Z,gravityMean)</th>\n",
       "    </tr>\n",
       "  </thead>\n",
       "  <tbody>\n",
       "    <tr>\n",
       "      <th>0</th>\n",
       "      <td>0.288585</td>\n",
       "      <td>-0.020294</td>\n",
       "      <td>-0.132905</td>\n",
       "      <td>-0.995279</td>\n",
       "      <td>-0.983111</td>\n",
       "      <td>-0.913526</td>\n",
       "      <td>-0.995112</td>\n",
       "      <td>-0.983185</td>\n",
       "      <td>-0.923527</td>\n",
       "      <td>-0.934724</td>\n",
       "      <td>...</td>\n",
       "      <td>-0.074323</td>\n",
       "      <td>-0.298676</td>\n",
       "      <td>-0.710304</td>\n",
       "      <td>-0.112754</td>\n",
       "      <td>0.030400</td>\n",
       "      <td>-0.464761</td>\n",
       "      <td>-0.018446</td>\n",
       "      <td>-0.841247</td>\n",
       "      <td>0.179941</td>\n",
       "      <td>-0.058627</td>\n",
       "    </tr>\n",
       "    <tr>\n",
       "      <th>1</th>\n",
       "      <td>0.278419</td>\n",
       "      <td>-0.016411</td>\n",
       "      <td>-0.123520</td>\n",
       "      <td>-0.998245</td>\n",
       "      <td>-0.975300</td>\n",
       "      <td>-0.960322</td>\n",
       "      <td>-0.998807</td>\n",
       "      <td>-0.974914</td>\n",
       "      <td>-0.957686</td>\n",
       "      <td>-0.943068</td>\n",
       "      <td>...</td>\n",
       "      <td>0.158075</td>\n",
       "      <td>-0.595051</td>\n",
       "      <td>-0.861499</td>\n",
       "      <td>0.053477</td>\n",
       "      <td>-0.007435</td>\n",
       "      <td>-0.732626</td>\n",
       "      <td>0.703511</td>\n",
       "      <td>-0.844788</td>\n",
       "      <td>0.180289</td>\n",
       "      <td>-0.054317</td>\n",
       "    </tr>\n",
       "    <tr>\n",
       "      <th>2</th>\n",
       "      <td>0.279653</td>\n",
       "      <td>-0.019467</td>\n",
       "      <td>-0.113462</td>\n",
       "      <td>-0.995380</td>\n",
       "      <td>-0.967187</td>\n",
       "      <td>-0.978944</td>\n",
       "      <td>-0.996520</td>\n",
       "      <td>-0.963668</td>\n",
       "      <td>-0.977469</td>\n",
       "      <td>-0.938692</td>\n",
       "      <td>...</td>\n",
       "      <td>0.414503</td>\n",
       "      <td>-0.390748</td>\n",
       "      <td>-0.760104</td>\n",
       "      <td>-0.118559</td>\n",
       "      <td>0.177899</td>\n",
       "      <td>0.100699</td>\n",
       "      <td>0.808529</td>\n",
       "      <td>-0.848933</td>\n",
       "      <td>0.180637</td>\n",
       "      <td>-0.049118</td>\n",
       "    </tr>\n",
       "    <tr>\n",
       "      <th>3</th>\n",
       "      <td>0.279174</td>\n",
       "      <td>-0.026201</td>\n",
       "      <td>-0.123283</td>\n",
       "      <td>-0.996091</td>\n",
       "      <td>-0.983403</td>\n",
       "      <td>-0.990675</td>\n",
       "      <td>-0.997099</td>\n",
       "      <td>-0.982750</td>\n",
       "      <td>-0.989302</td>\n",
       "      <td>-0.938692</td>\n",
       "      <td>...</td>\n",
       "      <td>0.404573</td>\n",
       "      <td>-0.117290</td>\n",
       "      <td>-0.482845</td>\n",
       "      <td>-0.036788</td>\n",
       "      <td>-0.012892</td>\n",
       "      <td>0.640011</td>\n",
       "      <td>-0.485366</td>\n",
       "      <td>-0.848649</td>\n",
       "      <td>0.181935</td>\n",
       "      <td>-0.047663</td>\n",
       "    </tr>\n",
       "    <tr>\n",
       "      <th>4</th>\n",
       "      <td>0.276629</td>\n",
       "      <td>-0.016570</td>\n",
       "      <td>-0.115362</td>\n",
       "      <td>-0.998139</td>\n",
       "      <td>-0.980817</td>\n",
       "      <td>-0.990482</td>\n",
       "      <td>-0.998321</td>\n",
       "      <td>-0.979672</td>\n",
       "      <td>-0.990441</td>\n",
       "      <td>-0.942469</td>\n",
       "      <td>...</td>\n",
       "      <td>0.087753</td>\n",
       "      <td>-0.351471</td>\n",
       "      <td>-0.699205</td>\n",
       "      <td>0.123320</td>\n",
       "      <td>0.122542</td>\n",
       "      <td>0.693578</td>\n",
       "      <td>-0.615971</td>\n",
       "      <td>-0.847865</td>\n",
       "      <td>0.185151</td>\n",
       "      <td>-0.043892</td>\n",
       "    </tr>\n",
       "  </tbody>\n",
       "</table>\n",
       "<p>5 rows × 561 columns</p>\n",
       "</div>"
      ],
      "text/plain": [
       "   tBodyAcc-mean()-X  tBodyAcc-mean()-Y  tBodyAcc-mean()-Z  tBodyAcc-std()-X  \\\n",
       "0           0.288585          -0.020294          -0.132905         -0.995279   \n",
       "1           0.278419          -0.016411          -0.123520         -0.998245   \n",
       "2           0.279653          -0.019467          -0.113462         -0.995380   \n",
       "3           0.279174          -0.026201          -0.123283         -0.996091   \n",
       "4           0.276629          -0.016570          -0.115362         -0.998139   \n",
       "\n",
       "   tBodyAcc-std()-Y  tBodyAcc-std()-Z  tBodyAcc-mad()-X  tBodyAcc-mad()-Y  \\\n",
       "0         -0.983111         -0.913526         -0.995112         -0.983185   \n",
       "1         -0.975300         -0.960322         -0.998807         -0.974914   \n",
       "2         -0.967187         -0.978944         -0.996520         -0.963668   \n",
       "3         -0.983403         -0.990675         -0.997099         -0.982750   \n",
       "4         -0.980817         -0.990482         -0.998321         -0.979672   \n",
       "\n",
       "   tBodyAcc-mad()-Z  tBodyAcc-max()-X  ...  fBodyBodyGyroJerkMag-meanFreq()  \\\n",
       "0         -0.923527         -0.934724  ...                        -0.074323   \n",
       "1         -0.957686         -0.943068  ...                         0.158075   \n",
       "2         -0.977469         -0.938692  ...                         0.414503   \n",
       "3         -0.989302         -0.938692  ...                         0.404573   \n",
       "4         -0.990441         -0.942469  ...                         0.087753   \n",
       "\n",
       "   fBodyBodyGyroJerkMag-skewness()  fBodyBodyGyroJerkMag-kurtosis()  \\\n",
       "0                        -0.298676                        -0.710304   \n",
       "1                        -0.595051                        -0.861499   \n",
       "2                        -0.390748                        -0.760104   \n",
       "3                        -0.117290                        -0.482845   \n",
       "4                        -0.351471                        -0.699205   \n",
       "\n",
       "   angle(tBodyAccMean,gravity)  angle(tBodyAccJerkMean),gravityMean)  \\\n",
       "0                    -0.112754                              0.030400   \n",
       "1                     0.053477                             -0.007435   \n",
       "2                    -0.118559                              0.177899   \n",
       "3                    -0.036788                             -0.012892   \n",
       "4                     0.123320                              0.122542   \n",
       "\n",
       "   angle(tBodyGyroMean,gravityMean)  angle(tBodyGyroJerkMean,gravityMean)  \\\n",
       "0                         -0.464761                             -0.018446   \n",
       "1                         -0.732626                              0.703511   \n",
       "2                          0.100699                              0.808529   \n",
       "3                          0.640011                             -0.485366   \n",
       "4                          0.693578                             -0.615971   \n",
       "\n",
       "   angle(X,gravityMean)  angle(Y,gravityMean)  angle(Z,gravityMean)  \n",
       "0             -0.841247              0.179941             -0.058627  \n",
       "1             -0.844788              0.180289             -0.054317  \n",
       "2             -0.848933              0.180637             -0.049118  \n",
       "3             -0.848649              0.181935             -0.047663  \n",
       "4             -0.847865              0.185151             -0.043892  \n",
       "\n",
       "[5 rows x 561 columns]"
      ]
     },
     "execution_count": 41,
     "metadata": {},
     "output_type": "execute_result"
    }
   ],
   "source": [
    "test_data.head()"
   ]
  },
  {
   "cell_type": "code",
   "execution_count": 42,
   "metadata": {
    "id": "2NR-_bknBp-9"
   },
   "outputs": [],
   "source": [
    "## Load Features and model weight\n",
    "train_features = joblib.load(\"./model_features/train_features.joblib\")\n",
    "\n",
    "model = joblib.load(\"./model_weights/my_random_forest.joblib\")\n"
   ]
  },
  {
   "cell_type": "code",
   "execution_count": 43,
   "metadata": {
    "id": "vjBigajfArp5"
   },
   "outputs": [],
   "source": [
    "test_data_features = test_data[train_features]"
   ]
  },
  {
   "cell_type": "code",
   "execution_count": 44,
   "metadata": {
    "colab": {
     "base_uri": "https://localhost:8080/"
    },
    "id": "KbSe7yg1B7UB",
    "outputId": "176151f8-f73f-48bf-c9e6-2be04794124f"
   },
   "outputs": [
    {
     "name": "stderr",
     "output_type": "stream",
     "text": [
      "/var/folders/h7/7cnm33m55zqb3ckcp7485gfw0000gn/T/ipykernel_98123/3385524260.py:1: SettingWithCopyWarning: \n",
      "A value is trying to be set on a copy of a slice from a DataFrame\n",
      "\n",
      "See the caveats in the documentation: https://pandas.pydata.org/pandas-docs/stable/user_guide/indexing.html#returning-a-view-versus-a-copy\n",
      "  test_data_features.fillna(0,inplace = True)\n"
     ]
    }
   ],
   "source": [
    "test_data_features.fillna(0,inplace = True)"
   ]
  },
  {
   "cell_type": "code",
   "execution_count": 45,
   "metadata": {
    "id": "fvlbPro9_1E7"
   },
   "outputs": [],
   "source": [
    "y_prediction = model.predict(test_data_features)\n",
    "y_prediction_label = le.inverse_transform(y_prediction)\n",
    "test_data['Prediction_label'] = y_prediction_label"
   ]
  },
  {
   "cell_type": "code",
   "execution_count": 46,
   "metadata": {
    "colab": {
     "base_uri": "https://localhost:8080/",
     "height": 317
    },
    "id": "2PdRdawoCmTp",
    "outputId": "574b153d-3b77-4c58-cdde-901261b8d2e6"
   },
   "outputs": [
    {
     "data": {
      "text/html": [
       "<div>\n",
       "<style scoped>\n",
       "    .dataframe tbody tr th:only-of-type {\n",
       "        vertical-align: middle;\n",
       "    }\n",
       "\n",
       "    .dataframe tbody tr th {\n",
       "        vertical-align: top;\n",
       "    }\n",
       "\n",
       "    .dataframe thead th {\n",
       "        text-align: right;\n",
       "    }\n",
       "</style>\n",
       "<table border=\"1\" class=\"dataframe\">\n",
       "  <thead>\n",
       "    <tr style=\"text-align: right;\">\n",
       "      <th></th>\n",
       "      <th>tBodyAcc-mean()-X</th>\n",
       "      <th>tBodyAcc-mean()-Y</th>\n",
       "      <th>tBodyAcc-mean()-Z</th>\n",
       "      <th>tBodyAcc-std()-X</th>\n",
       "      <th>tBodyAcc-std()-Y</th>\n",
       "      <th>tBodyAcc-std()-Z</th>\n",
       "      <th>tBodyAcc-mad()-X</th>\n",
       "      <th>tBodyAcc-mad()-Y</th>\n",
       "      <th>tBodyAcc-mad()-Z</th>\n",
       "      <th>tBodyAcc-max()-X</th>\n",
       "      <th>...</th>\n",
       "      <th>fBodyBodyGyroJerkMag-skewness()</th>\n",
       "      <th>fBodyBodyGyroJerkMag-kurtosis()</th>\n",
       "      <th>angle(tBodyAccMean,gravity)</th>\n",
       "      <th>angle(tBodyAccJerkMean),gravityMean)</th>\n",
       "      <th>angle(tBodyGyroMean,gravityMean)</th>\n",
       "      <th>angle(tBodyGyroJerkMean,gravityMean)</th>\n",
       "      <th>angle(X,gravityMean)</th>\n",
       "      <th>angle(Y,gravityMean)</th>\n",
       "      <th>angle(Z,gravityMean)</th>\n",
       "      <th>Prediction_label</th>\n",
       "    </tr>\n",
       "  </thead>\n",
       "  <tbody>\n",
       "    <tr>\n",
       "      <th>0</th>\n",
       "      <td>0.288585</td>\n",
       "      <td>-0.020294</td>\n",
       "      <td>-0.132905</td>\n",
       "      <td>-0.995279</td>\n",
       "      <td>-0.983111</td>\n",
       "      <td>-0.913526</td>\n",
       "      <td>-0.995112</td>\n",
       "      <td>-0.983185</td>\n",
       "      <td>-0.923527</td>\n",
       "      <td>-0.934724</td>\n",
       "      <td>...</td>\n",
       "      <td>-0.298676</td>\n",
       "      <td>-0.710304</td>\n",
       "      <td>-0.112754</td>\n",
       "      <td>0.030400</td>\n",
       "      <td>-0.464761</td>\n",
       "      <td>-0.018446</td>\n",
       "      <td>-0.841247</td>\n",
       "      <td>0.179941</td>\n",
       "      <td>-0.058627</td>\n",
       "      <td>STANDING</td>\n",
       "    </tr>\n",
       "    <tr>\n",
       "      <th>1</th>\n",
       "      <td>0.278419</td>\n",
       "      <td>-0.016411</td>\n",
       "      <td>-0.123520</td>\n",
       "      <td>-0.998245</td>\n",
       "      <td>-0.975300</td>\n",
       "      <td>-0.960322</td>\n",
       "      <td>-0.998807</td>\n",
       "      <td>-0.974914</td>\n",
       "      <td>-0.957686</td>\n",
       "      <td>-0.943068</td>\n",
       "      <td>...</td>\n",
       "      <td>-0.595051</td>\n",
       "      <td>-0.861499</td>\n",
       "      <td>0.053477</td>\n",
       "      <td>-0.007435</td>\n",
       "      <td>-0.732626</td>\n",
       "      <td>0.703511</td>\n",
       "      <td>-0.844788</td>\n",
       "      <td>0.180289</td>\n",
       "      <td>-0.054317</td>\n",
       "      <td>STANDING</td>\n",
       "    </tr>\n",
       "    <tr>\n",
       "      <th>2</th>\n",
       "      <td>0.279653</td>\n",
       "      <td>-0.019467</td>\n",
       "      <td>-0.113462</td>\n",
       "      <td>-0.995380</td>\n",
       "      <td>-0.967187</td>\n",
       "      <td>-0.978944</td>\n",
       "      <td>-0.996520</td>\n",
       "      <td>-0.963668</td>\n",
       "      <td>-0.977469</td>\n",
       "      <td>-0.938692</td>\n",
       "      <td>...</td>\n",
       "      <td>-0.390748</td>\n",
       "      <td>-0.760104</td>\n",
       "      <td>-0.118559</td>\n",
       "      <td>0.177899</td>\n",
       "      <td>0.100699</td>\n",
       "      <td>0.808529</td>\n",
       "      <td>-0.848933</td>\n",
       "      <td>0.180637</td>\n",
       "      <td>-0.049118</td>\n",
       "      <td>STANDING</td>\n",
       "    </tr>\n",
       "    <tr>\n",
       "      <th>3</th>\n",
       "      <td>0.279174</td>\n",
       "      <td>-0.026201</td>\n",
       "      <td>-0.123283</td>\n",
       "      <td>-0.996091</td>\n",
       "      <td>-0.983403</td>\n",
       "      <td>-0.990675</td>\n",
       "      <td>-0.997099</td>\n",
       "      <td>-0.982750</td>\n",
       "      <td>-0.989302</td>\n",
       "      <td>-0.938692</td>\n",
       "      <td>...</td>\n",
       "      <td>-0.117290</td>\n",
       "      <td>-0.482845</td>\n",
       "      <td>-0.036788</td>\n",
       "      <td>-0.012892</td>\n",
       "      <td>0.640011</td>\n",
       "      <td>-0.485366</td>\n",
       "      <td>-0.848649</td>\n",
       "      <td>0.181935</td>\n",
       "      <td>-0.047663</td>\n",
       "      <td>STANDING</td>\n",
       "    </tr>\n",
       "    <tr>\n",
       "      <th>4</th>\n",
       "      <td>0.276629</td>\n",
       "      <td>-0.016570</td>\n",
       "      <td>-0.115362</td>\n",
       "      <td>-0.998139</td>\n",
       "      <td>-0.980817</td>\n",
       "      <td>-0.990482</td>\n",
       "      <td>-0.998321</td>\n",
       "      <td>-0.979672</td>\n",
       "      <td>-0.990441</td>\n",
       "      <td>-0.942469</td>\n",
       "      <td>...</td>\n",
       "      <td>-0.351471</td>\n",
       "      <td>-0.699205</td>\n",
       "      <td>0.123320</td>\n",
       "      <td>0.122542</td>\n",
       "      <td>0.693578</td>\n",
       "      <td>-0.615971</td>\n",
       "      <td>-0.847865</td>\n",
       "      <td>0.185151</td>\n",
       "      <td>-0.043892</td>\n",
       "      <td>STANDING</td>\n",
       "    </tr>\n",
       "  </tbody>\n",
       "</table>\n",
       "<p>5 rows × 562 columns</p>\n",
       "</div>"
      ],
      "text/plain": [
       "   tBodyAcc-mean()-X  tBodyAcc-mean()-Y  tBodyAcc-mean()-Z  tBodyAcc-std()-X  \\\n",
       "0           0.288585          -0.020294          -0.132905         -0.995279   \n",
       "1           0.278419          -0.016411          -0.123520         -0.998245   \n",
       "2           0.279653          -0.019467          -0.113462         -0.995380   \n",
       "3           0.279174          -0.026201          -0.123283         -0.996091   \n",
       "4           0.276629          -0.016570          -0.115362         -0.998139   \n",
       "\n",
       "   tBodyAcc-std()-Y  tBodyAcc-std()-Z  tBodyAcc-mad()-X  tBodyAcc-mad()-Y  \\\n",
       "0         -0.983111         -0.913526         -0.995112         -0.983185   \n",
       "1         -0.975300         -0.960322         -0.998807         -0.974914   \n",
       "2         -0.967187         -0.978944         -0.996520         -0.963668   \n",
       "3         -0.983403         -0.990675         -0.997099         -0.982750   \n",
       "4         -0.980817         -0.990482         -0.998321         -0.979672   \n",
       "\n",
       "   tBodyAcc-mad()-Z  tBodyAcc-max()-X  ...  fBodyBodyGyroJerkMag-skewness()  \\\n",
       "0         -0.923527         -0.934724  ...                        -0.298676   \n",
       "1         -0.957686         -0.943068  ...                        -0.595051   \n",
       "2         -0.977469         -0.938692  ...                        -0.390748   \n",
       "3         -0.989302         -0.938692  ...                        -0.117290   \n",
       "4         -0.990441         -0.942469  ...                        -0.351471   \n",
       "\n",
       "   fBodyBodyGyroJerkMag-kurtosis()  angle(tBodyAccMean,gravity)  \\\n",
       "0                        -0.710304                    -0.112754   \n",
       "1                        -0.861499                     0.053477   \n",
       "2                        -0.760104                    -0.118559   \n",
       "3                        -0.482845                    -0.036788   \n",
       "4                        -0.699205                     0.123320   \n",
       "\n",
       "   angle(tBodyAccJerkMean),gravityMean)  angle(tBodyGyroMean,gravityMean)  \\\n",
       "0                              0.030400                         -0.464761   \n",
       "1                             -0.007435                         -0.732626   \n",
       "2                              0.177899                          0.100699   \n",
       "3                             -0.012892                          0.640011   \n",
       "4                              0.122542                          0.693578   \n",
       "\n",
       "   angle(tBodyGyroJerkMean,gravityMean)  angle(X,gravityMean)  \\\n",
       "0                             -0.018446             -0.841247   \n",
       "1                              0.703511             -0.844788   \n",
       "2                              0.808529             -0.848933   \n",
       "3                             -0.485366             -0.848649   \n",
       "4                             -0.615971             -0.847865   \n",
       "\n",
       "   angle(Y,gravityMean)  angle(Z,gravityMean)  Prediction_label  \n",
       "0              0.179941             -0.058627          STANDING  \n",
       "1              0.180289             -0.054317          STANDING  \n",
       "2              0.180637             -0.049118          STANDING  \n",
       "3              0.181935             -0.047663          STANDING  \n",
       "4              0.185151             -0.043892          STANDING  \n",
       "\n",
       "[5 rows x 562 columns]"
      ]
     },
     "execution_count": 46,
     "metadata": {},
     "output_type": "execute_result"
    }
   ],
   "source": [
    "test_data.head()"
   ]
  },
  {
   "cell_type": "code",
   "execution_count": 47,
   "metadata": {},
   "outputs": [
    {
     "data": {
      "text/plain": [
       "Prediction_label\n",
       "LAYING                1944\n",
       "STANDING              1868\n",
       "SITTING               1814\n",
       "WALKING               1708\n",
       "WALKING_UPSTAIRS      1556\n",
       "WALKING_DOWNSTAIRS    1409\n",
       "Name: count, dtype: int64"
      ]
     },
     "execution_count": 47,
     "metadata": {},
     "output_type": "execute_result"
    }
   ],
   "source": [
    "test_data['Prediction_label'].value_counts()"
   ]
  },
  {
   "cell_type": "markdown",
   "metadata": {
    "id": "9LwA85fW_aiw"
   },
   "source": [
    "## End"
   ]
  },
  {
   "cell_type": "code",
   "execution_count": null,
   "metadata": {},
   "outputs": [],
   "source": []
  }
 ],
 "metadata": {
  "colab": {
   "include_colab_link": true,
   "provenance": []
  },
  "kernelspec": {
   "display_name": "Python 3 (ipykernel)",
   "language": "python",
   "name": "python3"
  },
  "language_info": {
   "codemirror_mode": {
    "name": "ipython",
    "version": 3
   },
   "file_extension": ".py",
   "mimetype": "text/x-python",
   "name": "python",
   "nbconvert_exporter": "python",
   "pygments_lexer": "ipython3",
   "version": "3.9.13"
  }
 },
 "nbformat": 4,
 "nbformat_minor": 1
}